{
  "nbformat": 4,
  "nbformat_minor": 0,
  "metadata": {
    "colab": {
      "name": "Final.ipynb",
      "provenance": [],
      "collapsed_sections": [],
      "include_colab_link": true
    },
    "kernelspec": {
      "name": "python3",
      "display_name": "Python 3"
    },
    "widgets": {
      "application/vnd.jupyter.widget-state+json": {
        "2c405abd7ff94a6890ab35fa5171469e": {
          "model_module": "@jupyter-widgets/controls",
          "model_name": "VBoxModel",
          "state": {
            "_view_name": "VBoxView",
            "_dom_classes": [],
            "_model_name": "VBoxModel",
            "_view_module": "@jupyter-widgets/controls",
            "_model_module_version": "1.5.0",
            "_view_count": null,
            "_view_module_version": "1.5.0",
            "box_style": "",
            "layout": "IPY_MODEL_d2569500c4ec422f8fbfd253f4f120d8",
            "_model_module": "@jupyter-widgets/controls",
            "children": [
              "IPY_MODEL_7415daf3b8964e2d88b6e1ad70e061ed",
              "IPY_MODEL_a4ed04ea9a5f4e8a9a09ed0c0ef1d37a"
            ]
          }
        },
        "d2569500c4ec422f8fbfd253f4f120d8": {
          "model_module": "@jupyter-widgets/base",
          "model_name": "LayoutModel",
          "state": {
            "_view_name": "LayoutView",
            "grid_template_rows": null,
            "right": null,
            "justify_content": null,
            "_view_module": "@jupyter-widgets/base",
            "overflow": null,
            "_model_module_version": "1.2.0",
            "_view_count": null,
            "flex_flow": null,
            "width": null,
            "min_width": null,
            "border": null,
            "align_items": null,
            "bottom": null,
            "_model_module": "@jupyter-widgets/base",
            "top": null,
            "grid_column": null,
            "overflow_y": null,
            "overflow_x": null,
            "grid_auto_flow": null,
            "grid_area": null,
            "grid_template_columns": null,
            "flex": null,
            "_model_name": "LayoutModel",
            "justify_items": null,
            "grid_row": null,
            "max_height": null,
            "align_content": null,
            "visibility": null,
            "align_self": null,
            "height": null,
            "min_height": null,
            "padding": null,
            "grid_auto_rows": null,
            "grid_gap": null,
            "max_width": null,
            "order": null,
            "_view_module_version": "1.2.0",
            "grid_template_areas": null,
            "object_position": null,
            "object_fit": null,
            "grid_auto_columns": null,
            "margin": null,
            "display": null,
            "left": null
          }
        },
        "7415daf3b8964e2d88b6e1ad70e061ed": {
          "model_module": "@jupyter-widgets/controls",
          "model_name": "LabelModel",
          "state": {
            "_view_name": "LabelView",
            "style": "IPY_MODEL_6e5e5b22d10c4e48a54477ea4adf1ba1",
            "_dom_classes": [],
            "description": "",
            "_model_name": "LabelModel",
            "placeholder": "​",
            "_view_module": "@jupyter-widgets/controls",
            "_model_module_version": "1.5.0",
            "value": " 0.01MB of 0.01MB uploaded (0.00MB deduped)\r",
            "_view_count": null,
            "_view_module_version": "1.5.0",
            "description_tooltip": null,
            "_model_module": "@jupyter-widgets/controls",
            "layout": "IPY_MODEL_f7e664c3c2b243f7afd01ad872cfd161"
          }
        },
        "a4ed04ea9a5f4e8a9a09ed0c0ef1d37a": {
          "model_module": "@jupyter-widgets/controls",
          "model_name": "FloatProgressModel",
          "state": {
            "_view_name": "ProgressView",
            "style": "IPY_MODEL_55020ffef7904acdbfb11f45fe4ab1f3",
            "_dom_classes": [],
            "description": "",
            "_model_name": "FloatProgressModel",
            "bar_style": "",
            "max": 1,
            "_view_module": "@jupyter-widgets/controls",
            "_model_module_version": "1.5.0",
            "value": 1,
            "_view_count": null,
            "_view_module_version": "1.5.0",
            "orientation": "horizontal",
            "min": 0,
            "description_tooltip": null,
            "_model_module": "@jupyter-widgets/controls",
            "layout": "IPY_MODEL_7fadc81f0c3f42a4a034a0c23aa506a5"
          }
        },
        "6e5e5b22d10c4e48a54477ea4adf1ba1": {
          "model_module": "@jupyter-widgets/controls",
          "model_name": "DescriptionStyleModel",
          "state": {
            "_view_name": "StyleView",
            "_model_name": "DescriptionStyleModel",
            "description_width": "",
            "_view_module": "@jupyter-widgets/base",
            "_model_module_version": "1.5.0",
            "_view_count": null,
            "_view_module_version": "1.2.0",
            "_model_module": "@jupyter-widgets/controls"
          }
        },
        "f7e664c3c2b243f7afd01ad872cfd161": {
          "model_module": "@jupyter-widgets/base",
          "model_name": "LayoutModel",
          "state": {
            "_view_name": "LayoutView",
            "grid_template_rows": null,
            "right": null,
            "justify_content": null,
            "_view_module": "@jupyter-widgets/base",
            "overflow": null,
            "_model_module_version": "1.2.0",
            "_view_count": null,
            "flex_flow": null,
            "width": null,
            "min_width": null,
            "border": null,
            "align_items": null,
            "bottom": null,
            "_model_module": "@jupyter-widgets/base",
            "top": null,
            "grid_column": null,
            "overflow_y": null,
            "overflow_x": null,
            "grid_auto_flow": null,
            "grid_area": null,
            "grid_template_columns": null,
            "flex": null,
            "_model_name": "LayoutModel",
            "justify_items": null,
            "grid_row": null,
            "max_height": null,
            "align_content": null,
            "visibility": null,
            "align_self": null,
            "height": null,
            "min_height": null,
            "padding": null,
            "grid_auto_rows": null,
            "grid_gap": null,
            "max_width": null,
            "order": null,
            "_view_module_version": "1.2.0",
            "grid_template_areas": null,
            "object_position": null,
            "object_fit": null,
            "grid_auto_columns": null,
            "margin": null,
            "display": null,
            "left": null
          }
        },
        "55020ffef7904acdbfb11f45fe4ab1f3": {
          "model_module": "@jupyter-widgets/controls",
          "model_name": "ProgressStyleModel",
          "state": {
            "_view_name": "StyleView",
            "_model_name": "ProgressStyleModel",
            "description_width": "",
            "_view_module": "@jupyter-widgets/base",
            "_model_module_version": "1.5.0",
            "_view_count": null,
            "_view_module_version": "1.2.0",
            "bar_color": null,
            "_model_module": "@jupyter-widgets/controls"
          }
        },
        "7fadc81f0c3f42a4a034a0c23aa506a5": {
          "model_module": "@jupyter-widgets/base",
          "model_name": "LayoutModel",
          "state": {
            "_view_name": "LayoutView",
            "grid_template_rows": null,
            "right": null,
            "justify_content": null,
            "_view_module": "@jupyter-widgets/base",
            "overflow": null,
            "_model_module_version": "1.2.0",
            "_view_count": null,
            "flex_flow": null,
            "width": null,
            "min_width": null,
            "border": null,
            "align_items": null,
            "bottom": null,
            "_model_module": "@jupyter-widgets/base",
            "top": null,
            "grid_column": null,
            "overflow_y": null,
            "overflow_x": null,
            "grid_auto_flow": null,
            "grid_area": null,
            "grid_template_columns": null,
            "flex": null,
            "_model_name": "LayoutModel",
            "justify_items": null,
            "grid_row": null,
            "max_height": null,
            "align_content": null,
            "visibility": null,
            "align_self": null,
            "height": null,
            "min_height": null,
            "padding": null,
            "grid_auto_rows": null,
            "grid_gap": null,
            "max_width": null,
            "order": null,
            "_view_module_version": "1.2.0",
            "grid_template_areas": null,
            "object_position": null,
            "object_fit": null,
            "grid_auto_columns": null,
            "margin": null,
            "display": null,
            "left": null
          }
        }
      }
    }
  },
  "cells": [
    {
      "cell_type": "markdown",
      "metadata": {
        "id": "view-in-github",
        "colab_type": "text"
      },
      "source": [
        "<a href=\"https://colab.research.google.com/github/cs20m016/cs6910-Assignment-1/blob/main/GradientDescent_Solution%5B1-7%5D.ipynb\" target=\"_parent\"><img src=\"https://colab.research.google.com/assets/colab-badge.svg\" alt=\"Open In Colab\"/></a>"
      ]
    },
    {
      "cell_type": "code",
      "metadata": {
        "id": "F5UZWXeBlkY1"
      },
      "source": [
        "!pip install wandb -qq\r\n",
        "import wandb"
      ],
      "execution_count": 1,
      "outputs": []
    },
    {
      "cell_type": "code",
      "metadata": {
        "colab": {
          "base_uri": "https://localhost:8080/"
        },
        "id": "eJ2QAY-Hlo2K",
        "outputId": "e206af95-dae8-4f74-c515-a113cbab439b"
      },
      "source": [
        "wandb.login()"
      ],
      "execution_count": 2,
      "outputs": [
        {
          "output_type": "stream",
          "text": [
            "\u001b[34m\u001b[1mwandb\u001b[0m: Currently logged in as: \u001b[33mathirapt\u001b[0m (use `wandb login --relogin` to force relogin)\n"
          ],
          "name": "stderr"
        },
        {
          "output_type": "execute_result",
          "data": {
            "text/plain": [
              "True"
            ]
          },
          "metadata": {
            "tags": []
          },
          "execution_count": 2
        }
      ]
    },
    {
      "cell_type": "code",
      "metadata": {
        "id": "bSFVp0e-lvJV"
      },
      "source": [
        "import numpy as np\r\n",
        "from matplotlib import pyplot as plt\r\n",
        "from matplotlib import gridspec as gridspec\r\n",
        "from random import random\r\n",
        "import math\r\n",
        "from sklearn.utils import shuffle\r\n",
        "from keras.datasets import fashion_mnist\r\n",
        "from sklearn.model_selection import train_test_split\r\n",
        "train_data,test_data=fashion_mnist.load_data()"
      ],
      "execution_count": 3,
      "outputs": []
    },
    {
      "cell_type": "code",
      "metadata": {
        "id": "w9ivSvbblxhr"
      },
      "source": [
        "class_label=['T-shirt/top', 'Trouser', 'Pullover', 'Dress', 'Coat', 'Sandal', 'Shirt', 'Sneaker', 'Bag', 'Ankle boot']"
      ],
      "execution_count": 4,
      "outputs": []
    },
    {
      "cell_type": "code",
      "metadata": {
        "id": "W21n2w9-llWh"
      },
      "source": [
        "def prep_pixels(train, test):\r\n",
        "\t# convert from integers to floats\r\n",
        "\ttrain_norm = train.astype('float32')\r\n",
        "\ttest_norm = test.astype('float32')\r\n",
        "\t# normalize to range 0-1\r\n",
        "\ttrain_norm = train_norm / 255.0\r\n",
        "\ttest_norm = test_norm / 255.0\r\n",
        "\t# return normalized images\r\n",
        "\treturn train_norm, test_norm"
      ],
      "execution_count": 5,
      "outputs": []
    },
    {
      "cell_type": "code",
      "metadata": {
        "id": "zhE-ORSil0mJ"
      },
      "source": [
        "train_Xi, trainy= train_data\r\n",
        "test_Xi, testY = test_data\r\n",
        "train_X,test_X=prep_pixels(train_Xi,test_Xi)\r\n",
        "train_X, trainy = shuffle(train_X, trainy)\r\n",
        "test_X, testY = shuffle(test_X, testY)"
      ],
      "execution_count": 6,
      "outputs": []
    },
    {
      "cell_type": "code",
      "metadata": {
        "id": "-xAjqf7jl3PB"
      },
      "source": [
        "sample=[]\r\n",
        "for label in range(10):\r\n",
        "    for i in range(len(testY)):\r\n",
        "        if label==testY[i]:\r\n",
        "            sample.append(test_X[i])\r\n",
        "            break\r\n",
        "#No of classes\r\n",
        "K=len(sample)"
      ],
      "execution_count": 7,
      "outputs": []
    },
    {
      "cell_type": "code",
      "metadata": {
        "colab": {
          "base_uri": "https://localhost:8080/",
          "height": 118
        },
        "id": "qS-qO-2Ol6BM",
        "outputId": "5ea81a12-a6c2-4c28-b0ea-6b92eca3917b"
      },
      "source": [
        "fig=plt.figure(figsize=(15,15))\r\n",
        "rows=1\r\n",
        "columns=10\r\n",
        "for i in range(1, columns*rows +1):\r\n",
        "    tg=sample[i-1]\r\n",
        "    ax=fig.add_subplot(rows, columns, i)\r\n",
        "    plt.axis('off')\r\n",
        "    plt.imshow(tg,cmap=plt.cm.binary)\r\n",
        "    ax.title.set_text(class_label[i-1])\r\n",
        "plt.show()"
      ],
      "execution_count": 8,
      "outputs": [
        {
          "output_type": "display_data",
          "data": {
            "image/png": "[encoded data removed]",
            "text/plain": [
              "<Figure size 1080x1080 with 10 Axes>"
            ]
          },
          "metadata": {
            "tags": [],
            "needs_background": "light"
          }
        }
      ]
    },
    {
      "cell_type": "code",
      "metadata": {
        "colab": {
          "base_uri": "https://localhost:8080/",
          "height": 156
        },
        "id": "evwgB4PLl9b0",
        "outputId": "4259f162-e3f3-4640-d3a3-ad269ccd4800"
      },
      "source": [
        "wandb.init(project=\"demo\")\r\n",
        "wandb.log({\"Examples\": [wandb.Image(img, caption=cap) for img,cap in zip(sample,class_label)]})"
      ],
      "execution_count": 46,
      "outputs": [
        {
          "output_type": "stream",
          "text": [
            "\u001b[34m\u001b[1mwandb\u001b[0m: \u001b[33mWARNING\u001b[0m Ignored wandb.init() arg project when running a sweep\n"
          ],
          "name": "stderr"
        },
        {
          "output_type": "display_data",
          "data": {
            "text/html": [
              "\n",
              "                Tracking run with wandb version 0.10.22<br/>\n",
              "                Syncing run <strong style=\"color:#cdcd00\">firm-sweep-2</strong> to <a href=\"https://wandb.ai\" target=\"_blank\">Weights & Biases</a> <a href=\"https://docs.wandb.com/integrations/jupyter.html\" target=\"_blank\">(Documentation)</a>.<br/>\n",
              "                Project page: <a href=\"https://wandb.ai/athirapt/A1\" target=\"_blank\">https://wandb.ai/athirapt/A1</a><br/>\n",
              "                Sweep page: <a href=\"https://wandb.ai/athirapt/A1/sweeps/ligpplau\" target=\"_blank\">https://wandb.ai/athirapt/A1/sweeps/ligpplau</a><br/>\n",
              "Run page: <a href=\"https://wandb.ai/athirapt/A1/runs/tkba3uq1\" target=\"_blank\">https://wandb.ai/athirapt/A1/runs/tkba3uq1</a><br/>\n",
              "                Run data is saved locally in <code>/content/wandb/run-20210314_073326-tkba3uq1</code><br/><br/>\n",
              "            "
            ],
            "text/plain": [
              "<IPython.core.display.HTML object>"
            ]
          },
          "metadata": {
            "tags": []
          }
        }
      ]
    },
    {
      "cell_type": "code",
      "metadata": {
        "id": "ArO4YTSZmA7A"
      },
      "source": [
        "trainx=[train_X[i].flatten() for i in range(len(train_X))]\r\n",
        "testX=[test_X[i].flatten() for i in range(len(test_X))]\r\n",
        "xlen=len(trainx[0])"
      ],
      "execution_count": 9,
      "outputs": []
    },
    {
      "cell_type": "code",
      "metadata": {
        "colab": {
          "base_uri": "https://localhost:8080/"
        },
        "id": "h2YWh-NamDS3",
        "outputId": "21ac36d0-6889-49bd-c773-d5c22f23c6a7"
      },
      "source": [
        "trainX,validX,trainY,validY=train_test_split(trainx,trainy,test_size = 0.1,train_size =0.9)\r\n",
        "train_samples=len(trainX)\r\n",
        "valid_samples=len(validX)\r\n",
        "test_samples=len(testX)\r\n",
        "print('Train:',np.shape(trainX),np.shape(trainY))\r\n",
        "print('Valid:',np.shape(validX),np.shape(validY))\r\n",
        "print('Test:',np.shape(testX),np.shape(testY))"
      ],
      "execution_count": 10,
      "outputs": [
        {
          "output_type": "stream",
          "text": [
            "Train: (54000, 784) (54000,)\n",
            "Valid: (6000, 784) (6000,)\n",
            "Test: (10000, 784) (10000,)\n"
          ],
          "name": "stdout"
        }
      ]
    },
    {
      "cell_type": "code",
      "metadata": {
        "id": "kBW89985mF8e"
      },
      "source": [
        "def initialize_weights_random(n_input, n_hidden_layer, n_output,neurons_hl):\r\n",
        "    W = list()\r\n",
        "    W.append([[np.random.normal() for j in range(n_input)]for i in range(neurons_hl)])\r\n",
        "    for i in range(n_hidden_layer-1):\r\n",
        "        W.append([[np.random.normal() for j in range(neurons_hl)]for i in range(neurons_hl)])\r\n",
        "    W.append([[np.random.normal() for j in range(neurons_hl)]for i in range(n_output)])\r\n",
        "    return W\r\n",
        "\r\n",
        "\r\n",
        "def initialize_bias_random(n_input, n_hidden_layer, n_output,neurons_hl):\r\n",
        "    B=list()\r\n",
        "    for i in range(n_hidden_layer):\r\n",
        "        B.append([np.random.normal() for i in range(neurons_hl)])\r\n",
        "    B.append([np.random.normal() for i in range(n_output)])\r\n",
        "    return B\r\n",
        "\r\n",
        "\r\n",
        "def initialize_weights_xavier(n_input, n_hidden_layer, n_output,neurons_hl):\r\n",
        "    W = list()\r\n",
        "    W.append([[np.random.normal(0,1/n_input) for j in range(n_input)]for i in range(neurons_hl)])\r\n",
        "    for i in range(n_hidden_layer-1):\r\n",
        "        W.append([[np.random.normal(0,1/neurons_hl) for j in range(neurons_hl)]for i in range(neurons_hl)])\r\n",
        "    W.append([[np.random.normal(0,1/neurons_hl) for j in range(neurons_hl)]for i in range(n_output)])\r\n",
        "    return W\r\n",
        "\r\n",
        "\r\n",
        "def initialize_bias_xavier(n_input, n_hidden_layer, n_output,neurons_hl):\r\n",
        "    B=list()\r\n",
        "    for i in range(n_hidden_layer):\r\n",
        "        B.append([0 for i in range(neurons_hl)])\r\n",
        "    B.append([0 for i in range(n_output)])\r\n",
        "    return B\r\n",
        "\r\n",
        "def initialize_zero_weights(n_input, n_hidden_layer, n_output,neurons_hl):\r\n",
        "    W = list()\r\n",
        "    W.append([[0 for j in range(n_input)]for i in range(neurons_hl)])\r\n",
        "    for i in range(n_hidden_layer-1):\r\n",
        "        W.append([[0 for j in range(neurons_hl)]for i in range(neurons_hl)])\r\n",
        "    W.append([[0 for j in range(neurons_hl)]for i in range(n_output)])\r\n",
        "    return W\r\n",
        "\r\n",
        "def initialize_zero_bias(n_input, n_hidden_layer, n_output,neurons_hl):\r\n",
        "    B=list()\r\n",
        "    for i in range(n_hidden_layer):\r\n",
        "        B.append([0 for i in range(neurons_hl)])\r\n",
        "    B.append([0 for i in range(n_output)])\r\n",
        "    return B\r\n",
        "\r\n",
        "def initialize(s,n_input, n_hidden_layer, n_output,neurons_hl):\r\n",
        "  if s=='random':\r\n",
        "    W=initialize_weights_random(n_input, n_hidden_layer, n_output,neurons_hl)\r\n",
        "    B=initialize_bias_random(n_input, n_hidden_layer, n_output,neurons_hl)\r\n",
        "  else:\r\n",
        "    W=initialize_weights_xavier(n_input, n_hidden_layer, n_output,neurons_hl)\r\n",
        "    B=initialize_bias_xavier(n_input, n_hidden_layer, n_output,neurons_hl)\r\n",
        "  return W,B"
      ],
      "execution_count": 70,
      "outputs": []
    },
    {
      "cell_type": "code",
      "metadata": {
        "id": "riePCyJLmI1S"
      },
      "source": [
        "def activation(s,b):\r\n",
        "  a=np.array(b,dtype=np.float128)\r\n",
        "  if s=='sigmoid':\r\n",
        "    return sigmoid(a)\r\n",
        "  elif s=='tanh':\r\n",
        "    return tanH(a)\r\n",
        "  elif s=='relu':\r\n",
        "    return reLu(a)\r\n",
        "  return\r\n",
        "\r\n",
        "def diff(s,a):\r\n",
        "  if s=='sigmoid':\r\n",
        "    return diff_sigmoid(a)\r\n",
        "  elif s=='tanh':\r\n",
        "    return diff_tanh(a)\r\n",
        "  elif s=='relu':\r\n",
        "    return diff_relu(a)\r\n",
        "  return\r\n",
        "\r\n",
        "def reLu(b):\r\n",
        "  a=np.array(b,dtype=np.float128)\r\n",
        "  return np.maximum(a,0)\r\n",
        "\r\n",
        "def diff_relu(a):\r\n",
        "  res=list()\r\n",
        "  for el in a:\r\n",
        "    if el<0:\r\n",
        "      res.append(0)\r\n",
        "    else:\r\n",
        "      res.append(1)\r\n",
        "  return res\r\n",
        "\r\n",
        "def tanH(b):\r\n",
        "  a=np.array(b,dtype=np.float128)\r\n",
        "  res=list()\r\n",
        "  res=np.tanh(a)\r\n",
        "  return res\r\n",
        "\r\n",
        "def diff_tanh(a):\r\n",
        "  res=list()\r\n",
        "  for el in a:\r\n",
        "    res.append(1-(np.tanh(el))**2)\r\n",
        "  return res\r\n",
        "\r\n",
        "def sigmoid(b):\r\n",
        "  a=np.array(b,dtype=np.float128)\r\n",
        "  h=list()\r\n",
        "  for el in a:\r\n",
        "    z=1/(1+math.exp(-el))\r\n",
        "    h.append(z)\r\n",
        "  return h\r\n",
        "\r\n",
        "def diff_sigmoid(a):\r\n",
        "   res=list()\r\n",
        "   for el in a:\r\n",
        "     res.append(cmp(el))\r\n",
        "   return res\r\n",
        "\r\n",
        "def cmp(e):\r\n",
        "  g=1/(1+np.exp(-e))\r\n",
        "  return g*(1-g)"
      ],
      "execution_count": 69,
      "outputs": []
    },
    {
      "cell_type": "code",
      "metadata": {
        "id": "oKpWJLfKmLtc"
      },
      "source": [
        "def softmax(b):\r\n",
        "  a=np.array(b,dtype=np.float128)\r\n",
        "  z = a - max(a)\r\n",
        "  h=list()\r\n",
        "  sum=0\r\n",
        "  for el in z:\r\n",
        "    sum+=np.exp(el)\r\n",
        "  for el in z:\r\n",
        "    h.append(np.exp(el)/sum)\r\n",
        "  return h"
      ],
      "execution_count": 68,
      "outputs": []
    },
    {
      "cell_type": "code",
      "metadata": {
        "id": "dpk8_5hXshVl"
      },
      "source": [
        "#Wx,Bx=initialize('random',len(trainX[0]),4,10,12)"
      ],
      "execution_count": 15,
      "outputs": []
    },
    {
      "cell_type": "code",
      "metadata": {
        "id": "-JG8Wy7-mewS"
      },
      "source": [
        "def feed_forward(input,W,B,L,actfn):\r\n",
        "    H=list()\r\n",
        "    A=list()\r\n",
        "    H.append(input)\r\n",
        "    A.append([0])\r\n",
        "    for i in range(1,L):\r\n",
        "        a=B[i-1]+np.matmul(W[i-1],H[i-1])\r\n",
        "        A.append(a)\r\n",
        "        h=activation(actfn,a)\r\n",
        "        H.append(h)\r\n",
        "    a=B[L-1]+np.matmul(W[L-1],H[L-1])\r\n",
        "    A.append(a)\r\n",
        "    hL=softmax(a)\r\n",
        "    H.append(hL)\r\n",
        "    return H,A,hL"
      ],
      "execution_count": 67,
      "outputs": []
    },
    {
      "cell_type": "code",
      "metadata": {
        "colab": {
          "base_uri": "https://localhost:8080/"
        },
        "id": "XJDSoqjcsrv8",
        "outputId": "f49663c2-1a46-4a9b-c22c-fe922bf1a015"
      },
      "source": [
        "#Hx,Ax,yx=feed_forward(trainX[992],Wx,Bx,5,'relu')\r\n",
        "#yx"
      ],
      "execution_count": 29,
      "outputs": [
        {
          "output_type": "execute_result",
          "data": {
            "text/plain": [
              "[9.995407703917525128e-165,\n",
              " 3.3968697757736219258e-188,\n",
              " 2.9006000662292798236e-66,\n",
              " 5.7102291685874170087e-72,\n",
              " 1.062573014675372619e-45,\n",
              " 0.9999962695440926427,\n",
              " 7.137532581214464548e-153,\n",
              " 3.7304559073572997942e-06,\n",
              " 7.406013452053108982e-60,\n",
              " 3.764289210012482659e-111]"
            ]
          },
          "metadata": {
            "tags": []
          },
          "execution_count": 29
        }
      ]
    },
    {
      "cell_type": "code",
      "metadata": {
        "id": "ix24_FO8nTna"
      },
      "source": [
        "def back_propogation(H,A,y_hat,label,W,L,actfn):\r\n",
        "    W_grad=list()\r\n",
        "    B_grad=list()\r\n",
        "    one_hot_y=np.zeros(K)\r\n",
        "    one_hot_y[label]+=1\r\n",
        "    ak_grad = y_hat-one_hot_y\r\n",
        "    for k in range(L,0,-1):\r\n",
        "        w_grad=np.matmul(np.matrix(ak_grad).T,np.matrix(H[k-1]))\r\n",
        "        W_grad.append(w_grad)\r\n",
        "        B_grad.append(ak_grad)\r\n",
        "        if k != 1:\r\n",
        "            h_grad=np.matmul(np.transpose(W[k-1]),ak_grad)\r\n",
        "            ak_grad=np.multiply(h_grad,diff(actfn,A[k-1]))\r\n",
        "    return W_grad,B_grad"
      ],
      "execution_count": 66,
      "outputs": []
    },
    {
      "cell_type": "code",
      "metadata": {
        "id": "i-2hgFe5nZq0"
      },
      "source": [
        "def stochastic(L,N,eta,epoch,actfn,initop,decay):\r\n",
        "    e=0\r\n",
        "    error=0.0\r\n",
        "    W,B=initialize(initop,xlen,L-1,K,N)\r\n",
        "    loss=list()\r\n",
        "    while (e<epoch):\r\n",
        "        for i in range(train_samples):\r\n",
        "            H,A,y_hat=feed_forward(trainX[i],W,B,L,actfn)\r\n",
        "            ei=y_hat[trainY[i]]\r\n",
        "            if ei!=0:\r\n",
        "                loss.append(-math.log(ei+1e-7))     \r\n",
        "            W_grad,B_grad=back_propogation(H,A,y_hat,trainY[i],W,L,actfn)\r\n",
        "            W_grad=W_grad[::-1]\r\n",
        "            B_grad=B_grad[::-1]\r\n",
        "            for l in range(L):\r\n",
        "                W[l]=(np.multiply(1-decay,W[l])-np.multiply(eta,W_grad[l])).tolist()\r\n",
        "                B[l]=np.subtract(np.multiply(1-decay,B[l]),np.multiply(eta,B_grad[l])).tolist()       \r\n",
        "        e=e+1\r\n",
        "        wandb.log({'epoch':e})\r\n",
        "        print('Epoch',e)\r\n",
        "    return W,B,loss\r\n",
        "\r\n",
        "def momentum(L,N,eta,batch_size,epoch,actfn,initop,decay):\r\n",
        "    t,e= 0,0\r\n",
        "    W,B=initialize(initop,xlen,L-1,K,N)\r\n",
        "    points= 0\r\n",
        "    error= 0.0\r\n",
        "    gamma= 0.9\r\n",
        "    loss=list()\r\n",
        "    wgrad=list()\r\n",
        "    bgrad=list()\r\n",
        "    for l in range(L):\r\n",
        "        wgrad.append(np.zeros(shape=np.shape(W[l])).tolist())\r\n",
        "        bgrad.append(np.zeros(shape=np.shape(B[l])).tolist())\r\n",
        "    uw=list()\r\n",
        "    ub=list()\r\n",
        "    for l in range(L):\r\n",
        "        uw.append(np.zeros(shape=np.shape(W[l])).tolist())\r\n",
        "        ub.append(np.zeros(shape=np.shape(B[l])).tolist())\r\n",
        "    while (e<epoch):\r\n",
        "        for i in range(train_samples):\r\n",
        "            H,A,y_hat=feed_forward(trainX[i],W,B,L,actfn)\r\n",
        "            ei=y_hat[trainY[i]]\r\n",
        "            if ei!=0:\r\n",
        "                error += -math.log(ei+1e-7)\r\n",
        "            W_grad,B_grad=back_propogation(H,A,y_hat,trainY[i],W,L,actfn)\r\n",
        "            W_grad=W_grad[::-1]\r\n",
        "            B_grad=B_grad[::-1]\r\n",
        "            for l in range(L):\r\n",
        "                wgrad[l]=(np.matrix(wgrad[l])+np.matrix(W_grad[l])).tolist()\r\n",
        "                bgrad[l]=(bgrad[l]+np.multiply(1,B_grad[l])).tolist()\r\n",
        "            points+=1\r\n",
        "            if(points%batch_size==0):\r\n",
        "                points=0\r\n",
        "                t += 1\r\n",
        "                loss.append(error/batch_size)\r\n",
        "                error=0.0\r\n",
        "                for l in range(L):\r\n",
        "                    uw[l]=(np.multiply(gamma,uw[l])+np.multiply(eta,wgrad[l])).tolist()\r\n",
        "                    W[l]=np.subtract(np.multiply(1-decay,W[l]),uw[l]).tolist()\r\n",
        "                    ub[l]=(np.multiply(gamma,ub[l])+np.multiply(eta,bgrad[l])).tolist()\r\n",
        "                    B[l]=np.subtract(np.multiply(1-decay,B[l]),ub[l]).tolist()\r\n",
        "                wgrad=list()\r\n",
        "                bgrad=list()\r\n",
        "                for l in range(L):\r\n",
        "                    wgrad.append(np.zeros(shape=np.shape(W[l])).tolist())\r\n",
        "                    bgrad.append(np.zeros(shape=np.shape(B[l])).tolist())            \r\n",
        "        e=e+1\r\n",
        "        wandb.log({'epoch':e})\r\n",
        "        print('Epoch',e)\r\n",
        "    return W,B,loss\r\n",
        "\r\n",
        "def nesterov(L,N,eta,batch_size,epoch,actfn,initop,decay):\r\n",
        "    e,t=0,0\r\n",
        "    W,B=initialize(initop,xlen,L-1,K,N)\r\n",
        "    loss=list()\r\n",
        "    points=0\r\n",
        "    error=0.0\r\n",
        "    gamma=0.9\r\n",
        "    wgrad=list()\r\n",
        "    bgrad=list()\r\n",
        "    for l in range(L):\r\n",
        "        wgrad.append(np.zeros(shape=np.shape(W[l])).tolist())\r\n",
        "        bgrad.append(np.zeros(shape=np.shape(B[l])).tolist())\r\n",
        "    uw=list()\r\n",
        "    ub=list()\r\n",
        "    for l in range(L):\r\n",
        "        uw.append(np.zeros(shape=np.shape(W[l])).tolist())\r\n",
        "        ub.append(np.zeros(shape=np.shape(B[l])).tolist())\r\n",
        "    while (e<epoch):\r\n",
        "        for i in range(train_samples):\r\n",
        "            Wc=list()\r\n",
        "            Bc=list()\r\n",
        "            for l in range(L):\r\n",
        "                Wc.append((W[l]-np.multiply(gamma,uw[l])).tolist())\r\n",
        "                Bc.append((B[l]-np.multiply(gamma,ub[l])).tolist())\r\n",
        "            H,A,y_hat=feed_forward(trainX[i],W,B,L,actfn)\r\n",
        "            ei=y_hat[trainY[i]]\r\n",
        "            if ei!=0:\r\n",
        "                error += -math.log(ei+1e-7)\r\n",
        "            Hi,Ai,y_hati=feed_forward(trainX[i],Wc,Bc,L,actfn)\r\n",
        "            W_grad,B_grad=back_propogation(Hi,Ai,y_hati,trainY[i],Wc,L,actfn)\r\n",
        "            W_grad=W_grad[::-1]\r\n",
        "            B_grad=B_grad[::-1]\r\n",
        "            for l in range(L):\r\n",
        "                wgrad[l]=(np.matrix(wgrad[l])+np.matrix(W_grad[l])).tolist()\r\n",
        "                bgrad[l]=(bgrad[l]+np.multiply(1,B_grad[l])).tolist()\r\n",
        "            points+=1\r\n",
        "            if(points%batch_size==0):\r\n",
        "                points=0\r\n",
        "                t += 1\r\n",
        "                loss.append(error/batch_size)\r\n",
        "                error=0.0\r\n",
        "                for l in range(L):\r\n",
        "                    uw[l]=(np.multiply(gamma,uw[l])+np.multiply(eta,wgrad[l])).tolist()\r\n",
        "                    W[l]=np.subtract(np.multiply(1-decay,W[l]),uw[l]).tolist()\r\n",
        "                    ub[l]=(np.multiply(gamma,ub[l])+np.multiply(eta,bgrad[l])).tolist()\r\n",
        "                    B[l]=np.subtract(np.multiply(1-decay,B[l]),ub[l]).tolist()\r\n",
        "                wgrad=list()\r\n",
        "                bgrad=list()\r\n",
        "                for l in range(L):\r\n",
        "                    wgrad.append(np.zeros(shape=np.shape(W[l])).tolist())\r\n",
        "                    bgrad.append(np.zeros(shape=np.shape(B[l])).tolist())         \r\n",
        "        e=e+1\r\n",
        "        wandb.log({'epoch':e})\r\n",
        "        print('Epoch',e)\r\n",
        "    return W,B,loss\r\n",
        "\r\n",
        "def rmsprop(L,N,eta,batch_size,epoch,actfn,initop,decay):\r\n",
        "    t=0\r\n",
        "    W,B=initialize(initop,xlen,L-1,K,N)\r\n",
        "    loss=list()\r\n",
        "    points=0\r\n",
        "    error=0.0\r\n",
        "    epsilon=1e-10\r\n",
        "    beta=0.98\r\n",
        "    wgrad=list()\r\n",
        "    bgrad=list()\r\n",
        "    for l in range(L):\r\n",
        "        wgrad.append(np.zeros(shape=np.shape(W[l])).tolist())\r\n",
        "        bgrad.append(np.zeros(shape=np.shape(B[l])).tolist())\r\n",
        "    v_w=list()\r\n",
        "    v_b=list()\r\n",
        "    for l in range(L):\r\n",
        "        v_w.append(np.zeros(shape=np.shape(W[l])).tolist())\r\n",
        "        v_b.append(np.zeros(shape=np.shape(B[l])).tolist())\r\n",
        "    while (t<epoch):\r\n",
        "        for i in range(train_samples):\r\n",
        "            H,A,y_hat=feed_forward(trainX[i],W,B,L,actfn)\r\n",
        "            ei=y_hat[trainY[i]]\r\n",
        "            if ei!=0:\r\n",
        "                error += -math.log(ei+1e-7)\r\n",
        "            W_grad,B_grad=back_propogation(H,A,y_hat,trainY[i],W,L,actfn)\r\n",
        "            W_grad=W_grad[::-1]\r\n",
        "            B_grad=B_grad[::-1]\r\n",
        "            for l in range(L):\r\n",
        "                wgrad[l]=(np.matrix(wgrad[l])+np.matrix(W_grad[l])).tolist()\r\n",
        "                bgrad[l]=(bgrad[l]+np.multiply(1,B_grad[l])).tolist()\r\n",
        "            points+=1\r\n",
        "            if(points%batch_size==0):\r\n",
        "                points=0\r\n",
        "                loss.append(error/batch_size)\r\n",
        "                error=0.0\r\n",
        "                for l in range(L):\r\n",
        "                    v_w[l]=(np.multiply(beta,v_w[l])+np.multiply((1-beta),np.square(wgrad[l]))).tolist()\r\n",
        "                    tmp=v_w[l].copy()\r\n",
        "                    new_t=np.add(epsilon,tmp).tolist()\r\n",
        "                    rl=np.reciprocal([[float(j) for j in i] for i in np.sqrt(new_t)]).tolist()\r\n",
        "                    W[l]=(np.multiply(1-decay,W[l])-np.multiply(wgrad[l],np.multiply(eta,rl))).tolist()\r\n",
        "                    v_b[l]=(np.multiply(beta,v_b[l])+np.multiply((1-beta),np.square(bgrad[l]))).tolist()\r\n",
        "                    tmp1=v_b[l].copy()\r\n",
        "                    new_t1=np.add(epsilon,tmp1).tolist()\r\n",
        "                    rl1=np.reciprocal([float(i) for i in np.sqrt(new_t1)]).tolist()\r\n",
        "                    B[l]=np.subtract(np.multiply(1-decay,B[l]),np.multiply(bgrad[l],np.multiply(eta,rl1))).tolist()\r\n",
        "                wgrad=list()\r\n",
        "                bgrad=list()\r\n",
        "                for l in range(L):\r\n",
        "                    wgrad.append(np.zeros(shape=np.shape(W[l])).tolist())\r\n",
        "                    bgrad.append(np.zeros(shape=np.shape(B[l])).tolist())            \r\n",
        "        t=t+1\r\n",
        "        wandb.log({'epoch':t})\r\n",
        "        print('Epoch',t)\r\n",
        "    return W,B,loss\r\n",
        "\r\n",
        "def adam(L,N,eta,batch_size,epoch,actfn,initop,decay):\r\n",
        "    t,e=0,0\r\n",
        "    W,B=initialize(initop,xlen,L-1,K,N)\r\n",
        "    loss=list()\r\n",
        "    points=0\r\n",
        "    error=0.0\r\n",
        "    epsilon=1e-10\r\n",
        "    beta1=0.9\r\n",
        "    beta2=0.999\r\n",
        "    wgrad=list()\r\n",
        "    bgrad=list()\r\n",
        "    for l in range(L):\r\n",
        "        wgrad.append(np.zeros(shape=np.shape(W[l])).tolist())\r\n",
        "        bgrad.append(np.zeros(shape=np.shape(B[l])).tolist())\r\n",
        "    v_w=list()\r\n",
        "    v_b=list()\r\n",
        "    for l in range(L):\r\n",
        "        v_w.append(np.zeros(shape=np.shape(W[l])).tolist())\r\n",
        "        v_b.append(np.zeros(shape=np.shape(B[l])).tolist())\r\n",
        "    m_w=list()\r\n",
        "    m_b=list()\r\n",
        "    for l in range(L):\r\n",
        "        m_w.append(np.zeros(shape=np.shape(W[l])).tolist())\r\n",
        "        m_b.append(np.zeros(shape=np.shape(B[l])).tolist())\r\n",
        "    while (e<epoch):\r\n",
        "        for i in range(train_samples):\r\n",
        "            H,A,y_hat=feed_forward(trainX[i],W,B,L,actfn)\r\n",
        "            ei=y_hat[trainY[i]]\r\n",
        "            if ei!=0:\r\n",
        "                error += -math.log(ei+1e-7)\r\n",
        "            W_grad,B_grad=back_propogation(H,A,y_hat,trainY[i],W,actfn)\r\n",
        "            W_grad=W_grad[::-1]\r\n",
        "            B_grad=B_grad[::-1]\r\n",
        "            for l in range(L):\r\n",
        "                wgrad[l]=(np.matrix(wgrad[l])+np.matrix(W_grad[l])).tolist()\r\n",
        "                bgrad[l]=(bgrad[l]+np.multiply(1,B_grad[l])).tolist()\r\n",
        "            points+=1\r\n",
        "            if(points%batch_size==0):\r\n",
        "                t+=1\r\n",
        "                points=0\r\n",
        "                loss.append(error/batch_size)\r\n",
        "                error=0.0\r\n",
        "                for l in range(L):\r\n",
        "                    m_w[l]=(np.multiply(beta1,m_w[l])+np.multiply((1-beta1),wgrad[l])).tolist()\r\n",
        "                    mwe=(np.divide(m_w[l],(1-(beta1**t)))).tolist()\r\n",
        "                    v_w[l]=(np.multiply(beta2,v_w[l])+np.multiply((1-beta2),np.square(wgrad[l]))).tolist()\r\n",
        "                    vwe=(np.divide(v_w[l],(1-(beta2**t)))).tolist()\r\n",
        "                    tmp=vwe.copy()\r\n",
        "                    new_t=np.add(epsilon,tmp).tolist()\r\n",
        "                    rl=np.reciprocal([[float(j) for j in i] for i in np.sqrt(new_t)]).tolist()\r\n",
        "                    W[l]=(np.multiply(1-decay,W[l])-np.multiply(mwe,np.multiply(eta,rl))).tolist()\r\n",
        "                    m_b[l]=(np.multiply(beta1,m_b[l])+np.multiply((1-beta1),bgrad[l])).tolist()\r\n",
        "                    mbe=(np.divide(m_b[l],(1-(beta1**t)))).tolist()\r\n",
        "                    v_b[l]=(np.multiply(beta2,v_b[l])+np.multiply((1-beta2),np.square(bgrad[l]))).tolist()\r\n",
        "                    vbe=(np.divide(v_b[l],(1-(beta2**t)))).tolist()\r\n",
        "                    tmp1=vbe.copy()\r\n",
        "                    new_t1=np.add(epsilon,tmp1).tolist()\r\n",
        "                    rl1=np.reciprocal([float(i) for i in np.sqrt(new_t1)]).tolist()\r\n",
        "                    B[l]=np.subtract(np.multiply(1-decay,B[l]),np.multiply(mbe,np.multiply(eta,rl1))).tolist()              \r\n",
        "                wgrad=list()\r\n",
        "                bgrad=list()\r\n",
        "                for l in range(L):\r\n",
        "                    wgrad.append(np.zeros(shape=np.shape(W[l])).tolist())\r\n",
        "                    bgrad.append(np.zeros(shape=np.shape(B[l])).tolist()) \r\n",
        "        e=e+1\r\n",
        "        wandb.log({'epoch':e})\r\n",
        "        print('Epoch',e)\r\n",
        "    return W,B,loss\r\n",
        "\r\n",
        "def nadam(L,N,eta,batch_size,epoch,actfn,initop,decay):\r\n",
        "    t,e=0,0\r\n",
        "    W,B=initialize(initop,xlen,L-1,K,N)\r\n",
        "    loss=list()\r\n",
        "    points=0\r\n",
        "    error=0.0\r\n",
        "    epsilon=1e-10\r\n",
        "    beta1=0.9\r\n",
        "    beta2=0.999\r\n",
        "    wgrad=list()\r\n",
        "    bgrad=list()\r\n",
        "    for l in range(L):\r\n",
        "        wgrad.append(np.zeros(shape=np.shape(W[l])).tolist())\r\n",
        "        bgrad.append(np.zeros(shape=np.shape(B[l])).tolist())\r\n",
        "    v_w=list()\r\n",
        "    v_b=list()\r\n",
        "    for l in range(L):\r\n",
        "        v_w.append(np.zeros(shape=np.shape(W[l])).tolist())\r\n",
        "        v_b.append(np.zeros(shape=np.shape(B[l])).tolist())\r\n",
        "    m_w=list()\r\n",
        "    m_b=list()\r\n",
        "    for l in range(L):\r\n",
        "        m_w.append(np.zeros(shape=np.shape(W[l])).tolist())\r\n",
        "        m_b.append(np.zeros(shape=np.shape(B[l])).tolist())\r\n",
        "    while (e<epoch):\r\n",
        "        for i in range(train_samples):\r\n",
        "            H,A,y_hat=feed_forward(trainX[i],W,B,L,actfn)\r\n",
        "            ei=y_hat[trainY[i]]\r\n",
        "            if ei!=0:\r\n",
        "                error += -math.log(ei+1e-7)\r\n",
        "            W_grad,B_grad=back_propogation(H,A,y_hat,trainY[i],W,L,actfn)\r\n",
        "            W_grad=W_grad[::-1]\r\n",
        "            B_grad=B_grad[::-1]\r\n",
        "            for l in range(L):\r\n",
        "                wgrad[l]=(np.matrix(wgrad[l])+np.matrix(W_grad[l])).tolist()\r\n",
        "                bgrad[l]=(bgrad[l]+np.multiply(1,B_grad[l])).tolist()\r\n",
        "            points+=1\r\n",
        "            if(points%batch_size==0):\r\n",
        "                t+=1\r\n",
        "                points=0\r\n",
        "                loss.append(error/batch_size)\r\n",
        "                error=0.0\r\n",
        "                for l in range(L):\r\n",
        "                    m_w[l]=(np.multiply(beta1,m_w[l])+np.multiply((1-beta1),wgrad[l])).tolist()\r\n",
        "                    mwe=(np.divide(m_w[l],(1-(beta1**t)))).tolist()\r\n",
        "                    v_w[l]=(np.multiply(beta2,v_w[l])+np.multiply((1-beta2),np.square(wgrad[l]))).tolist()\r\n",
        "                    vwe=(np.divide(v_w[l],(1-(beta2**t)))).tolist()\r\n",
        "                    tmp=vwe.copy()\r\n",
        "                    new_t=np.add(epsilon,tmp).tolist()\r\n",
        "                    rl=np.reciprocal([[float(j) for j in i] for i in np.sqrt(new_t)]).tolist()\r\n",
        "                    mwe_up=(np.multiply(beta1,m_w[l])+np.multiply(((1-beta1)/(1-(beta1**t))),wgrad[l])).tolist()\r\n",
        "                    W[l]=(np.multiply(1-decay,W[l])-np.multiply(mwe_up,np.multiply(eta,rl))).tolist()\r\n",
        "                    m_b[l]=(np.multiply(beta1,m_b[l])+np.multiply((1-beta1),bgrad[l])).tolist()\r\n",
        "                    mbe=(np.divide(m_b[l],(1-(beta1**t)))).tolist()\r\n",
        "                    v_b[l]=(np.multiply(beta2,v_b[l])+np.multiply((1-beta2),np.square(bgrad[l]))).tolist()\r\n",
        "                    vbe=(np.divide(v_b[l],(1-(beta2**t)))).tolist()\r\n",
        "                    tmp1=vbe.copy()\r\n",
        "                    new_t1=np.add(epsilon,tmp1).tolist()\r\n",
        "                    rl1=np.reciprocal([float(i) for i in np.sqrt(new_t1)]).tolist()\r\n",
        "                    mbe_up=(np.multiply(beta1,m_b[l])+np.multiply(((1-beta1)/(1-(beta1**t))),bgrad[l])).tolist()\r\n",
        "                    B[l]=np.subtract(np.multiply(1-decay,B[l]),np.multiply(mbe_up,np.multiply(eta,rl1))).tolist()              \r\n",
        "                wgrad=list()\r\n",
        "                bgrad=list()\r\n",
        "                for l in range(L):\r\n",
        "                    wgrad.append(np.zeros(shape=np.shape(W[l])).tolist())\r\n",
        "                    bgrad.append(np.zeros(shape=np.shape(B[l])).tolist()) \r\n",
        "        e=e+1\r\n",
        "        wandb.log({'epoch':e})\r\n",
        "        print('Epoch',e)\r\n",
        "    return W,B,loss\r\n"
      ],
      "execution_count": 65,
      "outputs": []
    },
    {
      "cell_type": "code",
      "metadata": {
        "id": "7XS8L3E1neGP"
      },
      "source": [
        "sweep_config = {\r\n",
        "    'method': 'random', #grid, random\r\n",
        "    'metric': {\r\n",
        "      'name': 'accuracy',\r\n",
        "      'goal': 'maximize'   \r\n",
        "    },\r\n",
        "    'parameters': {\r\n",
        "        'epoch': {\r\n",
        "            'values': [2,3,4,5,6]\r\n",
        "        },\r\n",
        "        'layers':{\r\n",
        "            'values': [3,4,5]\r\n",
        "        },\r\n",
        "        'hidden_layer_size' :{\r\n",
        "            'values': [8,12,24]\r\n",
        "        },\r\n",
        "        'weight_decay':{\r\n",
        "            'values': [0,0.0005,0.05,0.5]\r\n",
        "        },\r\n",
        "        'learning_rate':{\r\n",
        "            'values': [0.001,0.0001]\r\n",
        "        },\r\n",
        "        'optimizer_fn':{\r\n",
        "            'values': ['sgd','momentum','nesterov','rmsprop','adam','nadam']\r\n",
        "        },\r\n",
        "        'batch_size': {\r\n",
        "            'values': [16,32,64,128]\r\n",
        "        },\r\n",
        "        'weight_initial':{\r\n",
        "            'values': ['random','xavier']\r\n",
        "        },\r\n",
        "        'activation_fn':{\r\n",
        "            'values': ['sigmoid','tanh','relu']\r\n",
        "        }\r\n",
        "    }\r\n",
        "}"
      ],
      "execution_count": 64,
      "outputs": []
    },
    {
      "cell_type": "code",
      "metadata": {
        "colab": {
          "base_uri": "https://localhost:8080/"
        },
        "id": "MOn7FX3cnmtq",
        "outputId": "2504924b-0056-4d14-db35-3ffc95947b39"
      },
      "source": [
        "sweep_id = wandb.sweep(sweep_config,project=\"A1\")"
      ],
      "execution_count": 50,
      "outputs": [
        {
          "output_type": "stream",
          "text": [
            "Create sweep with ID: jhdox99u\n",
            "Sweep URL: https://wandb.ai/athirapt/A1/sweeps/jhdox99u\n"
          ],
          "name": "stdout"
        }
      ]
    },
    {
      "cell_type": "code",
      "metadata": {
        "id": "5PW8o3-dnqzY"
      },
      "source": [
        "# The sweep calls this function with each set of hyperparameters\r\n",
        "def train():\r\n",
        "    config_defaults={\r\n",
        "        'epoch':2,\r\n",
        "        'layers':2,\r\n",
        "        'hidden_layer_size':3,\r\n",
        "        'weight_decay':0.0005,\r\n",
        "        'learning_rate':0.001,\r\n",
        "        'optimiser_fn':'nesterov',\r\n",
        "        'batch_size':16,\r\n",
        "        'weight_initial':'random',\r\n",
        "        'activation_fn':'sigmoid'\r\n",
        "        }\r\n",
        "    # Initialize a new wandb run\r\n",
        "    wandb.init(config=config_defaults)\r\n",
        "    \r\n",
        "    # Config is a variable that holds and saves hyperparameters and inputs\r\n",
        "    config = wandb.config\r\n",
        "\r\n",
        "    L=config.layers\r\n",
        "    N=config.hidden_layer_size\r\n",
        "    batch=config.batch_size\r\n",
        "    epoch=config.epoch\r\n",
        "    acon=config.activation_fn\r\n",
        "    initial=config.weight_initial\r\n",
        "    optimiser=config.optimiser_fn\r\n",
        "    eta=config.learning_rate\r\n",
        "    decay=config.weight_decay\r\n",
        "\r\n",
        "    W_r= initialize_weights_random(len(trainX[0]),L-1,K,N)\r\n",
        "    B_r= initialize_bias_random(len(trainX[0]),L-1,K,N)\r\n",
        "\r\n",
        "    if optimiser=='sgd':\r\n",
        "        W_r,B_r,loss=stochastic(L,N,eta,epoch,acon,initial,decay)\r\n",
        "    elif optimiser=='momentum':\r\n",
        "        W_r,B_r,loss=momentum(L,N,eta,batch,epoch,acon,initial,decay)\r\n",
        "    elif optimiser=='nesterov':\r\n",
        "        W_r,B_r,loss=nesterov(L,N,eta,batch,epoch,acon,initial,decay)\r\n",
        "    elif optimiser=='rmsprop':\r\n",
        "        W_r,B_r,loss=rmsprop(L,N,eta,batch,epoch,acon,initial,decay)\r\n",
        "    elif optimiser=='adam':\r\n",
        "        W_r,B_r,loss=adam(L,N,eta,batch,epoch,acon,initial,decay)\r\n",
        "    else:\r\n",
        "        W_r,B_r,loss=nadam(L,N,eta,batch,epoch,acon,initial,decay)\r\n",
        "\r\n",
        "\r\n",
        "    validation_valid=0\r\n",
        "    validation_predict=list()\r\n",
        "    validation_error=0.0\r\n",
        "    for i in range(valid_samples):\r\n",
        "        H,A,y_hat = feed_forward(validX[i],W_r,B_r,L,acon)\r\n",
        "        class_vpredict = np.argmax(y_hat)\r\n",
        "        ei=y_hat[validY[i]]\r\n",
        "        if ei!=0:\r\n",
        "            validation_error += -math.log(ei)\r\n",
        "        validation_predict.append(class_vpredict)\r\n",
        "        if class_vpredict == validY[i]:\r\n",
        "            validation_valid+=1\r\n",
        "        if i%config.batch_size==0:\r\n",
        "            wandb.log({'val_accuracy': validation_valid/(i+1)})\r\n",
        "            wandb.log({'val_loss': validation_error/(i+1)})\r\n",
        "    valid_acc=validation_valid/valid_samples\r\n",
        "\r\n",
        "\r\n",
        "    test_valid=0\r\n",
        "    test_predict=[]\r\n",
        "    test_error=0.0\r\n",
        "    for i in range(test_samples):\r\n",
        "        H,A,y_hat = feed_forward(testX[i],W_r,B_r,L,acon)\r\n",
        "        class_predict = np.argmax(y_hat)\r\n",
        "        ei=y_hat[testY[i]]\r\n",
        "        if ei!=0:\r\n",
        "            test_error += -math.log(ei)\r\n",
        "        test_predict.append(class_predict)\r\n",
        "        if class_predict == testY[i]:\r\n",
        "            test_valid+=1\r\n",
        "        if i%config.batch_size==0:\r\n",
        "            wandb.log({'accuracy': test_valid/(i+1)})\r\n",
        "            wandb.log({'loss': test_error/(i+1)})\r\n",
        "    test_acc=test_valid/test_samples\r\n",
        "    wandb.log({'accuracy': test_acc})\r\n",
        "    wandb.log({\"conf_mat\" : wandb.plot.confusion_matrix(probs=None,y_true=testY, preds=test_predict,class_names=class_label)})\r\n",
        "    print(test_acc)\r\n",
        "    return"
      ],
      "execution_count": 71,
      "outputs": []
    },
    {
      "cell_type": "code",
      "metadata": {
        "colab": {
          "base_uri": "https://localhost:8080/",
          "height": 1000,
          "referenced_widgets": [
            "2c405abd7ff94a6890ab35fa5171469e",
            "d2569500c4ec422f8fbfd253f4f120d8",
            "7415daf3b8964e2d88b6e1ad70e061ed",
            "a4ed04ea9a5f4e8a9a09ed0c0ef1d37a",
            "6e5e5b22d10c4e48a54477ea4adf1ba1",
            "f7e664c3c2b243f7afd01ad872cfd161",
            "55020ffef7904acdbfb11f45fe4ab1f3",
            "7fadc81f0c3f42a4a034a0c23aa506a5"
          ]
        },
        "id": "_MhwxeSbn0K9",
        "outputId": "ce864914-70cd-417f-a8a0-f0f421d99c87"
      },
      "source": [
        "wandb.agent(sweep_id, train,count=80)"
      ],
      "execution_count": null,
      "outputs": [
        {
          "output_type": "stream",
          "text": [
            "\u001b[34m\u001b[1mwandb\u001b[0m: Agent Starting Run: i5jj2jz8 with config:\n",
            "\u001b[34m\u001b[1mwandb\u001b[0m: \tactivation_fn: tanh\n",
            "\u001b[34m\u001b[1mwandb\u001b[0m: \tbatch_size: 32\n",
            "\u001b[34m\u001b[1mwandb\u001b[0m: \tepoch: 2\n",
            "\u001b[34m\u001b[1mwandb\u001b[0m: \thidden_layer_size: 24\n",
            "\u001b[34m\u001b[1mwandb\u001b[0m: \tlayers: 5\n",
            "\u001b[34m\u001b[1mwandb\u001b[0m: \tlearning_rate: 0.0001\n",
            "\u001b[34m\u001b[1mwandb\u001b[0m: \toptimizer_fn: nadam\n",
            "\u001b[34m\u001b[1mwandb\u001b[0m: \tweight_decay: 0.05\n",
            "\u001b[34m\u001b[1mwandb\u001b[0m: \tweight_initial: random\n"
          ],
          "name": "stderr"
        },
        {
          "output_type": "display_data",
          "data": {
            "text/html": [
              "\n",
              "                Tracking run with wandb version 0.10.22<br/>\n",
              "                Syncing run <strong style=\"color:#cdcd00\">confused-sweep-5</strong> to <a href=\"https://wandb.ai\" target=\"_blank\">Weights & Biases</a> <a href=\"https://docs.wandb.com/integrations/jupyter.html\" target=\"_blank\">(Documentation)</a>.<br/>\n",
              "                Project page: <a href=\"https://wandb.ai/athirapt/A1\" target=\"_blank\">https://wandb.ai/athirapt/A1</a><br/>\n",
              "                Sweep page: <a href=\"https://wandb.ai/athirapt/A1/sweeps/jhdox99u\" target=\"_blank\">https://wandb.ai/athirapt/A1/sweeps/jhdox99u</a><br/>\n",
              "Run page: <a href=\"https://wandb.ai/athirapt/A1/runs/i5jj2jz8\" target=\"_blank\">https://wandb.ai/athirapt/A1/runs/i5jj2jz8</a><br/>\n",
              "                Run data is saved locally in <code>/content/wandb/run-20210314_140123-i5jj2jz8</code><br/><br/>\n",
              "            "
            ],
            "text/plain": [
              "<IPython.core.display.HTML object>"
            ]
          },
          "metadata": {
            "tags": []
          }
        },
        {
          "output_type": "stream",
          "text": [
            "Epoch 1\n",
            "Epoch 2\n",
            "0.1\n"
          ],
          "name": "stdout"
        },
        {
          "output_type": "display_data",
          "data": {
            "text/html": [
              "<br/>Waiting for W&B process to finish, PID 4859<br/>Program ended successfully."
            ],
            "text/plain": [
              "<IPython.core.display.HTML object>"
            ]
          },
          "metadata": {
            "tags": []
          }
        },
        {
          "output_type": "display_data",
          "data": {
            "application/vnd.jupyter.widget-view+json": {
              "model_id": "2c405abd7ff94a6890ab35fa5171469e",
              "version_minor": 0,
              "version_major": 2
            },
            "text/plain": [
              "VBox(children=(Label(value=' 0.00MB of 0.00MB uploaded (0.00MB deduped)\\r'), FloatProgress(value=0.15765114260…"
            ]
          },
          "metadata": {
            "tags": []
          }
        },
        {
          "output_type": "display_data",
          "data": {
            "text/html": [
              "Find user logs for this run at: <code>/content/wandb/run-20210314_140123-i5jj2jz8/logs/debug.log</code>"
            ],
            "text/plain": [
              "<IPython.core.display.HTML object>"
            ]
          },
          "metadata": {
            "tags": []
          }
        },
        {
          "output_type": "display_data",
          "data": {
            "text/html": [
              "Find internal logs for this run at: <code>/content/wandb/run-20210314_140123-i5jj2jz8/logs/debug-internal.log</code>"
            ],
            "text/plain": [
              "<IPython.core.display.HTML object>"
            ]
          },
          "metadata": {
            "tags": []
          }
        },
        {
          "output_type": "display_data",
          "data": {
            "text/html": [
              "<h3>Run summary:</h3><br/><style>\n",
              "    table.wandb td:nth-child(1) { padding: 0 10px; text-align: right }\n",
              "    </style><table class=\"wandb\">\n",
              "<tr><td>epoch</td><td>2</td></tr><tr><td>_runtime</td><td>2555</td></tr><tr><td>_timestamp</td><td>1615733038</td></tr><tr><td>_step</td><td>1005</td></tr><tr><td>val_accuracy</td><td>0.10192</td></tr><tr><td>val_loss</td><td>2.30253</td></tr><tr><td>accuracy</td><td>0.1</td></tr><tr><td>loss</td><td>2.30259</td></tr></table>"
            ],
            "text/plain": [
              "<IPython.core.display.HTML object>"
            ]
          },
          "metadata": {
            "tags": []
          }
        },
        {
          "output_type": "display_data",
          "data": {
            "text/html": [
              "<h3>Run history:</h3><br/><style>\n",
              "    table.wandb td:nth-child(1) { padding: 0 10px; text-align: right }\n",
              "    </style><table class=\"wandb\">\n",
              "<tr><td>epoch</td><td>▁█</td></tr><tr><td>_runtime</td><td>▁▁▁▁▂▂▂▂▂▃▃▃▃▃▃▄▄▄▄▅▅▅▅▅▅▆▆▆▆▆▆▇▇▇▇▇████</td></tr><tr><td>_timestamp</td><td>▁▁▁▁▂▂▂▂▂▃▃▃▃▃▃▄▄▄▄▅▅▅▅▅▅▆▆▆▆▆▆▇▇▇▇▇████</td></tr><tr><td>_step</td><td>▁▁▁▂▂▂▂▂▂▃▃▃▃▃▄▄▄▄▄▄▅▅▅▅▅▅▆▆▆▆▆▇▇▇▇▇▇███</td></tr><tr><td>val_accuracy</td><td>█▃▂▁▂▂▂▃▃▂▂▂▂▂▁▁▁▁▁▁▁▁▁▂▂▂▂▂▂▂▂▂▂▂▂▂▂▂▂▂</td></tr><tr><td>val_loss</td><td>▃█▅▄▂▂▂▃▃▂▂▃▂▂▃▂▂▂▂▂▂▂▂▂▂▁▂▁▁▂▂▂▁▁▁▁▁▁▁▁</td></tr><tr><td>accuracy</td><td>▂▁▂▅▆▆▆▆▆▇▇████▇████▇█▇▇▇▇▇▇▇▇▇▇▇▇▇▇▇▇▇█</td></tr><tr><td>loss</td><td>█▃▄▂▂▂▃▃▂▂▁▁▁▂▂▂▂▂▂▂▂▂▂▂▂▂▂▂▂▂▂▂▂▂▂▂▂▂▂▂</td></tr></table><br/>"
            ],
            "text/plain": [
              "<IPython.core.display.HTML object>"
            ]
          },
          "metadata": {
            "tags": []
          }
        },
        {
          "output_type": "display_data",
          "data": {
            "text/html": [
              "Synced 5 W&B file(s), 1 media file(s), 0 artifact file(s) and 0 other file(s)"
            ],
            "text/plain": [
              "<IPython.core.display.HTML object>"
            ]
          },
          "metadata": {
            "tags": []
          }
        },
        {
          "output_type": "display_data",
          "data": {
            "text/html": [
              "\n",
              "                    <br/>Synced <strong style=\"color:#cdcd00\">confused-sweep-5</strong>: <a href=\"https://wandb.ai/athirapt/A1/runs/i5jj2jz8\" target=\"_blank\">https://wandb.ai/athirapt/A1/runs/i5jj2jz8</a><br/>\n",
              "                "
            ],
            "text/plain": [
              "<IPython.core.display.HTML object>"
            ]
          },
          "metadata": {
            "tags": []
          }
        },
        {
          "output_type": "stream",
          "text": [
            "\u001b[34m\u001b[1mwandb\u001b[0m: Agent Starting Run: 5qw4lppg with config:\n",
            "\u001b[34m\u001b[1mwandb\u001b[0m: \tactivation_fn: relu\n",
            "\u001b[34m\u001b[1mwandb\u001b[0m: \tbatch_size: 64\n",
            "\u001b[34m\u001b[1mwandb\u001b[0m: \tepoch: 5\n",
            "\u001b[34m\u001b[1mwandb\u001b[0m: \thidden_layer_size: 12\n",
            "\u001b[34m\u001b[1mwandb\u001b[0m: \tlayers: 4\n",
            "\u001b[34m\u001b[1mwandb\u001b[0m: \tlearning_rate: 0.001\n",
            "\u001b[34m\u001b[1mwandb\u001b[0m: \toptimizer_fn: sgd\n",
            "\u001b[34m\u001b[1mwandb\u001b[0m: \tweight_decay: 0.0005\n",
            "\u001b[34m\u001b[1mwandb\u001b[0m: \tweight_initial: xavier\n"
          ],
          "name": "stderr"
        },
        {
          "output_type": "display_data",
          "data": {
            "text/html": [
              "\n",
              "                Tracking run with wandb version 0.10.22<br/>\n",
              "                Syncing run <strong style=\"color:#cdcd00\">celestial-sweep-5</strong> to <a href=\"https://wandb.ai\" target=\"_blank\">Weights & Biases</a> <a href=\"https://docs.wandb.com/integrations/jupyter.html\" target=\"_blank\">(Documentation)</a>.<br/>\n",
              "                Project page: <a href=\"https://wandb.ai/athirapt/A1\" target=\"_blank\">https://wandb.ai/athirapt/A1</a><br/>\n",
              "                Sweep page: <a href=\"https://wandb.ai/athirapt/A1/sweeps/jhdox99u\" target=\"_blank\">https://wandb.ai/athirapt/A1/sweeps/jhdox99u</a><br/>\n",
              "Run page: <a href=\"https://wandb.ai/athirapt/A1/runs/5qw4lppg\" target=\"_blank\">https://wandb.ai/athirapt/A1/runs/5qw4lppg</a><br/>\n",
              "                Run data is saved locally in <code>/content/wandb/run-20210314_144407-5qw4lppg</code><br/><br/>\n",
              "            "
            ],
            "text/plain": [
              "<IPython.core.display.HTML object>"
            ]
          },
          "metadata": {
            "tags": []
          }
        }
      ]
    }
  ]
}