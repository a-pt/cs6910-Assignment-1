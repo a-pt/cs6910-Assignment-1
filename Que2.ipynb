{
  "nbformat": 4,
  "nbformat_minor": 0,
  "metadata": {
    "colab": {
      "name": "Que2.ipynb",
      "provenance": [],
      "collapsed_sections": [],
      "include_colab_link": true
    },
    "kernelspec": {
      "name": "python3",
      "display_name": "Python 3"
    }
  },
  "cells": [
    {
      "cell_type": "markdown",
      "metadata": {
        "id": "view-in-github",
        "colab_type": "text"
      },
      "source": [
        "<a href=\"https://colab.research.google.com/github/cs20m016/cs6910-Assignment-1/blob/main/Que2.ipynb\" target=\"_parent\"><img src=\"https://colab.research.google.com/assets/colab-badge.svg\" alt=\"Open In Colab\"/></a>"
      ]
    },
    {
      "cell_type": "code",
      "metadata": {
        "id": "Hl7y_jrMRKdN"
      },
      "source": [
        "import numpy as np\r\n",
        "import matplotlib.pyplot as plt\r\n",
        "import pandas as pd\r\n",
        "import random\r\n",
        "import math"
      ],
      "execution_count": 1,
      "outputs": []
    },
    {
      "cell_type": "code",
      "metadata": {
        "id": "6nNWmCVoTj6v"
      },
      "source": [
        "from keras.datasets import fashion_mnist"
      ],
      "execution_count": 2,
      "outputs": []
    },
    {
      "cell_type": "code",
      "metadata": {
        "id": "Bi_Sb0I_Tj0z"
      },
      "source": [
        "(train_X,train_Y), (test_X,test_Y)= fashion_mnist.load_data()"
      ],
      "execution_count": 3,
      "outputs": []
    },
    {
      "cell_type": "code",
      "metadata": {
        "colab": {
          "base_uri": "https://localhost:8080/"
        },
        "id": "nPCY-F81Tjx5",
        "outputId": "a7ebb5e3-ffa7-499f-d0b3-c0a1f2e86733"
      },
      "source": [
        "train_X.shape, train_Y.shape"
      ],
      "execution_count": 4,
      "outputs": [
        {
          "output_type": "execute_result",
          "data": {
            "text/plain": [
              "((60000, 28, 28), (60000,))"
            ]
          },
          "metadata": {
            "tags": []
          },
          "execution_count": 4
        }
      ]
    },
    {
      "cell_type": "code",
      "metadata": {
        "id": "WOvTxrV-Tjnd"
      },
      "source": [
        "train_X = train_X[:]/255\r\n",
        "test_Y = test_Y[:]/255"
      ],
      "execution_count": 5,
      "outputs": []
    },
    {
      "cell_type": "code",
      "metadata": {
        "id": "o25YyGvVmoB_"
      },
      "source": [
        "train_X=[train_X[i].flatten() for i in range(len(train_X))]\r\n",
        "test_X=[test_X[i].flatten() for i in range(len(test_X))]"
      ],
      "execution_count": 6,
      "outputs": []
    },
    {
      "cell_type": "code",
      "metadata": {
        "colab": {
          "base_uri": "https://localhost:8080/"
        },
        "id": "hULrbWpnnTWu",
        "outputId": "896828cd-9293-4e20-d8c9-392a15614855"
      },
      "source": [
        "np.shape(train_X), np.shape(train_Y), np.shape(test_X), np.shape(test_Y)"
      ],
      "execution_count": 7,
      "outputs": [
        {
          "output_type": "execute_result",
          "data": {
            "text/plain": [
              "((60000, 784), (60000,), (10000, 784), (10000,))"
            ]
          },
          "metadata": {
            "tags": []
          },
          "execution_count": 7
        }
      ]
    },
    {
      "cell_type": "code",
      "metadata": {
        "colab": {
          "base_uri": "https://localhost:8080/"
        },
        "id": "FK13NvWtJrqS",
        "outputId": "bfc1d7e6-3ff4-459c-e6dc-bf8a59684ac5"
      },
      "source": [
        "train_samples=len(train_X)\r\n",
        "test_samples=len(test_X)\r\n",
        "xlen=len(train_X[0])\r\n",
        "print(xlen)"
      ],
      "execution_count": 8,
      "outputs": [
        {
          "output_type": "stream",
          "text": [
            "784\n"
          ],
          "name": "stdout"
        }
      ]
    },
    {
      "cell_type": "code",
      "metadata": {
        "id": "sED-2jH13oR4"
      },
      "source": [
        "#N: number of inputs\r\n",
        "#N = input()\r\n",
        "N = 5\r\n",
        "#L: number of layers\r\n",
        "#L = input()\r\n",
        "L = 3\r\n",
        "#H = number of hidden layers\r\n",
        "Hid = L-1\r\n",
        "#K = number of classes\r\n",
        "K = 10"
      ],
      "execution_count": 9,
      "outputs": []
    },
    {
      "cell_type": "code",
      "metadata": {
        "id": "VojqwswC0spd"
      },
      "source": [
        "def sigmoid(a):\r\n",
        "  h = []\r\n",
        "  for a1 in a:\r\n",
        "    h.append(1.0/(1.0 + np.exp(-a1)))\r\n",
        "  return h"
      ],
      "execution_count": 10,
      "outputs": []
    },
    {
      "cell_type": "code",
      "metadata": {
        "id": "vz8yFN7KachD"
      },
      "source": [
        "def softmax(a):\r\n",
        "  y = []\r\n",
        "  sum = 0\r\n",
        "  for a1 in a:\r\n",
        "    sum+= np.exp(a1)\r\n",
        "  for a1 in a:\r\n",
        "    y.append(np.exp(a1)/sum)\r\n",
        "  return y"
      ],
      "execution_count": 11,
      "outputs": []
    },
    {
      "cell_type": "code",
      "metadata": {
        "id": "lFv1lhLwmEQ4"
      },
      "source": [
        "def initialize_weights(n_input, n_hidden_layer, n_output,neurons_hl):\r\n",
        "    W = list()\r\n",
        "    W.append([[random.random() for j in range(n_input)]for i in range(neurons_hl)])\r\n",
        "    for i in range(n_hidden_layer-1):\r\n",
        "        W.append([[random.random() for j in range(neurons_hl)]for i in range(neurons_hl)])\r\n",
        "    W.append([[random.random() for j in range(neurons_hl)]for i in range(n_output)])\r\n",
        "    return W\r\n",
        "W=initialize_weights(len(train_X[0]),Hid,10,N)"
      ],
      "execution_count": 12,
      "outputs": []
    },
    {
      "cell_type": "code",
      "metadata": {
        "id": "ndolgSz_mEE1"
      },
      "source": [
        "def initialize_bias(n_input, n_hidden_layer, n_output,n_neurons):\r\n",
        "    b=list()\r\n",
        "    for i in range(n_hidden_layer):\r\n",
        "        b.append([random.random() for i in range(n_neurons)])\r\n",
        "    b.append([random.random() for i in range(n_output)])\r\n",
        "    return b\r\n",
        "b = initialize_bias(len(train_X[0]),L-1,10,N)"
      ],
      "execution_count": 13,
      "outputs": []
    },
    {
      "cell_type": "code",
      "metadata": {
        "id": "Lz1yvps-VRiB"
      },
      "source": [
        "def feed_forward_prop(input,W,b,L):\r\n",
        "  H=[]\r\n",
        "  A=[]\r\n",
        "  h=input\r\n",
        "  H.append(h)\r\n",
        "  A.append([0])\r\n",
        "  for i in range(1,L):\r\n",
        "      a=b[i-1]+np.matmul(W[i-1],h)\r\n",
        "      A.append(a)\r\n",
        "      h=sigmoid(a)\r\n",
        "      H.append(h)\r\n",
        "  aL=b[L-1]+np.matmul(W[L-1],h)\r\n",
        "  A.append(aL)\r\n",
        "  hL=softmax(aL)\r\n",
        "  H.append(hL)\r\n",
        "  y_hat = hL\r\n",
        "  return H,A,y_hat"
      ],
      "execution_count": 14,
      "outputs": []
    },
    {
      "cell_type": "code",
      "metadata": {
        "id": "8s6gvlIiVReo"
      },
      "source": [
        "Y_pred = list()\r\n",
        "for x in train_X:\r\n",
        "  H,A,y_hat = feed_forward_prop(x,W,b,L)\r\n",
        "  Y_pred.append(y_hat)"
      ],
      "execution_count": 15,
      "outputs": []
    },
    {
      "cell_type": "code",
      "metadata": {
        "colab": {
          "base_uri": "https://localhost:8080/"
        },
        "id": "AznDo-x7CvYm",
        "outputId": "31020534-5e16-44b1-d4ed-a8a8ecc1c9e6"
      },
      "source": [
        "Y_pred[0]"
      ],
      "execution_count": 16,
      "outputs": [
        {
          "output_type": "execute_result",
          "data": {
            "text/plain": [
              "[0.17619012823522198,\n",
              " 0.21634450073408543,\n",
              " 0.06339625195803787,\n",
              " 0.04373261365391741,\n",
              " 0.03245252431192764,\n",
              " 0.07980449113164467,\n",
              " 0.15864862170690588,\n",
              " 0.029183712587786962,\n",
              " 0.1377718219987981,\n",
              " 0.06247533368167397]"
            ]
          },
          "metadata": {
            "tags": []
          },
          "execution_count": 16
        }
      ]
    },
    {
      "cell_type": "code",
      "metadata": {
        "id": "zLqwSV1JIkn3"
      },
      "source": [
        "def cmp(e):\r\n",
        "  g=1.0/(1.0 + np.exp(-e))\r\n",
        "  return g*(1-g)"
      ],
      "execution_count": 17,
      "outputs": []
    },
    {
      "cell_type": "code",
      "metadata": {
        "id": "y2oTNkrtIkkZ"
      },
      "source": [
        "def diff_sigmoid(a):\r\n",
        "    res=[]\r\n",
        "    for el in a:\r\n",
        "      res.append(cmp(el))\r\n",
        "    return res"
      ],
      "execution_count": 18,
      "outputs": []
    },
    {
      "cell_type": "code",
      "metadata": {
        "id": "q-NzdyUTIkh9"
      },
      "source": [
        "def back_propogation(H,A,y_hat,label):\r\n",
        "    W_grad=list()\r\n",
        "    B_grad=list()\r\n",
        "    one_hot_y=np.zeros(K)\r\n",
        "    one_hot_y[label]+=1\r\n",
        "    ak_grad = y_hat-one_hot_y\r\n",
        "    for k in range(L,0,-1):\r\n",
        "        w_grad=np.matmul(np.matrix(ak_grad).T,np.matrix(H[k-1]))\r\n",
        "        W_grad.append(w_grad)\r\n",
        "        B_grad.append(ak_grad)\r\n",
        "        if k != 1:\r\n",
        "            h_grad=np.matmul(np.transpose(W[k-1]),ak_grad)\r\n",
        "            ak_grad=np.multiply(h_grad,diff_sigmoid(A[k-1]))\r\n",
        "    return W_grad,B_grad\r\n",
        "W_grad,B_grad=back_propogation(H,A,y_hat,train_Y[0])\r\n",
        "W_grad=W_grad[::-1]\r\n",
        "B_grad=B_grad[::-1]"
      ],
      "execution_count": 19,
      "outputs": []
    },
    {
      "cell_type": "code",
      "metadata": {
        "colab": {
          "base_uri": "https://localhost:8080/"
        },
        "id": "eMr1twufIq-J",
        "outputId": "f254c30a-cfe1-44a3-c68d-78a6d92ed1d2"
      },
      "source": [
        "print(np.shape(W_grad[0]))\r\n",
        "print(np.shape(W_grad[1]))\r\n",
        "print(np.shape(W_grad[2]))"
      ],
      "execution_count": 20,
      "outputs": [
        {
          "output_type": "stream",
          "text": [
            "(5, 784)\n",
            "(5, 5)\n",
            "(10, 5)\n"
          ],
          "name": "stdout"
        }
      ]
    },
    {
      "cell_type": "code",
      "metadata": {
        "colab": {
          "base_uri": "https://localhost:8080/"
        },
        "id": "YDR3PyAdIq6z",
        "outputId": "041ac83e-ef3b-4e4a-8f78-713421f6333f"
      },
      "source": [
        "print(np.shape(B_grad[0]))\r\n",
        "print(np.shape(B_grad[1]))\r\n",
        "print(np.shape(B_grad[2]))"
      ],
      "execution_count": 21,
      "outputs": [
        {
          "output_type": "stream",
          "text": [
            "(5,)\n",
            "(5,)\n",
            "(10,)\n"
          ],
          "name": "stdout"
        }
      ]
    },
    {
      "cell_type": "code",
      "metadata": {
        "id": "Wn-NFN39Iq37"
      },
      "source": [
        "eta=0.0001"
      ],
      "execution_count": 22,
      "outputs": []
    },
    {
      "cell_type": "code",
      "metadata": {
        "id": "nFRVACnrIkcV"
      },
      "source": [
        "def gradient_descent():\r\n",
        "    W= initialize_weights(xlen,L-1,K,N)\r\n",
        "    B= initialize_bias(xlen,L-1,K,N)\r\n",
        "    t=0\r\n",
        "    max_iterations=5\r\n",
        "    loss=list()\r\n",
        "    while (t<max_iterations):\r\n",
        "        eta_wgrad=list()\r\n",
        "        eta_bgrad=list()\r\n",
        "        for l in range(L):\r\n",
        "            eta_wgrad.append(np.zeros(shape=np.shape(W[l])).tolist())\r\n",
        "            eta_bgrad.append(np.zeros(shape=np.shape(B[l])).tolist())\r\n",
        "        error=0.0\r\n",
        "        for i in range(train_samples):\r\n",
        "            H,A,y_hat=feed_forward_prop(train_X[i],W,B,L)\r\n",
        "            prob_array = np.zeros(10)\r\n",
        "            prob_array[train_Y[i]]=1\r\n",
        "            sum = 0.0\r\n",
        "            for temp in range(len(y_hat)):\r\n",
        "              sum += -1*prob_array[temp]*math.log(y_hat[temp])\r\n",
        "            error+=sum\r\n",
        "            W_grad,B_grad = back_propogation(H,A,y_hat,train_Y[i])\r\n",
        "            W_grad=W_grad[::-1]\r\n",
        "            B_grad=B_grad[::-1]\r\n",
        "            for l in range(L):\r\n",
        "                eta_wgrad[l]=(np.matrix(eta_wgrad[l])+np.multiply(eta,W_grad[l])).tolist()\r\n",
        "                eta_bgrad[l]=(eta_bgrad[l]+np.multiply(eta,B_grad[l])).tolist()\r\n",
        "        for l in range(L):\r\n",
        "            W[l]=(np.matrix(W[l])-np.matrix(eta_wgrad[l])).tolist()\r\n",
        "            B[l]=np.subtract(B[l],eta_bgrad[l])       \r\n",
        "        loss.append(error)\r\n",
        "        t=t+1\r\n",
        "        print('Epoch',t)\r\n",
        "    print (loss)\r\n",
        "    return W,B,loss"
      ],
      "execution_count": 23,
      "outputs": []
    },
    {
      "cell_type": "code",
      "metadata": {
        "colab": {
          "base_uri": "https://localhost:8080/"
        },
        "id": "p2pJ5D4pV8BO",
        "outputId": "217c4fd1-94b8-476e-9c82-c29c423ad5ae"
      },
      "source": [
        "W,B,loss=gradient_descent()"
      ],
      "execution_count": 24,
      "outputs": [
        {
          "output_type": "stream",
          "text": [
            "Epoch 1\n",
            "Epoch 2\n",
            "Epoch 3\n",
            "Epoch 4\n",
            "Epoch 5\n",
            "[148526.74585044477, 176062.64484572655, 168748.66757692408, 205869.42991950503, 187111.93545029138]\n"
          ],
          "name": "stdout"
        }
      ]
    },
    {
      "cell_type": "code",
      "metadata": {
        "colab": {
          "base_uri": "https://localhost:8080/",
          "height": 283
        },
        "id": "IkWlpe3RIyKp",
        "outputId": "49158c77-682b-4e11-df79-a37e73a9d904"
      },
      "source": [
        "plt.plot([i+1 for i in range(5)],loss)"
      ],
      "execution_count": 25,
      "outputs": [
        {
          "output_type": "execute_result",
          "data": {
            "text/plain": [
              "[<matplotlib.lines.Line2D at 0x7f9c7155fe50>]"
            ]
          },
          "metadata": {
            "tags": []
          },
          "execution_count": 25
        },
        {
          "output_type": "display_data",
          "data": {
            "image/png": "[encoded data removed]",
            "text/plain": [
              "<Figure size 432x288 with 1 Axes>"
            ]
          },
          "metadata": {
            "tags": [],
            "needs_background": "light"
          }
        }
      ]
    },
    {
      "cell_type": "code",
      "metadata": {
        "id": "rq0TyM3kI0PT"
      },
      "source": [
        "#Prediction\r\n",
        "valid=0\r\n",
        "for i in range(test_samples):\r\n",
        "    H,A,y_hat = feed_forward_prop(test_X[i],W,B,L)\r\n",
        "    class_predict = y_hat.index(max(y_hat))\r\n",
        "    if(class_predict==test_Y[i]):\r\n",
        "        valid += 1\r\n",
        "Accuracy=valid/test_samples"
      ],
      "execution_count": 26,
      "outputs": []
    },
    {
      "cell_type": "code",
      "metadata": {
        "colab": {
          "base_uri": "https://localhost:8080/"
        },
        "id": "xGCXmoSFI2NP",
        "outputId": "34777894-aa85-4338-ac03-fd4356fa7572"
      },
      "source": [
        "Accuracy"
      ],
      "execution_count": 27,
      "outputs": [
        {
          "output_type": "execute_result",
          "data": {
            "text/plain": [
              "0.0"
            ]
          },
          "metadata": {
            "tags": []
          },
          "execution_count": 27
        }
      ]
    },
    {
      "cell_type": "code",
      "metadata": {
        "id": "Lhjvit16idl5"
      },
      "source": [
        "# stochastic gradient descent"
      ],
      "execution_count": 28,
      "outputs": []
    },
    {
      "cell_type": "code",
      "metadata": {
        "id": "21_gk5akidiu"
      },
      "source": [
        "def stochastic_gradient_descent():\r\n",
        "    t=0\r\n",
        "    max_iterations=3\r\n",
        "    W= initialize_weights(xlen,L-1,K,N)\r\n",
        "    B= initialize_bias(xlen,L-1,K,N)\r\n",
        "    loss=list()\r\n",
        "    while (t<max_iterations):\r\n",
        "      for i in range(train_samples):\r\n",
        "        eta_wgrad=list()\r\n",
        "        eta_bgrad=list()\r\n",
        "        for l in range(L):\r\n",
        "            eta_wgrad.append(np.zeros(shape=np.shape(W[l])).tolist())\r\n",
        "            eta_bgrad.append(np.zeros(shape=np.shape(B[l])).tolist())\r\n",
        "            H,A,y_hat=feed_forward_prop(train_X[i],W,B,L)\r\n",
        "            prob_array = np.zeros(10)\r\n",
        "            prob_array[train_Y[i]]=1\r\n",
        "            sum = 0.0\r\n",
        "            for temp in range(len(y_hat)):\r\n",
        "              sum += -1*prob_array[temp]*math.log(y_hat[temp])\r\n",
        "            loss.append(sum)\r\n",
        "            W_grad,B_grad=back_propogation(H,A,y_hat,train_Y[i])\r\n",
        "            W_grad=W_grad[::-1]\r\n",
        "            B_grad=B_grad[::-1]\r\n",
        "        for l in range(L):\r\n",
        "            eta_wgrad[l]=(np.matrix(eta_wgrad[l])+np.multiply(eta,W_grad[l])).tolist()\r\n",
        "            eta_bgrad[l]=(eta_bgrad[l]+np.multiply(eta,B_grad[l])).tolist()\r\n",
        "            W[l]=(np.matrix(W[l])-np.matrix(eta_wgrad[l])).tolist()\r\n",
        "            B[l]=np.subtract(B[l],eta_bgrad[l])       \r\n",
        "      t=t+1\r\n",
        "      print('Epoch',t)\r\n",
        "    print (loss)\r\n",
        "    return W,B,loss"
      ],
      "execution_count": 29,
      "outputs": []
    },
    {
      "cell_type": "code",
      "metadata": {
        "colab": {
          "base_uri": "https://localhost:8080/"
        },
        "id": "PxWSCjeE5aNj",
        "outputId": "1adb063f-ed3d-469f-9238-869b50683b25"
      },
      "source": [
        "W_s,B_s,loss_s = stochastic_gradient_descent()"
      ],
      "execution_count": 30,
      "outputs": [
        {
          "output_type": "stream",
          "text": [
            "Epoch 1\n",
            "Epoch 2\n",
            "Epoch 3\n"
          ],
          "name": "stdout"
        },
        {
          "output_type": "stream",
          "text": [
            "IOPub data rate exceeded.\n",
            "The notebook server will temporarily stop sending output\n",
            "to the client in order to avoid crashing it.\n",
            "To change this limit, set the config variable\n",
            "`--NotebookApp.iopub_data_rate_limit`.\n",
            "\n",
            "Current values:\n",
            "NotebookApp.iopub_data_rate_limit=1000000.0 (bytes/sec)\n",
            "NotebookApp.rate_limit_window=3.0 (secs)\n",
            "\n"
          ],
          "name": "stderr"
        }
      ]
    },
    {
      "cell_type": "code",
      "metadata": {
        "colab": {
          "base_uri": "https://localhost:8080/",
          "height": 283
        },
        "id": "pVpue1GyrPDP",
        "outputId": "26da478c-a900-414a-f758-218dd8f4cf69"
      },
      "source": [
        "plt.plot(np.arange(1,len(loss_s)+1),loss_s)"
      ],
      "execution_count": 32,
      "outputs": [
        {
          "output_type": "execute_result",
          "data": {
            "text/plain": [
              "[<matplotlib.lines.Line2D at 0x7f9c6b7b0610>]"
            ]
          },
          "metadata": {
            "tags": []
          },
          "execution_count": 32
        },
        {
          "output_type": "display_data",
          "data": {
            "image/png": "[encoded data removed]",
            "text/plain": [
              "<Figure size 432x288 with 1 Axes>"
            ]
          },
          "metadata": {
            "tags": [],
            "needs_background": "light"
          }
        }
      ]
    },
    {
      "cell_type": "code",
      "metadata": {
        "id": "qv1rISSvsEjJ"
      },
      "source": [
        "plt.plot(np.arange(1,len(loss_s)+1),loss_s)"
      ],
      "execution_count": null,
      "outputs": []
    },
    {
      "cell_type": "code",
      "metadata": {
        "id": "iE0jaCRprO4g"
      },
      "source": [
        "# momentum gradient descent"
      ],
      "execution_count": null,
      "outputs": []
    },
    {
      "cell_type": "code",
      "metadata": {
        "id": "V3g5R7yRuHcU"
      },
      "source": [
        "gamma = 0.9"
      ],
      "execution_count": null,
      "outputs": []
    },
    {
      "cell_type": "code",
      "metadata": {
        "id": "9khbgS1prO1I"
      },
      "source": [
        "def momentum_gradient_descent():\r\n",
        "    t=0\r\n",
        "    max_iterations=5\r\n",
        "    W= initialize_weights(xlen,L-1,K,N)\r\n",
        "    B= initialize_bias(xlen,L-1,K,N)\r\n",
        "    loss=list()\r\n",
        "    prev_vw=list()\r\n",
        "    prev_bw=list()\r\n",
        "    while (t<max_iterations):\r\n",
        "      wgrad=list()\r\n",
        "      bgrad=list()\r\n",
        "      for i in range(train_samples):\r\n",
        "        for l in range(L):\r\n",
        "            wgrad.append(np.zeros(shape=np.shape(W[l])).tolist())\r\n",
        "            bgrad.append(np.zeros(shape=np.shape(B[l])).tolist())\r\n",
        "            prev_vw.append(np.zeros(shape=np.shape(W[l])).tolist())\r\n",
        "            prev_bw.append(np.zeros(shape=np.shape(B[l])).tolist())\r\n",
        "            H,A,y_hat=feed_forward_prop(train_X[i],W,B,L)\r\n",
        "            prob_array = np.zeros(10)\r\n",
        "            prob_array[train_Y[i]]=1\r\n",
        "            sum = 0.0\r\n",
        "            for temp in range(len(y_hat)):\r\n",
        "              sum += -1*prob_array[temp]*math.log(y_hat[temp])\r\n",
        "            loss.append(sum)\r\n",
        "            W_grad,B_grad=back_propogation(H,A,y_hat,train_Y[i])\r\n",
        "            W_grad=W_grad[::-1]\r\n",
        "            B_grad=B_grad[::-1]\r\n",
        "\r\n",
        "        v_w = []\r\n",
        "        v_b = []\r\n",
        "        v_w.append(np.zeros(shape=np.shape(W[l])).tolist())\r\n",
        "        v_b.append(np.zeros(shape=np.shape(B[l])).tolist())\r\n",
        "        for l in range(L):\r\n",
        "          v_w[l] = (np.multiply(gamma,prev_vw[l])+np.multiply(eta,W_grad[l])).tolist()\r\n",
        "          v_b[l] = (np.multiply(gamma,prev_bw[l])+np.multiply(eta,B_grad[l])).tolist()\r\n",
        "          W[l]=(np.matrix(W[l])-np.matrix(v_w[l])).tolist()\r\n",
        "          B[l]=np.subtract(B[l],v_b[l]) \r\n",
        "          prev_vw[l] = v_w[l]\r\n",
        "          prev_bw[l] = b_w[l]\r\n",
        "\r\n",
        "      t=t+1\r\n",
        "      print('Epoch',t)\r\n",
        "    print (loss)\r\n",
        "    return W,B,loss"
      ],
      "execution_count": null,
      "outputs": []
    },
    {
      "cell_type": "code",
      "metadata": {
        "id": "sIz8jD6G3_-g"
      },
      "source": [
        "W_m,B_m,loss_m = momentum_gradient_descent()"
      ],
      "execution_count": null,
      "outputs": []
    },
    {
      "cell_type": "code",
      "metadata": {
        "id": "ZJ35y-rp6Dgz"
      },
      "source": [
        ""
      ],
      "execution_count": null,
      "outputs": []
    },
    {
      "cell_type": "code",
      "metadata": {
        "id": "gRcBanm26Ddt"
      },
      "source": [
        "def nesterov_accelerated_gradient_descent():\r\n",
        "    t=0\r\n",
        "    max_iterations=5\r\n",
        "    W= initialize_weights(xlen,L-1,K,N)\r\n",
        "    B= initialize_bias(xlen,L-1,K,N)\r\n",
        "    loss=list()\r\n",
        "    while (t<max_iterations):\r\n",
        "      for i in range(train_samples):\r\n",
        "        wgrad=list()\r\n",
        "        bgrad=list()\r\n",
        "        prev_vw=list()\r\n",
        "        prev_bw=list()\r\n",
        "        for l in range(L):\r\n",
        "          wgrad.append(np.zeros(shape=np.shape(W[l])).tolist())\r\n",
        "          bgrad.append(np.zeros(shape=np.shape(B[l])).tolist())\r\n",
        "          prev_vw.append(np.zeros(shape=np.shape(W[l])).tolist())\r\n",
        "          prev_bw.append(np.zeros(shape=np.shape(B[l])).tolist())\r\n",
        "          H,A,y_hat=feed_forward_prop(train_X[i],W,B,L)\r\n",
        "          prob_array = np.zeros(10)\r\n",
        "          prob_array[train_Y[i]]=1\r\n",
        "          sum = 0.0\r\n",
        "          for temp in range(len(y_hat)):\r\n",
        "            sum += -1*prob_array[temp]*math.log(y_hat[temp])\r\n",
        "          loss.append(sum)\r\n",
        "          W_grad,B_grad=back_propogation(H,A,y_hat,train_Y[i])\r\n",
        "          W_grad=W_grad[::-1]\r\n",
        "          B_grad=B_grad[::-1]\r\n",
        "\r\n",
        "        v_w = []\r\n",
        "        v_b = []\r\n",
        "        v_w.append(np.zeros(shape=np.shape(W[l])).tolist())\r\n",
        "        v_b.append(np.zeros(shape=np.shape(B[l])).tolist())\r\n",
        "        for l in range(L):\r\n",
        "          v_w[l] = (np.multiply(gamma,prev_vw[l])+np.multiply(eta,W_grad[l])).tolist()\r\n",
        "          v_b[l] = (np.multiply(gamma,prev_bw[l])+np.multiply(eta,B_grad[l])).tolist()\r\n",
        "          W[l]=(np.matrix(W[l])-np.matrix(v_w[l])).tolist()\r\n",
        "          B[l]=np.subtract(B[l],v_b[l]) \r\n",
        "          prev_vw[l] = v_w[l]\r\n",
        "          prev_bw[l] = b_w[l]\r\n",
        "\r\n",
        "      t=t+1\r\n",
        "      print('Epoch',t)\r\n",
        "    print (loss)\r\n",
        "    return W,B,loss"
      ],
      "execution_count": null,
      "outputs": []
    },
    {
      "cell_type": "code",
      "metadata": {
        "id": "-gwkBvZr6Da9"
      },
      "source": [
        ""
      ],
      "execution_count": null,
      "outputs": []
    },
    {
      "cell_type": "code",
      "metadata": {
        "id": "u1z05y7L6DX2"
      },
      "source": [
        ""
      ],
      "execution_count": null,
      "outputs": []
    }
  ]
}