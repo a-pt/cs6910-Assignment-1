{
  "nbformat": 4,
  "nbformat_minor": 0,
  "metadata": {
    "colab": {
      "name": "Nadam.ipynb",
      "provenance": [],
      "authorship_tag": "ABX9TyN16LFe91df1potjLOuRzsR",
      "include_colab_link": true
    },
    "kernelspec": {
      "name": "python3",
      "display_name": "Python 3"
    }
  },
  "cells": [
    {
      "cell_type": "markdown",
      "metadata": {
        "id": "view-in-github",
        "colab_type": "text"
      },
      "source": [
        "<a href=\"https://colab.research.google.com/github/cs20m016/cs6910-Assignment-1/blob/main/Nadam.ipynb\" target=\"_parent\"><img src=\"https://colab.research.google.com/assets/colab-badge.svg\" alt=\"Open In Colab\"/></a>"
      ]
    },
    {
      "cell_type": "code",
      "metadata": {
        "id": "SzgvqEwUVDnh"
      },
      "source": [
        "import numpy as np\r\n",
        "from matplotlib import pyplot as plt\r\n",
        "from matplotlib import gridspec as gridspec\r\n",
        "from random import randint\r\n",
        "from random import random\r\n",
        "from random import seed\r\n",
        "import math\r\n",
        "from sklearn.utils import shuffle"
      ],
      "execution_count": 1,
      "outputs": []
    },
    {
      "cell_type": "code",
      "metadata": {
        "id": "t4AgIjoGaSpU"
      },
      "source": [
        "from keras.datasets import fashion_mnist"
      ],
      "execution_count": 2,
      "outputs": []
    },
    {
      "cell_type": "code",
      "metadata": {
        "colab": {
          "base_uri": "https://localhost:8080/"
        },
        "id": "bCvXdEeQaWlm",
        "outputId": "1d7155f9-66e2-48ee-fe97-e6389ece4750"
      },
      "source": [
        "train_data,test_data=fashion_mnist.load_data()"
      ],
      "execution_count": 3,
      "outputs": [
        {
          "output_type": "stream",
          "text": [
            "Downloading data from https://storage.googleapis.com/tensorflow/tf-keras-datasets/train-labels-idx1-ubyte.gz\n",
            "32768/29515 [=================================] - 0s 0us/step\n",
            "Downloading data from https://storage.googleapis.com/tensorflow/tf-keras-datasets/train-images-idx3-ubyte.gz\n",
            "26427392/26421880 [==============================] - 0s 0us/step\n",
            "Downloading data from https://storage.googleapis.com/tensorflow/tf-keras-datasets/t10k-labels-idx1-ubyte.gz\n",
            "8192/5148 [===============================================] - 0s 0us/step\n",
            "Downloading data from https://storage.googleapis.com/tensorflow/tf-keras-datasets/t10k-images-idx3-ubyte.gz\n",
            "4423680/4422102 [==============================] - 0s 0us/step\n"
          ],
          "name": "stdout"
        }
      ]
    },
    {
      "cell_type": "code",
      "metadata": {
        "id": "27M0ILaNaXrD"
      },
      "source": [
        "train_data_mean = np.mean(train_data[0])\r\n",
        "train_data_stdev = np.std(train_data[0])\r\n",
        "train_data = ((train_data[0] - train_data_mean) / train_data_stdev, train_data[1])\r\n",
        "test_data = ((test_data[0] - train_data_mean) / train_data_stdev, test_data[1])\r\n",
        "train_X, trainY = train_data\r\n",
        "test_X, testY = test_data"
      ],
      "execution_count": 4,
      "outputs": []
    },
    {
      "cell_type": "code",
      "metadata": {
        "id": "QAaCxeGAaaUd"
      },
      "source": [
        "train_X, trainY = shuffle(train_X, trainY)\r\n",
        "test_X, testY = shuffle(test_X, testY)"
      ],
      "execution_count": 5,
      "outputs": []
    },
    {
      "cell_type": "code",
      "metadata": {
        "colab": {
          "base_uri": "https://localhost:8080/"
        },
        "id": "mKxdOnLKac0W",
        "outputId": "9e669110-6991-4fdc-f01b-2dec2ee96a98"
      },
      "source": [
        "print('Train: X=%s, y=%s' %(train_X.shape,trainY.shape))\r\n",
        "print('Test: X=%s, y=%s' %(test_X.shape,testY.shape))"
      ],
      "execution_count": 6,
      "outputs": [
        {
          "output_type": "stream",
          "text": [
            "Train: X=(60000, 28, 28), y=(60000,)\n",
            "Test: X=(10000, 28, 28), y=(10000,)\n"
          ],
          "name": "stdout"
        }
      ]
    },
    {
      "cell_type": "code",
      "metadata": {
        "id": "3VsTq-T6afCp"
      },
      "source": [
        "class_label=['T-shirt/top', 'Trouser', 'Pullover', 'Dress', 'Coat', 'Sandal', 'Shirt', 'Sneaker', 'Bag', 'Ankle boot']"
      ],
      "execution_count": 7,
      "outputs": []
    },
    {
      "cell_type": "code",
      "metadata": {
        "id": "xze8mLfJahvh"
      },
      "source": [
        "sample=[]\r\n",
        "for label in range(10):\r\n",
        "    for i in range(len(testY)):\r\n",
        "        if label==testY[i]:\r\n",
        "            sample.append(test_X[i])\r\n",
        "            break"
      ],
      "execution_count": 8,
      "outputs": []
    },
    {
      "cell_type": "code",
      "metadata": {
        "colab": {
          "base_uri": "https://localhost:8080/",
          "height": 118
        },
        "id": "vNPZLQZZajzt",
        "outputId": "8fdd415d-b579-420e-dd5b-88b054ab31ab"
      },
      "source": [
        "fig=plt.figure(figsize=(15,15))\r\n",
        "rows=1\r\n",
        "columns=10\r\n",
        "for i in range(1, columns*rows +1):\r\n",
        "    tg=sample[i-1]\r\n",
        "    ax=fig.add_subplot(rows, columns, i)\r\n",
        "    plt.axis('off')\r\n",
        "    plt.imshow(tg,cmap=plt.cm.binary)\r\n",
        "    ax.title.set_text(class_label[i-1])\r\n",
        "plt.show()"
      ],
      "execution_count": 9,
      "outputs": [
        {
          "output_type": "display_data",
          "data": {
            "image/png": "[encoded data removed]",
            "text/plain": [
              "<Figure size 1080x1080 with 10 Axes>"
            ]
          },
          "metadata": {
            "tags": [],
            "needs_background": "light"
          }
        }
      ]
    },
    {
      "cell_type": "code",
      "metadata": {
        "colab": {
          "base_uri": "https://localhost:8080/"
        },
        "id": "-eXOr3geampu",
        "outputId": "b9d495b8-2dcd-44aa-d88d-62ed791e9c42"
      },
      "source": [
        "trainX=[train_X[i].flatten() for i in range(len(train_X))]\r\n",
        "print(np.shape(trainX))\r\n",
        "print(np.shape(trainY))"
      ],
      "execution_count": 10,
      "outputs": [
        {
          "output_type": "stream",
          "text": [
            "(60000, 784)\n",
            "(60000,)\n"
          ],
          "name": "stdout"
        }
      ]
    },
    {
      "cell_type": "code",
      "metadata": {
        "colab": {
          "base_uri": "https://localhost:8080/"
        },
        "id": "sWuK5gb6ao9V",
        "outputId": "913f41a8-ff68-4395-83cb-9457350e14fc"
      },
      "source": [
        "testX=[test_X[i].flatten() for i in range(len(test_X))]\r\n",
        "print(np.shape(testX))\r\n",
        "print(np.shape(testY))"
      ],
      "execution_count": 11,
      "outputs": [
        {
          "output_type": "stream",
          "text": [
            "(10000, 784)\n",
            "(10000,)\n"
          ],
          "name": "stdout"
        }
      ]
    },
    {
      "cell_type": "code",
      "metadata": {
        "colab": {
          "base_uri": "https://localhost:8080/"
        },
        "id": "vLw3yQP0auK1",
        "outputId": "680e4ac6-d614-4abc-83b2-34bc03757e83"
      },
      "source": [
        "train_samples=len(trainX)\r\n",
        "test_samples=len(testX)\r\n",
        "xlen=len(trainX[0])\r\n",
        "print(xlen)"
      ],
      "execution_count": 12,
      "outputs": [
        {
          "output_type": "stream",
          "text": [
            "784\n"
          ],
          "name": "stdout"
        }
      ]
    },
    {
      "cell_type": "code",
      "metadata": {
        "id": "v1uyHgAzawO8"
      },
      "source": [
        "#No of Layers\r\n",
        "L=3\r\n",
        "#size of each hidden layer\r\n",
        "N=32\r\n",
        "#No of classes\r\n",
        "K=10"
      ],
      "execution_count": 13,
      "outputs": []
    },
    {
      "cell_type": "code",
      "metadata": {
        "id": "BxYjUlGsayKC"
      },
      "source": [
        "def initialize_weights(n_input, n_hidden_layer, n_output,neurons_hl):\r\n",
        "    W = list()\r\n",
        "    W.append([[np.random.normal() for j in range(n_input)]for i in range(neurons_hl)])\r\n",
        "    for i in range(n_hidden_layer-1):\r\n",
        "        W.append([[np.random.normal() for j in range(neurons_hl)]for i in range(neurons_hl)])\r\n",
        "    W.append([[np.random.normal() for j in range(neurons_hl)]for i in range(n_output)])\r\n",
        "    return W"
      ],
      "execution_count": 14,
      "outputs": []
    },
    {
      "cell_type": "code",
      "metadata": {
        "id": "nWayAz-na4FN"
      },
      "source": [
        "def initialize_bias(n_input, n_hidden_layer, n_output,neurons_hl):\r\n",
        "    B=list()\r\n",
        "    for i in range(n_hidden_layer):\r\n",
        "        B.append([np.random.normal() for i in range(neurons_hl)])\r\n",
        "    B.append([np.random.normal() for i in range(n_output)])\r\n",
        "    return B"
      ],
      "execution_count": 17,
      "outputs": []
    },
    {
      "cell_type": "code",
      "metadata": {
        "id": "dhOEEzqxa7YE"
      },
      "source": [
        "def sigmoid(b):\r\n",
        "  a=np.array(b,dtype=np.float128)\r\n",
        "  h=list()\r\n",
        "  for el in a:\r\n",
        "    h.append(1/(1+np.exp(-el)))\r\n",
        "  return h"
      ],
      "execution_count": 16,
      "outputs": []
    },
    {
      "cell_type": "code",
      "metadata": {
        "id": "he72AJ8da9xY"
      },
      "source": [
        "def softmax(b):\r\n",
        "  a=np.array(b,dtype=np.float128)\r\n",
        "  z = a - max(a)\r\n",
        "  h=list()\r\n",
        "  sum=0\r\n",
        "  for el in z:\r\n",
        "    sum+=np.exp(el)\r\n",
        "  for el in z:\r\n",
        "    h.append(np.exp(el)/sum)\r\n",
        "  return h"
      ],
      "execution_count": 18,
      "outputs": []
    },
    {
      "cell_type": "code",
      "metadata": {
        "id": "5kK0RPujbA2x"
      },
      "source": [
        "def feed_forward(input,W,B,L):\r\n",
        "    H=list()\r\n",
        "    A=list()\r\n",
        "    H.append(input)\r\n",
        "    A.append([0])\r\n",
        "    for i in range(1,L):\r\n",
        "        a=B[i-1]+np.matmul(W[i-1],H[i-1])\r\n",
        "       # print(a)\r\n",
        "        A.append(a)\r\n",
        "       # print(h)\r\n",
        "        H.append(sigmoid(a))\r\n",
        "    a=B[L-1]+np.matmul(W[L-1],H[L-1])\r\n",
        "    A.append(a)\r\n",
        "   # print(a)\r\n",
        "    hL=softmax(a)\r\n",
        "   # print(hL)\r\n",
        "    H.append(hL)\r\n",
        "    return H,A,hL"
      ],
      "execution_count": 19,
      "outputs": []
    },
    {
      "cell_type": "code",
      "metadata": {
        "id": "LSxZy51nbDfy"
      },
      "source": [
        "def cmp(e):\r\n",
        "  g=1/(1+np.exp(-e))\r\n",
        "  return g*(1-g)"
      ],
      "execution_count": 20,
      "outputs": []
    },
    {
      "cell_type": "code",
      "metadata": {
        "id": "NFda1VIRbGDd"
      },
      "source": [
        "def diff_sigmoid(a):\r\n",
        "    res=list()\r\n",
        "    for el in a:\r\n",
        "      res.append(cmp(el))\r\n",
        "    return res"
      ],
      "execution_count": 21,
      "outputs": []
    },
    {
      "cell_type": "code",
      "metadata": {
        "id": "aBrk6bB6bIQw"
      },
      "source": [
        "def back_propogation(H,A,y_hat,label,W):\r\n",
        "    W_grad=list()\r\n",
        "    B_grad=list()\r\n",
        "    one_hot_y=np.zeros(K)\r\n",
        "    one_hot_y[label]+=1\r\n",
        "    ak_grad = y_hat-one_hot_y\r\n",
        "    for k in range(L,0,-1):\r\n",
        "        w_grad=np.matmul(np.matrix(ak_grad).T,np.matrix(H[k-1]))\r\n",
        "        W_grad.append(w_grad)\r\n",
        "        B_grad.append(ak_grad)\r\n",
        "        if k != 1:\r\n",
        "            h_grad=np.matmul(np.transpose(W[k-1]),ak_grad)\r\n",
        "            ak_grad=np.multiply(h_grad,diff_sigmoid(A[k-1]))\r\n",
        "    return W_grad,B_grad"
      ],
      "execution_count": 22,
      "outputs": []
    },
    {
      "cell_type": "code",
      "metadata": {
        "id": "da8orsMWbNLU"
      },
      "source": [
        "eta=0.0001"
      ],
      "execution_count": 23,
      "outputs": []
    },
    {
      "cell_type": "code",
      "metadata": {
        "id": "fhegrOjOLdv4"
      },
      "source": [
        "def nadam():\r\n",
        "    t,e=0,0\r\n",
        "    epoch=5\r\n",
        "    batch_size=128\r\n",
        "    W= initialize_weights(xlen,L-1,K,N)\r\n",
        "    B= initialize_bias(xlen,L-1,K,N)\r\n",
        "    loss=list()\r\n",
        "    points=0\r\n",
        "    error=0.0\r\n",
        "    epsilon=1e-10\r\n",
        "    beta1=0.9\r\n",
        "    beta2=0.999\r\n",
        "    wgrad=list()\r\n",
        "    bgrad=list()\r\n",
        "    for l in range(L):\r\n",
        "        wgrad.append(np.zeros(shape=np.shape(W[l])).tolist())\r\n",
        "        bgrad.append(np.zeros(shape=np.shape(B[l])).tolist())\r\n",
        "    v_w=list()\r\n",
        "    v_b=list()\r\n",
        "    for l in range(L):\r\n",
        "        v_w.append(np.zeros(shape=np.shape(W[l])).tolist())\r\n",
        "        v_b.append(np.zeros(shape=np.shape(B[l])).tolist())\r\n",
        "    m_w=list()\r\n",
        "    m_b=list()\r\n",
        "    for l in range(L):\r\n",
        "        m_w.append(np.zeros(shape=np.shape(W[l])).tolist())\r\n",
        "        m_b.append(np.zeros(shape=np.shape(B[l])).tolist())\r\n",
        "    while (e<epoch):\r\n",
        "        for i in range(train_samples):\r\n",
        "            H,A,y_hat=feed_forward(trainX[i],W,B,L)\r\n",
        "            error+=(-math.log(y_hat[trainY[i]]))\r\n",
        "            W_grad,B_grad=back_propogation(H,A,y_hat,trainY[i],W)\r\n",
        "            W_grad=W_grad[::-1]\r\n",
        "            B_grad=B_grad[::-1]\r\n",
        "            for l in range(L):\r\n",
        "                wgrad[l]=(np.matrix(wgrad[l])+np.matrix(W_grad[l])).tolist()\r\n",
        "                bgrad[l]=(bgrad[l]+np.multiply(1,B_grad[l])).tolist()\r\n",
        "            points+=1\r\n",
        "            if(points%batch_size==0):\r\n",
        "                t+=1\r\n",
        "                points=0\r\n",
        "                loss.append(error/batch_size)\r\n",
        "                error=0.0\r\n",
        "                for l in range(L):\r\n",
        "                    m_w[l]=(np.multiply(beta1,m_w[l])+np.multiply((1-beta1),wgrad[l])).tolist()\r\n",
        "                    mwe=(np.divide(m_w[l],(1-(beta1**t)))).tolist()\r\n",
        "                    v_w[l]=(np.multiply(beta2,v_w[l])+np.multiply((1-beta2),np.square(wgrad[l]))).tolist()\r\n",
        "                    vwe=(np.divide(v_w[l],(1-(beta2**t)))).tolist()\r\n",
        "                    tmp=vwe.copy()\r\n",
        "                    new_t=np.add(epsilon,tmp).tolist()\r\n",
        "                    rl=np.reciprocal([[float(j) for j in i] for i in np.sqrt(new_t)]).tolist()\r\n",
        "                    mwe_up=(np.multiply(beta1,m_w[l])+np.multiply((1-beta1),wgrad[l])).tolist()\r\n",
        "                    W[l]=(W[l]-np.multiply(mwe_up,np.multiply(eta,rl))).tolist()\r\n",
        "                    m_b[l]=(np.multiply(beta1,m_b[l])+np.multiply((1-beta1),bgrad[l])).tolist()\r\n",
        "                    mbe=(np.divide(m_b[l],(1-(beta1**t)))).tolist()\r\n",
        "                    v_b[l]=(np.multiply(beta2,v_b[l])+np.multiply((1-beta2),np.square(bgrad[l]))).tolist()\r\n",
        "                    vbe=(np.divide(v_b[l],(1-(beta2**t)))).tolist()\r\n",
        "                    tmp1=vbe.copy()\r\n",
        "                    new_t1=np.add(epsilon,tmp1).tolist()\r\n",
        "                    rl1=np.reciprocal([float(i) for i in np.sqrt(new_t1)]).tolist()\r\n",
        "                    mbe_up=(np.multiply(beta1,m_b[l])+np.multiply((1-beta1),bgrad[l])).tolist()\r\n",
        "                    B[l]=np.subtract(B[l],np.multiply(mbe_up,np.multiply(eta,rl1))).tolist()              \r\n",
        "                wgrad=list()\r\n",
        "                bgrad=list()\r\n",
        "                for l in range(L):\r\n",
        "                    wgrad.append(np.zeros(shape=np.shape(W[l])).tolist())\r\n",
        "                    bgrad.append(np.zeros(shape=np.shape(B[l])).tolist()) \r\n",
        "        e=e+1\r\n",
        "        print('Epoch',e)\r\n",
        "    return W,B,loss"
      ],
      "execution_count": 24,
      "outputs": []
    },
    {
      "cell_type": "code",
      "metadata": {
        "colab": {
          "base_uri": "https://localhost:8080/"
        },
        "id": "EaOBg5cZbSIG",
        "outputId": "1f48b310-6655-453d-9e54-06daa53ddfa6"
      },
      "source": [
        "W_r,B_r,loss=nadam()"
      ],
      "execution_count": 25,
      "outputs": [
        {
          "output_type": "stream",
          "text": [
            "Epoch 1\n",
            "Epoch 2\n",
            "Epoch 3\n",
            "Epoch 4\n",
            "Epoch 5\n"
          ],
          "name": "stdout"
        }
      ]
    },
    {
      "cell_type": "code",
      "metadata": {
        "colab": {
          "base_uri": "https://localhost:8080/",
          "height": 285
        },
        "id": "bugpAewFbS5Z",
        "outputId": "c06ffad7-c3ad-40d7-8e4c-b6069c81bd4e"
      },
      "source": [
        "plt.plot(np.arange(1,len(loss)+1),loss)"
      ],
      "execution_count": 26,
      "outputs": [
        {
          "output_type": "execute_result",
          "data": {
            "text/plain": [
              "[<matplotlib.lines.Line2D at 0x7f0437262b90>]"
            ]
          },
          "metadata": {
            "tags": []
          },
          "execution_count": 26
        },
        {
          "output_type": "display_data",
          "data": {
            "image/png": "[encoded data removed]",
            "text/plain": [
              "<Figure size 432x288 with 1 Axes>"
            ]
          },
          "metadata": {
            "tags": [],
            "needs_background": "light"
          }
        }
      ]
    },
    {
      "cell_type": "code",
      "metadata": {
        "id": "J7bziNUBbZrB"
      },
      "source": [
        "#Prediction\r\n",
        "valid=0\r\n",
        "predict=[]\r\n",
        "for i in range(test_samples):\r\n",
        "    H,A,y_hat = feed_forward(testX[i],W_r,B_r,L)\r\n",
        "    class_predict = y_hat.index(max(y_hat))\r\n",
        "    predict.append(class_predict)\r\n",
        "    if(class_predict==testY[i]):\r\n",
        "      valid+=1"
      ],
      "execution_count": 27,
      "outputs": []
    },
    {
      "cell_type": "code",
      "metadata": {
        "colab": {
          "base_uri": "https://localhost:8080/"
        },
        "id": "Zyo7OnAOvcXC",
        "outputId": "0ac33e12-6ce2-431f-ed18-f1f593f17828"
      },
      "source": [
        "valid"
      ],
      "execution_count": 28,
      "outputs": [
        {
          "output_type": "execute_result",
          "data": {
            "text/plain": [
              "5533"
            ]
          },
          "metadata": {
            "tags": []
          },
          "execution_count": 28
        }
      ]
    }
  ]
}