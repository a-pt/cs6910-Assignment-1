{
  "nbformat": 4,
  "nbformat_minor": 0,
  "metadata": {
    "colab": {
      "name": "NesterovGD.ipynb",
      "provenance": [],
      "include_colab_link": true
    },
    "kernelspec": {
      "name": "python3",
      "display_name": "Python 3"
    }
  },
  "cells": [
    {
      "cell_type": "markdown",
      "metadata": {
        "id": "view-in-github",
        "colab_type": "text"
      },
      "source": [
        "<a href=\"https://colab.research.google.com/github/cs20m016/cs6910-Assignment-1/blob/main/NesterovGD.ipynb\" target=\"_parent\"><img src=\"https://colab.research.google.com/assets/colab-badge.svg\" alt=\"Open In Colab\"/></a>"
      ]
    },
    {
      "cell_type": "code",
      "metadata": {
        "id": "bE1opMo568Zb"
      },
      "source": [
        "import numpy as np\r\n",
        "from matplotlib import pyplot as plt\r\n",
        "from matplotlib import gridspec as gridspec\r\n",
        "from random import randint\r\n",
        "from random import random\r\n",
        "from random import seed\r\n",
        "import math\r\n",
        "from sklearn.utils import shuffle"
      ],
      "execution_count": null,
      "outputs": []
    },
    {
      "cell_type": "code",
      "metadata": {
        "id": "rHLo_NLm8oyg"
      },
      "source": [
        "from keras.datasets import fashion_mnist"
      ],
      "execution_count": null,
      "outputs": []
    },
    {
      "cell_type": "code",
      "metadata": {
        "id": "x9QBH7_wMHe3"
      },
      "source": [
        "train_data,test_data=fashion_mnist.load_data()"
      ],
      "execution_count": null,
      "outputs": []
    },
    {
      "cell_type": "code",
      "metadata": {
        "id": "IbHPosrZMH6y"
      },
      "source": [
        "train_data_mean = np.mean(train_data[0])\r\n",
        "train_data_stdev = np.std(train_data[0])\r\n",
        "train_data = ((train_data[0] - train_data_mean) / train_data_stdev, train_data[1])\r\n",
        "test_data = ((test_data[0] - train_data_mean) / train_data_stdev, test_data[1])\r\n",
        "train_X, trainY = train_data\r\n",
        "test_X, testY = test_data"
      ],
      "execution_count": null,
      "outputs": []
    },
    {
      "cell_type": "code",
      "metadata": {
        "id": "Zjhf-w2eMKL4"
      },
      "source": [
        "train_X, trainY = shuffle(train_X, trainY)\r\n",
        "test_X, testY = shuffle(test_X, testY)"
      ],
      "execution_count": null,
      "outputs": []
    },
    {
      "cell_type": "code",
      "metadata": {
        "colab": {
          "base_uri": "https://localhost:8080/"
        },
        "id": "36rFdXbQML1U",
        "outputId": "910a00e3-c753-47ef-ed0a-df6ad088434c"
      },
      "source": [
        "print('Train: X=%s, y=%s' %(train_X.shape,trainY.shape))\r\n",
        "print('Test: X=%s, y=%s' %(test_X.shape,testY.shape))"
      ],
      "execution_count": null,
      "outputs": [
        {
          "output_type": "stream",
          "text": [
            "Train: X=(60000, 28, 28), y=(60000,)\n",
            "Test: X=(10000, 28, 28), y=(10000,)\n"
          ],
          "name": "stdout"
        }
      ]
    },
    {
      "cell_type": "code",
      "metadata": {
        "id": "L9enQAJSMOFV"
      },
      "source": [
        "trainX=[train_X[i].flatten() for i in range(len(train_X))]"
      ],
      "execution_count": null,
      "outputs": []
    },
    {
      "cell_type": "code",
      "metadata": {
        "id": "lXZPtNdlMQ_V"
      },
      "source": [
        "testX=[test_X[i].flatten() for i in range(len(test_X))]"
      ],
      "execution_count": null,
      "outputs": []
    },
    {
      "cell_type": "code",
      "metadata": {
        "colab": {
          "base_uri": "https://localhost:8080/"
        },
        "id": "Vs8CBpoaMTCQ",
        "outputId": "dc4ba385-fe8f-4f4a-a513-e9d8c3326d1c"
      },
      "source": [
        "train_samples=len(trainX)\r\n",
        "test_samples=len(testX)\r\n",
        "xlen=len(trainX[0])\r\n",
        "print(xlen)"
      ],
      "execution_count": null,
      "outputs": [
        {
          "output_type": "stream",
          "text": [
            "784\n"
          ],
          "name": "stdout"
        }
      ]
    },
    {
      "cell_type": "code",
      "metadata": {
        "id": "rYyCyiSjMU5I"
      },
      "source": [
        "def initialize_weights(n_input, n_hidden_layer, n_output,neurons_hl):\r\n",
        "    W = list()\r\n",
        "    W.append([[np.random.normal() for j in range(n_input)]for i in range(neurons_hl)])\r\n",
        "    for i in range(n_hidden_layer-1):\r\n",
        "        W.append([[np.random.normal() for j in range(neurons_hl)]for i in range(neurons_hl)])\r\n",
        "    W.append([[np.random.normal() for j in range(neurons_hl)]for i in range(n_output)])\r\n",
        "    return W"
      ],
      "execution_count": null,
      "outputs": []
    },
    {
      "cell_type": "code",
      "metadata": {
        "id": "8ZIU_cERMWpZ"
      },
      "source": [
        "def initialize_bias(n_input, n_hidden_layer, n_output,neurons_hl):\r\n",
        "    B=list()\r\n",
        "    for i in range(n_hidden_layer):\r\n",
        "        B.append([np.random.normal() for i in range(neurons_hl)])\r\n",
        "    B.append([np.random.normal() for i in range(n_output)])\r\n",
        "    return B"
      ],
      "execution_count": null,
      "outputs": []
    },
    {
      "cell_type": "code",
      "metadata": {
        "id": "fdqXw1hOMYna"
      },
      "source": [
        "def sigmoid(b):\r\n",
        "  a=np.array(b,dtype=np.float128)\r\n",
        "  h=list()\r\n",
        "  for el in a:\r\n",
        "    h.append(1/(1+np.exp(-el)))\r\n",
        "  return h"
      ],
      "execution_count": null,
      "outputs": []
    },
    {
      "cell_type": "code",
      "metadata": {
        "id": "F1BY4GvMMagg"
      },
      "source": [
        "def softmax(b):\r\n",
        "  a=np.array(b,dtype=np.float128)\r\n",
        "  z = a - max(a)\r\n",
        "  h=list()\r\n",
        "  sum=0\r\n",
        "  for el in z:\r\n",
        "    sum+=np.exp(el)\r\n",
        "  for el in z:\r\n",
        "    h.append(np.exp(el)/sum)\r\n",
        "  return h"
      ],
      "execution_count": null,
      "outputs": []
    },
    {
      "cell_type": "code",
      "metadata": {
        "id": "PFGX_CTvMdQK"
      },
      "source": [
        "def feed_forward(input,W,B,L):\r\n",
        "    H=list()\r\n",
        "    A=list()\r\n",
        "    H.append(input)\r\n",
        "    A.append([0])\r\n",
        "    for i in range(1,L):\r\n",
        "        a=B[i-1]+np.matmul(W[i-1],H[i-1])\r\n",
        "        A.append(a)\r\n",
        "        H.append(sigmoid(a))\r\n",
        "    a=B[L-1]+np.matmul(W[L-1],H[L-1])\r\n",
        "    A.append(a)\r\n",
        "    hL=softmax(a)\r\n",
        "    H.append(hL)\r\n",
        "    return H,A,hL"
      ],
      "execution_count": null,
      "outputs": []
    },
    {
      "cell_type": "code",
      "metadata": {
        "id": "YTChFUeyMgRT"
      },
      "source": [
        "def cmp(e):\r\n",
        "  g=1/(1+np.exp(-e))\r\n",
        "  return g*(1-g)"
      ],
      "execution_count": null,
      "outputs": []
    },
    {
      "cell_type": "code",
      "metadata": {
        "id": "ij3ooSNOMjjc"
      },
      "source": [
        "def diff_sigmoid(a):\r\n",
        "    res=list()\r\n",
        "    for el in a:\r\n",
        "      res.append(cmp(el))\r\n",
        "    return res"
      ],
      "execution_count": null,
      "outputs": []
    },
    {
      "cell_type": "code",
      "metadata": {
        "id": "Mmc65_ZAMlUU"
      },
      "source": [
        "def back_propogation(H,A,y_hat,label,W,L,K):\r\n",
        "    W_grad=list()\r\n",
        "    B_grad=list()\r\n",
        "    one_hot_y=np.zeros(K)\r\n",
        "    one_hot_y[label]+=1\r\n",
        "    ak_grad = y_hat-one_hot_y\r\n",
        "    for k in range(L,0,-1):\r\n",
        "        w_grad=np.matmul(np.matrix(ak_grad).T,np.matrix(H[k-1]))\r\n",
        "        W_grad.append(w_grad)\r\n",
        "        B_grad.append(ak_grad)\r\n",
        "        if k != 1:\r\n",
        "            h_grad=np.matmul(np.transpose(W[k-1]),ak_grad)\r\n",
        "            ak_grad=np.multiply(h_grad,diff_sigmoid(A[k-1]))\r\n",
        "    return W_grad,B_grad"
      ],
      "execution_count": null,
      "outputs": []
    },
    {
      "cell_type": "code",
      "metadata": {
        "id": "Gj-h75CQMnrm"
      },
      "source": [
        "def nesterov():\r\n",
        "    e,t=0,0\r\n",
        "    L=3\r\n",
        "    K=10\r\n",
        "    N=8\r\n",
        "    eta=0.001\r\n",
        "    epoch=5\r\n",
        "    batch_size=128\r\n",
        "    W= initialize_weights(xlen,L-1,K,N)\r\n",
        "    B= initialize_bias(xlen,L-1,K,N)\r\n",
        "    loss=list()\r\n",
        "    points=0\r\n",
        "    error=0.0\r\n",
        "    gamma=0.9\r\n",
        "    wgrad=list()\r\n",
        "    bgrad=list()\r\n",
        "    for l in range(L):\r\n",
        "        wgrad.append(np.zeros(shape=np.shape(W[l])).tolist())\r\n",
        "        bgrad.append(np.zeros(shape=np.shape(B[l])).tolist())\r\n",
        "    uw=list()\r\n",
        "    ub=list()\r\n",
        "    for l in range(L):\r\n",
        "        uw.append(np.zeros(shape=np.shape(W[l])).tolist())\r\n",
        "        ub.append(np.zeros(shape=np.shape(B[l])).tolist())\r\n",
        "    while (e<epoch):\r\n",
        "        for i in range(train_samples):\r\n",
        "            Wc=list()\r\n",
        "            Bc=list()\r\n",
        "            for l in range(L):\r\n",
        "                Wc.append((W[l]-np.multiply(gamma,uw[l])).tolist())\r\n",
        "                Bc.append((B[l]-np.multiply(gamma,ub[l])).tolist())\r\n",
        "            H,A,y_hat=feed_forward(trainX[i],W,B,L)\r\n",
        "            error+=(-math.log(y_hat[trainY[i]]))\r\n",
        "            Hi,Ai,y_hati=feed_forward(trainX[i],Wc,Bc,L)\r\n",
        "            W_grad,B_grad=back_propogation(Hi,Ai,y_hati,trainY[i],Wc,L,K)\r\n",
        "            W_grad=W_grad[::-1]\r\n",
        "            B_grad=B_grad[::-1]\r\n",
        "            for l in range(L):\r\n",
        "                wgrad[l]=(np.matrix(wgrad[l])+np.matrix(W_grad[l])).tolist()\r\n",
        "                bgrad[l]=(bgrad[l]+np.multiply(1,B_grad[l])).tolist()\r\n",
        "            points+=1\r\n",
        "            if(points%batch_size==0):\r\n",
        "                points=0\r\n",
        "                t += 1\r\n",
        "                loss.append(error/batch_size)\r\n",
        "                error=0.0\r\n",
        "                for l in range(L):\r\n",
        "                    uw[l]=(np.multiply(gamma,uw[l])+np.multiply(eta,wgrad[l])).tolist()\r\n",
        "                    W[l]=np.subtract(W[l],uw[l]).tolist()\r\n",
        "                    ub[l]=(np.multiply(gamma,ub[l])+np.multiply(eta,bgrad[l])).tolist()\r\n",
        "                    B[l]=np.subtract(B[l],ub[l]).tolist()\r\n",
        "                wgrad=list()\r\n",
        "                bgrad=list()\r\n",
        "                for l in range(L):\r\n",
        "                    wgrad.append(np.zeros(shape=np.shape(W[l])).tolist())\r\n",
        "                    bgrad.append(np.zeros(shape=np.shape(B[l])).tolist())         \r\n",
        "        e=e+1\r\n",
        "        print('Epoch',e)\r\n",
        "    return W,B,loss"
      ],
      "execution_count": null,
      "outputs": []
    },
    {
      "cell_type": "code",
      "metadata": {
        "colab": {
          "base_uri": "https://localhost:8080/"
        },
        "id": "rEdjG_gEMpb3",
        "outputId": "9493119a-a8ec-400a-f191-46e57097e4e8"
      },
      "source": [
        "W_r,B_r,loss=nesterov()"
      ],
      "execution_count": null,
      "outputs": [
        {
          "output_type": "stream",
          "text": [
            "Epoch 1\n",
            "Epoch 2\n",
            "Epoch 3\n",
            "Epoch 4\n",
            "Epoch 5\n"
          ],
          "name": "stdout"
        }
      ]
    },
    {
      "cell_type": "code",
      "metadata": {
        "id": "q7JOWMLUMujA",
        "colab": {
          "base_uri": "https://localhost:8080/",
          "height": 283
        },
        "outputId": "6458dbbc-d0a8-446b-8772-d703dff9fc81"
      },
      "source": [
        "plt.plot(np.arange(1,len(loss)+1),loss)"
      ],
      "execution_count": null,
      "outputs": [
        {
          "output_type": "execute_result",
          "data": {
            "text/plain": [
              "[<matplotlib.lines.Line2D at 0x7fc4586adc90>]"
            ]
          },
          "metadata": {
            "tags": []
          },
          "execution_count": 39
        },
        {
          "output_type": "display_data",
          "data": {
            "image/png": "[encoded data removed]",
            "text/plain": [
              "<Figure size 432x288 with 1 Axes>"
            ]
          },
          "metadata": {
            "tags": [],
            "needs_background": "light"
          }
        }
      ]
    },
    {
      "cell_type": "code",
      "metadata": {
        "id": "ErX1tTSXMwjz",
        "colab": {
          "base_uri": "https://localhost:8080/"
        },
        "outputId": "baf0398e-c222-4e47-b2f7-7a8c4f437f57"
      },
      "source": [
        "#Prediction\r\n",
        "valid=0\r\n",
        "predict=[]\r\n",
        "for i in range(test_samples):\r\n",
        "    H,A,y_hat = feed_forward(testX[i],W_r,B_r,L=3)\r\n",
        "    class_predict = y_hat.index(max(y_hat))\r\n",
        "    predict.append(class_predict)\r\n",
        "    if(class_predict==testY[i]):\r\n",
        "      valid+=1\r\n",
        "valid"
      ],
      "execution_count": null,
      "outputs": [
        {
          "output_type": "execute_result",
          "data": {
            "text/plain": [
              "7751"
            ]
          },
          "metadata": {
            "tags": []
          },
          "execution_count": 40
        }
      ]
    }
  ]
}