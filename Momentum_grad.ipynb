{
  "nbformat": 4,
  "nbformat_minor": 0,
  "metadata": {
    "colab": {
      "name": "Momentum_grad.ipynb",
      "provenance": [],
      "include_colab_link": true
    },
    "kernelspec": {
      "name": "python3",
      "display_name": "Python 3"
    }
  },
  "cells": [
    {
      "cell_type": "markdown",
      "metadata": {
        "id": "view-in-github",
        "colab_type": "text"
      },
      "source": [
        "<a href=\"https://colab.research.google.com/github/cs20m016/cs6910-Assignment-1/blob/main/Momentum_grad.ipynb\" target=\"_parent\"><img src=\"https://colab.research.google.com/assets/colab-badge.svg\" alt=\"Open In Colab\"/></a>"
      ]
    },
    {
      "cell_type": "code",
      "metadata": {
        "id": "3ca-HK4Fqmrb"
      },
      "source": [
        "import numpy as np\r\n",
        "import matplotlib.pyplot as plt\r\n",
        "import pandas as pd\r\n",
        "import random\r\n",
        "import math"
      ],
      "execution_count": 2,
      "outputs": []
    },
    {
      "cell_type": "code",
      "metadata": {
        "id": "ZjLVtUigq5X-"
      },
      "source": [
        "from keras.datasets import fashion_mnist"
      ],
      "execution_count": 12,
      "outputs": []
    },
    {
      "cell_type": "code",
      "metadata": {
        "id": "MygyMKjoq5VE"
      },
      "source": [
        "(train_X,train_Y), (test_X,test_Y)= fashion_mnist.load_data()"
      ],
      "execution_count": 13,
      "outputs": []
    },
    {
      "cell_type": "code",
      "metadata": {
        "id": "O87Z2rxBq5Sj",
        "outputId": "9cf9a0ac-4552-4564-c972-4564713c4654",
        "colab": {
          "base_uri": "https://localhost:8080/"
        }
      },
      "source": [
        "train_X.shape, train_Y.shape"
      ],
      "execution_count": 14,
      "outputs": [
        {
          "output_type": "execute_result",
          "data": {
            "text/plain": [
              "((60000, 28, 28), (60000,))"
            ]
          },
          "metadata": {
            "tags": []
          },
          "execution_count": 14
        }
      ]
    },
    {
      "cell_type": "code",
      "metadata": {
        "id": "hIJdMufoq5Qq"
      },
      "source": [
        "train_X = train_X[:]/255\r\n",
        "test_Y = test_Y[:]/255"
      ],
      "execution_count": 15,
      "outputs": []
    },
    {
      "cell_type": "code",
      "metadata": {
        "id": "q46IIfjOq5Nl"
      },
      "source": [
        "train_X=[train_X[i].flatten() for i in range(len(train_X))]\r\n",
        "test_X=[test_X[i].flatten() for i in range(len(test_X))]"
      ],
      "execution_count": 16,
      "outputs": []
    },
    {
      "cell_type": "code",
      "metadata": {
        "id": "5s4qxWyIq5Lc",
        "outputId": "577e2fdc-afd4-42e1-bab2-830aafb5999a",
        "colab": {
          "base_uri": "https://localhost:8080/"
        }
      },
      "source": [
        "np.shape(train_X), np.shape(train_Y), np.shape(test_X), np.shape(test_Y)"
      ],
      "execution_count": 17,
      "outputs": [
        {
          "output_type": "execute_result",
          "data": {
            "text/plain": [
              "((60000, 784), (60000,), (10000, 784), (10000,))"
            ]
          },
          "metadata": {
            "tags": []
          },
          "execution_count": 17
        }
      ]
    },
    {
      "cell_type": "code",
      "metadata": {
        "id": "LNse_r4yq5I-",
        "outputId": "14ec8a8b-6db3-472d-ceb6-0d805352be1e",
        "colab": {
          "base_uri": "https://localhost:8080/"
        }
      },
      "source": [
        "train_samples=len(train_X)\r\n",
        "test_samples=len(test_X)\r\n",
        "xlen=len(train_X[0])\r\n",
        "print(xlen)"
      ],
      "execution_count": 18,
      "outputs": [
        {
          "output_type": "stream",
          "text": [
            "784\n"
          ],
          "name": "stdout"
        }
      ]
    },
    {
      "cell_type": "code",
      "metadata": {
        "id": "_s-lS7AFq5Gq"
      },
      "source": [
        "#N: number of inputs\r\n",
        "#N = input()\r\n",
        "N = 5\r\n",
        "#L: number of layers\r\n",
        "#L = input()\r\n",
        "L = 3\r\n",
        "#H = number of hidden layers\r\n",
        "Hid = L-1\r\n",
        "#K = number of classes\r\n",
        "K = 10"
      ],
      "execution_count": 19,
      "outputs": []
    },
    {
      "cell_type": "code",
      "metadata": {
        "id": "GKzuHCgrrJ5B"
      },
      "source": [
        "def initialize_weights(n_input, n_hidden_layer, n_output,neurons_hl):\r\n",
        "    W = list()\r\n",
        "    W.append([[random.random() for j in range(n_input)]for i in range(neurons_hl)])\r\n",
        "    for i in range(n_hidden_layer-1):\r\n",
        "        W.append([[random.random() for j in range(neurons_hl)]for i in range(neurons_hl)])\r\n",
        "    W.append([[random.random() for j in range(neurons_hl)]for i in range(n_output)])\r\n",
        "    return W\r\n",
        "#W=initialize_weights(len(train_X[0]),Hid,10,N)"
      ],
      "execution_count": 20,
      "outputs": []
    },
    {
      "cell_type": "code",
      "metadata": {
        "id": "AnG0EUpBrJ1i"
      },
      "source": [
        "def initialize_bias(n_input, n_hidden_layer, n_output,n_neurons):\r\n",
        "    b=list()\r\n",
        "    for i in range(n_hidden_layer):\r\n",
        "        b.append([random.random() for i in range(n_neurons)])\r\n",
        "    b.append([random.random() for i in range(n_output)])\r\n",
        "    return b\r\n",
        "#b = initialize_bias(len(train_X[0]),L-1,10,N)"
      ],
      "execution_count": 21,
      "outputs": []
    },
    {
      "cell_type": "code",
      "metadata": {
        "id": "fu3B7cRJ2hnC"
      },
      "source": [
        "def sigmoid(a):\r\n",
        "  h = []\r\n",
        "  for a1 in a:\r\n",
        "    h.append(1.0/(1.0 + np.exp(-a1)))\r\n",
        "  return h"
      ],
      "execution_count": 22,
      "outputs": []
    },
    {
      "cell_type": "code",
      "metadata": {
        "id": "uhC51rvj2hgf"
      },
      "source": [
        "def softmax(a):\r\n",
        "  y = []\r\n",
        "  sum = 0\r\n",
        "  for a1 in a:\r\n",
        "    sum+= np.exp(a1)\r\n",
        "  for a1 in a:\r\n",
        "    y.append(np.exp(a1)/sum)\r\n",
        "  return y"
      ],
      "execution_count": 23,
      "outputs": []
    },
    {
      "cell_type": "code",
      "metadata": {
        "id": "cFGFZS5krJy4"
      },
      "source": [
        "def feed_forward_prop(input,W,b,L):\r\n",
        "  H=[]\r\n",
        "  A=[]\r\n",
        "  h=input\r\n",
        "  H.append(h)\r\n",
        "  A.append([0])\r\n",
        "  for i in range(1,L):\r\n",
        "      a=b[i-1]+np.matmul(W[i-1],H[i-1])\r\n",
        "      A.append(a)\r\n",
        "      h=sigmoid(a)\r\n",
        "      H.append(h)\r\n",
        "  aL=b[L-1]+np.matmul(W[L-1],H[L-1])\r\n",
        "  A.append(aL)\r\n",
        "  hL=softmax(aL)\r\n",
        "  H.append(hL)\r\n",
        "  y_hat = hL\r\n",
        "  return H,A,y_hat"
      ],
      "execution_count": 24,
      "outputs": []
    },
    {
      "cell_type": "code",
      "metadata": {
        "id": "DbBHDwqlrJv9"
      },
      "source": [
        "def cmp(e):\r\n",
        "  g=1.0/(1.0 + np.exp(-e))\r\n",
        "  return g*(1-g)"
      ],
      "execution_count": 25,
      "outputs": []
    },
    {
      "cell_type": "code",
      "metadata": {
        "id": "bH-Eq-OorJt4"
      },
      "source": [
        "def diff_sigmoid(a):\r\n",
        "    res=[]\r\n",
        "    for el in a:\r\n",
        "      res.append(cmp(el))\r\n",
        "    return res"
      ],
      "execution_count": 26,
      "outputs": []
    },
    {
      "cell_type": "code",
      "metadata": {
        "id": "KLTVqp9IrSMS"
      },
      "source": [
        "def back_propogation(H,A,y_hat,label,W):\r\n",
        "    W_grad=list()\r\n",
        "    B_grad=list()\r\n",
        "    one_hot_y=np.zeros(K)\r\n",
        "    one_hot_y[label]+=1\r\n",
        "    ak_grad = y_hat-one_hot_y\r\n",
        "    for k in range(L,0,-1):\r\n",
        "        w_grad=np.matmul(np.matrix(ak_grad).T,np.matrix(H[k-1]))\r\n",
        "        W_grad.append(w_grad)\r\n",
        "        B_grad.append(ak_grad)\r\n",
        "        if k != 1:\r\n",
        "            h_grad=np.matmul(np.transpose(W[k-1]),ak_grad)\r\n",
        "            ak_grad=np.multiply(h_grad,diff_sigmoid(A[k-1]))\r\n",
        "    return W_grad,B_grad"
      ],
      "execution_count": 34,
      "outputs": []
    },
    {
      "cell_type": "code",
      "metadata": {
        "id": "RPCMgsI3rSEL"
      },
      "source": [
        "eta=0.001\r\n",
        "gamma = 0.9"
      ],
      "execution_count": 28,
      "outputs": []
    },
    {
      "cell_type": "code",
      "metadata": {
        "id": "ayLfNjG9rSB3"
      },
      "source": [
        "def momentum_gradient_descent():\r\n",
        "    t=0\r\n",
        "    max_iterations=5\r\n",
        "    W= initialize_weights(xlen,L-1,K,N)\r\n",
        "    B= initialize_bias(xlen,L-1,K,N)\r\n",
        "    loss=list()\r\n",
        "    prev_vw=list()\r\n",
        "    prev_bw=list()\r\n",
        "    for l in range(L):\r\n",
        "      prev_vw.append(np.zeros(shape=np.shape(W[l])).tolist())\r\n",
        "      prev_bw.append(np.zeros(shape=np.shape(B[l])).tolist())\r\n",
        "    while (t<max_iterations):\r\n",
        "      wgrad=list()\r\n",
        "      bgrad=list()\r\n",
        "      for l in range(L):\r\n",
        "          wgrad.append(np.zeros(shape=np.shape(W[l])).tolist())\r\n",
        "          bgrad.append(np.zeros(shape=np.shape(B[l])).tolist())\r\n",
        "      for i in range(train_samples):\r\n",
        "        for l in range(L):\r\n",
        "            H,A,y_hat=feed_forward_prop(train_X[i],W,B,L)\r\n",
        "            W_grad,B_grad=back_propogation(H,A,y_hat,train_Y[i],W)\r\n",
        "            W_grad=W_grad[::-1]\r\n",
        "            B_grad=B_grad[::-1]\r\n",
        "            loss.append(-math.log(y_hat[train_Y[i]]))\r\n",
        "        v_w = []\r\n",
        "        v_b = []\r\n",
        "        v_w.append(np.zeros(shape=np.shape(W[l])).tolist())\r\n",
        "        v_b.append(np.zeros(shape=np.shape(B[l])).tolist())\r\n",
        "        for l in range(L):\r\n",
        "          v_w.append(np.multiply(gamma,prev_vw[l])+np.multiply(eta,W_grad[l]).tolist())\r\n",
        "          v_b.append(np.multiply(gamma,prev_bw[l])+np.multiply(eta,B_grad[l]).tolist())\r\n",
        "        for l in range(L):\r\n",
        "          W[l]=(np.matrix(W[l])-np.matrix(v_w[l])).tolist()\r\n",
        "          B[l]=np.subtract(B[l],v_b[l]) \r\n",
        "        for l in range(L):\r\n",
        "          prev_vw[l] = v_w[l]\r\n",
        "          prev_bw[l] = b_w[l]\r\n",
        "\r\n",
        "      t=t+1\r\n",
        "      print('Epoch',t)\r\n",
        "    return W,B,loss"
      ],
      "execution_count": 38,
      "outputs": []
    },
    {
      "cell_type": "code",
      "metadata": {
        "id": "Sd8XZJkXrJr0",
        "outputId": "5e0f2922-38c9-4ead-ba9a-442d6b378b4c",
        "colab": {
          "base_uri": "https://localhost:8080/",
          "height": 287
        }
      },
      "source": [
        "W_m,B_m,loss_m=momentum_gradient_descent()"
      ],
      "execution_count": 39,
      "outputs": [
        {
          "output_type": "error",
          "ename": "ValueError",
          "evalue": "ignored",
          "traceback": [
            "\u001b[0;31m---------------------------------------------------------------------------\u001b[0m",
            "\u001b[0;31mValueError\u001b[0m                                Traceback (most recent call last)",
            "\u001b[0;32m<ipython-input-39-2120ea3d635d>\u001b[0m in \u001b[0;36m<module>\u001b[0;34m()\u001b[0m\n\u001b[0;32m----> 1\u001b[0;31m \u001b[0mW_m\u001b[0m\u001b[0;34m,\u001b[0m\u001b[0mB_m\u001b[0m\u001b[0;34m,\u001b[0m\u001b[0mloss_m\u001b[0m\u001b[0;34m=\u001b[0m\u001b[0mmomentum_gradient_descent\u001b[0m\u001b[0;34m(\u001b[0m\u001b[0;34m)\u001b[0m\u001b[0;34m\u001b[0m\u001b[0;34m\u001b[0m\u001b[0m\n\u001b[0m",
            "\u001b[0;32m<ipython-input-38-b6b608b05dcc>\u001b[0m in \u001b[0;36mmomentum_gradient_descent\u001b[0;34m()\u001b[0m\n\u001b[1;32m     31\u001b[0m           \u001b[0mv_b\u001b[0m\u001b[0;34m.\u001b[0m\u001b[0mappend\u001b[0m\u001b[0;34m(\u001b[0m\u001b[0mnp\u001b[0m\u001b[0;34m.\u001b[0m\u001b[0mmultiply\u001b[0m\u001b[0;34m(\u001b[0m\u001b[0mgamma\u001b[0m\u001b[0;34m,\u001b[0m\u001b[0mprev_bw\u001b[0m\u001b[0;34m[\u001b[0m\u001b[0ml\u001b[0m\u001b[0;34m]\u001b[0m\u001b[0;34m)\u001b[0m\u001b[0;34m+\u001b[0m\u001b[0mnp\u001b[0m\u001b[0;34m.\u001b[0m\u001b[0mmultiply\u001b[0m\u001b[0;34m(\u001b[0m\u001b[0meta\u001b[0m\u001b[0;34m,\u001b[0m\u001b[0mB_grad\u001b[0m\u001b[0;34m[\u001b[0m\u001b[0ml\u001b[0m\u001b[0;34m]\u001b[0m\u001b[0;34m)\u001b[0m\u001b[0;34m.\u001b[0m\u001b[0mtolist\u001b[0m\u001b[0;34m(\u001b[0m\u001b[0;34m)\u001b[0m\u001b[0;34m)\u001b[0m\u001b[0;34m\u001b[0m\u001b[0;34m\u001b[0m\u001b[0m\n\u001b[1;32m     32\u001b[0m         \u001b[0;32mfor\u001b[0m \u001b[0ml\u001b[0m \u001b[0;32min\u001b[0m \u001b[0mrange\u001b[0m\u001b[0;34m(\u001b[0m\u001b[0mL\u001b[0m\u001b[0;34m)\u001b[0m\u001b[0;34m:\u001b[0m\u001b[0;34m\u001b[0m\u001b[0;34m\u001b[0m\u001b[0m\n\u001b[0;32m---> 33\u001b[0;31m           \u001b[0mW\u001b[0m\u001b[0;34m[\u001b[0m\u001b[0ml\u001b[0m\u001b[0;34m]\u001b[0m\u001b[0;34m=\u001b[0m\u001b[0;34m(\u001b[0m\u001b[0mnp\u001b[0m\u001b[0;34m.\u001b[0m\u001b[0mmatrix\u001b[0m\u001b[0;34m(\u001b[0m\u001b[0mW\u001b[0m\u001b[0;34m[\u001b[0m\u001b[0ml\u001b[0m\u001b[0;34m]\u001b[0m\u001b[0;34m)\u001b[0m\u001b[0;34m-\u001b[0m\u001b[0mnp\u001b[0m\u001b[0;34m.\u001b[0m\u001b[0mmatrix\u001b[0m\u001b[0;34m(\u001b[0m\u001b[0mv_w\u001b[0m\u001b[0;34m[\u001b[0m\u001b[0ml\u001b[0m\u001b[0;34m]\u001b[0m\u001b[0;34m)\u001b[0m\u001b[0;34m)\u001b[0m\u001b[0;34m.\u001b[0m\u001b[0mtolist\u001b[0m\u001b[0;34m(\u001b[0m\u001b[0;34m)\u001b[0m\u001b[0;34m\u001b[0m\u001b[0;34m\u001b[0m\u001b[0m\n\u001b[0m\u001b[1;32m     34\u001b[0m           \u001b[0mB\u001b[0m\u001b[0;34m[\u001b[0m\u001b[0ml\u001b[0m\u001b[0;34m]\u001b[0m\u001b[0;34m=\u001b[0m\u001b[0mnp\u001b[0m\u001b[0;34m.\u001b[0m\u001b[0msubtract\u001b[0m\u001b[0;34m(\u001b[0m\u001b[0mB\u001b[0m\u001b[0;34m[\u001b[0m\u001b[0ml\u001b[0m\u001b[0;34m]\u001b[0m\u001b[0;34m,\u001b[0m\u001b[0mv_b\u001b[0m\u001b[0;34m[\u001b[0m\u001b[0ml\u001b[0m\u001b[0;34m]\u001b[0m\u001b[0;34m)\u001b[0m\u001b[0;34m\u001b[0m\u001b[0;34m\u001b[0m\u001b[0m\n\u001b[1;32m     35\u001b[0m         \u001b[0;32mfor\u001b[0m \u001b[0ml\u001b[0m \u001b[0;32min\u001b[0m \u001b[0mrange\u001b[0m\u001b[0;34m(\u001b[0m\u001b[0mL\u001b[0m\u001b[0;34m)\u001b[0m\u001b[0;34m:\u001b[0m\u001b[0;34m\u001b[0m\u001b[0;34m\u001b[0m\u001b[0m\n",
            "\u001b[0;31mValueError\u001b[0m: operands could not be broadcast together with shapes (5,784) (10,5) "
          ]
        }
      ]
    },
    {
      "cell_type": "code",
      "metadata": {
        "id": "sCU6Ik5U4Flv"
      },
      "source": [
        "plt.plot(np.arange(1,len(loss_m)+1),loss_m)"
      ],
      "execution_count": null,
      "outputs": []
    },
    {
      "cell_type": "code",
      "metadata": {
        "id": "AD42Vjza4FbZ"
      },
      "source": [
        ""
      ],
      "execution_count": null,
      "outputs": []
    }
  ]
}