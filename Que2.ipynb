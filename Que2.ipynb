{
  "nbformat": 4,
  "nbformat_minor": 0,
  "metadata": {
    "colab": {
      "name": "Que2.ipynb",
      "provenance": [],
      "collapsed_sections": [],
      "include_colab_link": true
    },
    "kernelspec": {
      "name": "python3",
      "display_name": "Python 3"
    }
  },
  "cells": [
    {
      "cell_type": "markdown",
      "metadata": {
        "id": "view-in-github",
        "colab_type": "text"
      },
      "source": [
        "<a href=\"https://colab.research.google.com/github/cs20m016/cs6910-Assignment-1/blob/main/Que2.ipynb\" target=\"_parent\"><img src=\"https://colab.research.google.com/assets/colab-badge.svg\" alt=\"Open In Colab\"/></a>"
      ]
    },
    {
      "cell_type": "code",
      "metadata": {
        "id": "Hl7y_jrMRKdN"
      },
      "source": [
        "import numpy as np\r\n",
        "import matplotlib.pyplot as plt\r\n",
        "import pandas as pd\r\n",
        "import random\r\n",
        "import math"
      ],
      "execution_count": 120,
      "outputs": []
    },
    {
      "cell_type": "code",
      "metadata": {
        "id": "6nNWmCVoTj6v"
      },
      "source": [
        "from keras.datasets import fashion_mnist"
      ],
      "execution_count": 48,
      "outputs": []
    },
    {
      "cell_type": "code",
      "metadata": {
        "id": "Bi_Sb0I_Tj0z"
      },
      "source": [
        "(train_X,train_Y), (test_X,test_Y)= fashion_mnist.load_data()"
      ],
      "execution_count": 49,
      "outputs": []
    },
    {
      "cell_type": "code",
      "metadata": {
        "colab": {
          "base_uri": "https://localhost:8080/"
        },
        "id": "nPCY-F81Tjx5",
        "outputId": "e024f0ac-9427-4ae6-c97f-323bb69d87f1"
      },
      "source": [
        "train_X.shape, train_Y.shape"
      ],
      "execution_count": 50,
      "outputs": [
        {
          "output_type": "execute_result",
          "data": {
            "text/plain": [
              "((60000, 28, 28), (60000,))"
            ]
          },
          "metadata": {
            "tags": []
          },
          "execution_count": 50
        }
      ]
    },
    {
      "cell_type": "code",
      "metadata": {
        "id": "WOvTxrV-Tjnd"
      },
      "source": [
        "train_X = train_X[:]/255\r\n",
        "test_Y = test_Y[:]/255"
      ],
      "execution_count": 51,
      "outputs": []
    },
    {
      "cell_type": "code",
      "metadata": {
        "id": "o25YyGvVmoB_"
      },
      "source": [
        "train_X=[train_X[i].flatten() for i in range(len(train_X))]\r\n",
        "test_X=[test_X[i].flatten() for i in range(len(test_X))]"
      ],
      "execution_count": 52,
      "outputs": []
    },
    {
      "cell_type": "code",
      "metadata": {
        "colab": {
          "base_uri": "https://localhost:8080/"
        },
        "id": "hULrbWpnnTWu",
        "outputId": "50989ab5-a834-4cd8-cf3d-ea0ac562ae16"
      },
      "source": [
        "np.shape(train_X), np.shape(train_Y), np.shape(test_X), np.shape(test_Y)"
      ],
      "execution_count": 53,
      "outputs": [
        {
          "output_type": "execute_result",
          "data": {
            "text/plain": [
              "((60000, 784), (60000,), (10000, 784), (10000,))"
            ]
          },
          "metadata": {
            "tags": []
          },
          "execution_count": 53
        }
      ]
    },
    {
      "cell_type": "code",
      "metadata": {
        "colab": {
          "base_uri": "https://localhost:8080/"
        },
        "id": "FK13NvWtJrqS",
        "outputId": "8de0d711-9659-41ec-97d7-7c5fdb4cdefb"
      },
      "source": [
        "train_samples=len(train_X)\r\n",
        "test_samples=len(test_X)\r\n",
        "xlen=len(train_X[0])\r\n",
        "print(xlen)"
      ],
      "execution_count": 54,
      "outputs": [
        {
          "output_type": "stream",
          "text": [
            "784\n"
          ],
          "name": "stdout"
        }
      ]
    },
    {
      "cell_type": "code",
      "metadata": {
        "id": "sED-2jH13oR4"
      },
      "source": [
        "#N: number of inputs\r\n",
        "#N = input()\r\n",
        "N = 5\r\n",
        "#L: number of layers\r\n",
        "#L = input()\r\n",
        "L = 3\r\n",
        "#H = number of hidden layers\r\n",
        "Hid = L-1\r\n",
        "#K = number of classes\r\n",
        "K = 10"
      ],
      "execution_count": 68,
      "outputs": []
    },
    {
      "cell_type": "code",
      "metadata": {
        "id": "VojqwswC0spd"
      },
      "source": [
        "def sigmoid(a):\r\n",
        "  h = []\r\n",
        "  for a1 in a:\r\n",
        "    h.append(1.0/(1.0 + np.exp(-a1)))\r\n",
        "  return h"
      ],
      "execution_count": 56,
      "outputs": []
    },
    {
      "cell_type": "code",
      "metadata": {
        "id": "vz8yFN7KachD"
      },
      "source": [
        "def softmax(a):\r\n",
        "  y = []\r\n",
        "  sum = 0\r\n",
        "  for a1 in a:\r\n",
        "    sum+= np.exp(a1)\r\n",
        "  for a1 in a:\r\n",
        "    y.append(np.exp(a1)/sum)\r\n",
        "  return y"
      ],
      "execution_count": 57,
      "outputs": []
    },
    {
      "cell_type": "code",
      "metadata": {
        "id": "lFv1lhLwmEQ4"
      },
      "source": [
        "def initialize_weights(n_input, n_hidden_layer, n_output,neurons_hl):\r\n",
        "    W = list()\r\n",
        "    W.append([[random.random() for j in range(n_input)]for i in range(neurons_hl)])\r\n",
        "    for i in range(n_hidden_layer-1):\r\n",
        "        W.append([[random.random() for j in range(neurons_hl)]for i in range(neurons_hl)])\r\n",
        "    W.append([[random.random() for j in range(neurons_hl)]for i in range(n_output)])\r\n",
        "    return W\r\n",
        "W=initialize_weights(len(train_X[0]),Hid,10,N)"
      ],
      "execution_count": 58,
      "outputs": []
    },
    {
      "cell_type": "code",
      "metadata": {
        "id": "ndolgSz_mEE1"
      },
      "source": [
        "def initialize_bias(n_input, n_hidden_layer, n_output,n_neurons):\r\n",
        "    b=list()\r\n",
        "    for i in range(n_hidden_layer):\r\n",
        "        b.append([random.random() for i in range(n_neurons)])\r\n",
        "    b.append([random.random() for i in range(n_output)])\r\n",
        "    return b\r\n",
        "b = initialize_bias(len(train_X[0]),L-1,10,N)"
      ],
      "execution_count": 59,
      "outputs": []
    },
    {
      "cell_type": "code",
      "metadata": {
        "id": "Lz1yvps-VRiB"
      },
      "source": [
        "def feed_forward_prop(input,W,b,L):\r\n",
        "  H=[]\r\n",
        "  A=[]\r\n",
        "  h=input\r\n",
        "  H.append(h)\r\n",
        "  A.append([0])\r\n",
        "  for i in range(1,L):\r\n",
        "      a=b[i-1]+np.matmul(W[i-1],h)\r\n",
        "      A.append(a)\r\n",
        "      h=sigmoid(a)\r\n",
        "      H.append(h)\r\n",
        "  aL=b[L-1]+np.matmul(W[L-1],h)\r\n",
        "  A.append(aL)\r\n",
        "  hL=softmax(aL)\r\n",
        "  H.append(hL)\r\n",
        "  y_hat = hL\r\n",
        "  return H,A,y_hat"
      ],
      "execution_count": 128,
      "outputs": []
    },
    {
      "cell_type": "code",
      "metadata": {
        "id": "8s6gvlIiVReo"
      },
      "source": [
        "Y_pred = list()\r\n",
        "for x in train_X:\r\n",
        "  H,A,y_hat = feed_forward_prop(x,W,b,L)\r\n",
        "  Y_pred.append(y_hat)"
      ],
      "execution_count": 129,
      "outputs": []
    },
    {
      "cell_type": "code",
      "metadata": {
        "colab": {
          "base_uri": "https://localhost:8080/"
        },
        "id": "AznDo-x7CvYm",
        "outputId": "3e70caab-5b3f-406a-a191-7dd09a617cc9"
      },
      "source": [
        "Y_pred[0]"
      ],
      "execution_count": 131,
      "outputs": [
        {
          "output_type": "execute_result",
          "data": {
            "text/plain": [
              "[0.08488684533127469,\n",
              " 0.04352582825066313,\n",
              " 0.08246711830746253,\n",
              " 0.10735452617802074,\n",
              " 0.08671714639868833,\n",
              " 0.13779613005345423,\n",
              " 0.2689923969973623,\n",
              " 0.032521596291950935,\n",
              " 0.06663881336214453,\n",
              " 0.08909959882897849]"
            ]
          },
          "metadata": {
            "tags": []
          },
          "execution_count": 131
        }
      ]
    },
    {
      "cell_type": "code",
      "metadata": {
        "id": "zLqwSV1JIkn3"
      },
      "source": [
        "def cmp(e):\r\n",
        "  g=1.0/(1.0 + np.exp(-e))\r\n",
        "  return g*(1-g)"
      ],
      "execution_count": 132,
      "outputs": []
    },
    {
      "cell_type": "code",
      "metadata": {
        "id": "y2oTNkrtIkkZ"
      },
      "source": [
        "def diff_sigmoid(a):\r\n",
        "    res=[]\r\n",
        "    for el in a:\r\n",
        "      res.append(cmp(el))\r\n",
        "    return res"
      ],
      "execution_count": 133,
      "outputs": []
    },
    {
      "cell_type": "code",
      "metadata": {
        "id": "q-NzdyUTIkh9"
      },
      "source": [
        "def back_propogation(H,A,y_hat,label):\r\n",
        "    W_grad=list()\r\n",
        "    B_grad=list()\r\n",
        "    one_hot_y=np.zeros(K)\r\n",
        "    one_hot_y[label]+=1\r\n",
        "    ak_grad = y_hat-one_hot_y\r\n",
        "    for k in range(L,0,-1):\r\n",
        "        w_grad=np.matmul(np.matrix(ak_grad).T,np.matrix(H[k-1]))\r\n",
        "        W_grad.append(w_grad)\r\n",
        "        B_grad.append(ak_grad)\r\n",
        "        if k != 1:\r\n",
        "            h_grad=np.matmul(np.transpose(W[k-1]),ak_grad)\r\n",
        "            ak_grad=np.multiply(h_grad,diff_sigmoid(A[k-1]))\r\n",
        "    return W_grad,B_grad\r\n",
        "W_grad,B_grad=back_propogation(H,A,y_hat,train_Y[0])\r\n",
        "W_grad=W_grad[::-1]\r\n",
        "B_grad=B_grad[::-1]"
      ],
      "execution_count": 134,
      "outputs": []
    },
    {
      "cell_type": "code",
      "metadata": {
        "colab": {
          "base_uri": "https://localhost:8080/"
        },
        "id": "eMr1twufIq-J",
        "outputId": "38749d7e-e7ae-41f2-cef9-50e61a090ed3"
      },
      "source": [
        "print(np.shape(W_grad[0]))\r\n",
        "print(np.shape(W_grad[1]))\r\n",
        "print(np.shape(W_grad[2]))"
      ],
      "execution_count": 135,
      "outputs": [
        {
          "output_type": "stream",
          "text": [
            "(5, 784)\n",
            "(5, 5)\n",
            "(10, 5)\n"
          ],
          "name": "stdout"
        }
      ]
    },
    {
      "cell_type": "code",
      "metadata": {
        "colab": {
          "base_uri": "https://localhost:8080/"
        },
        "id": "YDR3PyAdIq6z",
        "outputId": "193bf020-7541-4b26-b76f-48b82acc6811"
      },
      "source": [
        "print(np.shape(B_grad[0]))\r\n",
        "print(np.shape(B_grad[1]))\r\n",
        "print(np.shape(B_grad[2]))"
      ],
      "execution_count": 136,
      "outputs": [
        {
          "output_type": "stream",
          "text": [
            "(5,)\n",
            "(5,)\n",
            "(10,)\n"
          ],
          "name": "stdout"
        }
      ]
    },
    {
      "cell_type": "code",
      "metadata": {
        "id": "Wn-NFN39Iq37"
      },
      "source": [
        "eta=0.00001"
      ],
      "execution_count": 165,
      "outputs": []
    },
    {
      "cell_type": "code",
      "metadata": {
        "colab": {
          "base_uri": "https://localhost:8080/"
        },
        "id": "wcHgpRPLi-lG",
        "outputId": "dc746d2b-ec79-4a84-f48a-6bca09fa9939"
      },
      "source": [
        "y_hat"
      ],
      "execution_count": 146,
      "outputs": [
        {
          "output_type": "execute_result",
          "data": {
            "text/plain": [
              "[0.11262965973600325,\n",
              " 0.10501753079561849,\n",
              " 0.06242532887816583,\n",
              " 0.10265696435778442,\n",
              " 0.11245933958830627,\n",
              " 0.08319004252984254,\n",
              " 0.10367444451202254,\n",
              " 0.10291943100686249,\n",
              " 0.11042959598518845,\n",
              " 0.10459766261020557]"
            ]
          },
          "metadata": {
            "tags": []
          },
          "execution_count": 146
        }
      ]
    },
    {
      "cell_type": "code",
      "metadata": {
        "id": "nFRVACnrIkcV"
      },
      "source": [
        "def gradient_descent():\r\n",
        "    W= initialize_weights(xlen,L-1,K,N)\r\n",
        "    B= initialize_bias(xlen,L-1,K,N)\r\n",
        "    t=0\r\n",
        "    max_iterations=5\r\n",
        "    loss=list()\r\n",
        "    while (t<max_iterations):\r\n",
        "        eta_wgrad=list()\r\n",
        "        eta_bgrad=list()\r\n",
        "        for l in range(L):\r\n",
        "            eta_wgrad.append(np.zeros(shape=np.shape(W[l])).tolist())\r\n",
        "            eta_bgrad.append(np.zeros(shape=np.shape(B[l])).tolist())\r\n",
        "        error=0.0\r\n",
        "        for i in range(train_samples):\r\n",
        "            H,A,y_hat=feed_forward_prop(train_X[i],W,B,L)\r\n",
        "            prob_array = np.zeros(10)\r\n",
        "            prob_array[train_Y[i]]=1\r\n",
        "            sum = 0.0\r\n",
        "            for temp in range(len(y_hat)):\r\n",
        "              sum += -1*prob_array[temp]*math.log(y_hat[temp])\r\n",
        "            error+=sum\r\n",
        "            W_grad,B_grad = back_propogation(H,A,y_hat,train_Y[i])\r\n",
        "            W_grad=W_grad[::-1]\r\n",
        "            B_grad=B_grad[::-1]\r\n",
        "            for l in range(L):\r\n",
        "                eta_wgrad[l]=(np.matrix(eta_wgrad[l])+np.multiply(eta,W_grad[l])).tolist()\r\n",
        "                eta_bgrad[l]=(eta_bgrad[l]+np.multiply(eta,B_grad[l])).tolist()\r\n",
        "        for l in range(L):\r\n",
        "            W[l]=(np.matrix(W[l])-np.matrix(eta_wgrad[l])).tolist()\r\n",
        "            B[l]=np.subtract(B[l],eta_bgrad[l])       \r\n",
        "        loss.append(error)\r\n",
        "        t=t+1\r\n",
        "        print('Epoch',t)\r\n",
        "    print (loss)\r\n",
        "    return W,B,loss"
      ],
      "execution_count": 179,
      "outputs": []
    },
    {
      "cell_type": "code",
      "metadata": {
        "colab": {
          "base_uri": "https://localhost:8080/"
        },
        "id": "p2pJ5D4pV8BO",
        "outputId": "b110ab06-a119-4bd1-82c2-1c8f4232a269"
      },
      "source": [
        "W,B,loss=gradient_descent()"
      ],
      "execution_count": 156,
      "outputs": [
        {
          "output_type": "stream",
          "text": [
            "Epoch 1\n",
            "Epoch 2\n",
            "Epoch 3\n",
            "Epoch 4\n",
            "Epoch 5\n",
            "[153554.3899239627, 144493.40978662984, 141020.10234783991, 139485.9974514536, 138779.13700833468]\n"
          ],
          "name": "stdout"
        }
      ]
    },
    {
      "cell_type": "code",
      "metadata": {
        "colab": {
          "base_uri": "https://localhost:8080/",
          "height": 283
        },
        "id": "IkWlpe3RIyKp",
        "outputId": "e8e553ea-9bd7-4df9-a069-d8336e0dfbf2"
      },
      "source": [
        "plt.plot([i+1 for i in range(5)],loss)"
      ],
      "execution_count": 157,
      "outputs": [
        {
          "output_type": "execute_result",
          "data": {
            "text/plain": [
              "[<matplotlib.lines.Line2D at 0x7f5fe663d3d0>]"
            ]
          },
          "metadata": {
            "tags": []
          },
          "execution_count": 157
        },
        {
          "output_type": "display_data",
          "data": {
            "image/png": "[encoded data removed]",
            "text/plain": [
              "<Figure size 432x288 with 1 Axes>"
            ]
          },
          "metadata": {
            "tags": [],
            "needs_background": "light"
          }
        }
      ]
    },
    {
      "cell_type": "code",
      "metadata": {
        "id": "rq0TyM3kI0PT"
      },
      "source": [
        "#Prediction\r\n",
        "valid=0\r\n",
        "for i in range(test_samples):\r\n",
        "    H,A,y_hat = feed_forward_prop(test_X[i],W,B,L)\r\n",
        "    class_predict = y_hat.index(max(y_hat))\r\n",
        "    if(class_predict==test_Y[i]):\r\n",
        "        valid += 1\r\n",
        "Accuracy=valid/test_samples"
      ],
      "execution_count": 158,
      "outputs": []
    },
    {
      "cell_type": "code",
      "metadata": {
        "colab": {
          "base_uri": "https://localhost:8080/"
        },
        "id": "xGCXmoSFI2NP",
        "outputId": "bea316f5-3a9e-4710-aff3-25ee18ddd5cf"
      },
      "source": [
        "Accuracy"
      ],
      "execution_count": 159,
      "outputs": [
        {
          "output_type": "execute_result",
          "data": {
            "text/plain": [
              "0.1"
            ]
          },
          "metadata": {
            "tags": []
          },
          "execution_count": 159
        }
      ]
    },
    {
      "cell_type": "code",
      "metadata": {
        "id": "Lhjvit16idl5"
      },
      "source": [
        "# stochastic gradient descent"
      ],
      "execution_count": null,
      "outputs": []
    },
    {
      "cell_type": "code",
      "metadata": {
        "id": "21_gk5akidiu"
      },
      "source": [
        "def stochastic_gradient_descent():\r\n",
        "    t=0\r\n",
        "    max_iterations=3\r\n",
        "    W= initialize_weights(xlen,L-1,K,N)\r\n",
        "    B= initialize_bias(xlen,L-1,K,N)\r\n",
        "    loss=list()\r\n",
        "    while (t<max_iterations):\r\n",
        "      for i in range(train_samples):\r\n",
        "        eta_wgrad=list()\r\n",
        "        eta_bgrad=list()\r\n",
        "        for l in range(L):\r\n",
        "            eta_wgrad.append(np.zeros(shape=np.shape(W[l])).tolist())\r\n",
        "            eta_bgrad.append(np.zeros(shape=np.shape(B[l])).tolist())\r\n",
        "            H,A,y_hat=feed_forward_prop(train_X[i],W,B,L)\r\n",
        "            prob_array = np.zeros(10)\r\n",
        "            prob_array[train_Y[i]]=1\r\n",
        "            sum = 0.0\r\n",
        "            for temp in range(len(y_hat)):\r\n",
        "              sum += -1*prob_array[temp]*math.log(y_hat[temp])\r\n",
        "            loss.append(sum)\r\n",
        "            W_grad,B_grad=back_propogation(H,A,y_hat,train_Y[i])\r\n",
        "            W_grad=W_grad[::-1]\r\n",
        "            B_grad=B_grad[::-1]\r\n",
        "        for l in range(L):\r\n",
        "            eta_wgrad[l]=(np.matrix(eta_wgrad[l])+np.multiply(eta,W_grad[l])).tolist()\r\n",
        "            eta_bgrad[l]=(eta_bgrad[l]+np.multiply(eta,B_grad[l])).tolist()\r\n",
        "            W[l]=(np.matrix(W[l])-np.matrix(eta_wgrad[l])).tolist()\r\n",
        "            B[l]=np.subtract(B[l],eta_bgrad[l])       \r\n",
        "      t=t+1\r\n",
        "      print('Epoch',t)\r\n",
        "    print (loss)\r\n",
        "    return W,B,loss"
      ],
      "execution_count": 180,
      "outputs": []
    },
    {
      "cell_type": "code",
      "metadata": {
        "colab": {
          "base_uri": "https://localhost:8080/"
        },
        "id": "PxWSCjeE5aNj",
        "outputId": "a316729c-ba06-4152-bc56-af5a37b1add2"
      },
      "source": [
        "W_s,B_s,loss_s = stochastic_gradient_descent()"
      ],
      "execution_count": null,
      "outputs": [
        {
          "output_type": "stream",
          "text": [
            "Epoch 1\n",
            "Epoch 2\n"
          ],
          "name": "stdout"
        }
      ]
    },
    {
      "cell_type": "code",
      "metadata": {
        "colab": {
          "base_uri": "https://localhost:8080/",
          "height": 283
        },
        "id": "pVpue1GyrPDP",
        "outputId": "1134c11e-a69c-4a75-f87a-7a45987620a2"
      },
      "source": [
        "plt.plot([i+1 for i in range(3)],loss_s)"
      ],
      "execution_count": 168,
      "outputs": [
        {
          "output_type": "execute_result",
          "data": {
            "text/plain": [
              "[<matplotlib.lines.Line2D at 0x7f5fe646e290>]"
            ]
          },
          "metadata": {
            "tags": []
          },
          "execution_count": 168
        },
        {
          "output_type": "display_data",
          "data": {
            "image/png": "[encoded data removed]",
            "text/plain": [
              "<Figure size 432x288 with 1 Axes>"
            ]
          },
          "metadata": {
            "tags": [],
            "needs_background": "light"
          }
        }
      ]
    },
    {
      "cell_type": "code",
      "metadata": {
        "id": "iE0jaCRprO4g"
      },
      "source": [
        "# momentum gradient descent"
      ],
      "execution_count": null,
      "outputs": []
    },
    {
      "cell_type": "code",
      "metadata": {
        "id": "V3g5R7yRuHcU"
      },
      "source": [
        "gamma = 0.9"
      ],
      "execution_count": 163,
      "outputs": []
    },
    {
      "cell_type": "code",
      "metadata": {
        "id": "9khbgS1prO1I"
      },
      "source": [
        "def momentum_gradient_descent():\r\n",
        "    t=0\r\n",
        "    max_iterations=5\r\n",
        "    W= initialize_weights(xlen,L-1,K,N)\r\n",
        "    B= initialize_bias(xlen,L-1,K,N)\r\n",
        "    loss=list()\r\n",
        "    prev_vw=list()\r\n",
        "    prev_bw=list()\r\n",
        "    while (t<max_iterations):\r\n",
        "      wgrad=list()\r\n",
        "      bgrad=list()\r\n",
        "      for i in range(train_samples):\r\n",
        "        for l in range(L):\r\n",
        "            wgrad.append(np.zeros(shape=np.shape(W[l])).tolist())\r\n",
        "            bgrad.append(np.zeros(shape=np.shape(B[l])).tolist())\r\n",
        "            prev_vw.append(np.zeros(shape=np.shape(W[l])).tolist())\r\n",
        "            prev_bw.append(np.zeros(shape=np.shape(B[l])).tolist())\r\n",
        "            H,A,y_hat=feed_forward_prop(train_X[i],W,B,L)\r\n",
        "            prob_array = np.zeros(10)\r\n",
        "            prob_array[train_Y[i]]=1\r\n",
        "            sum = 0.0\r\n",
        "            for temp in range(len(y_hat)):\r\n",
        "              sum += -1*prob_array[temp]*math.log(y_hat[temp])\r\n",
        "            loss.append(sum)\r\n",
        "            W_grad,B_grad=back_propogation(H,A,y_hat,train_Y[i])\r\n",
        "            W_grad=W_grad[::-1]\r\n",
        "            B_grad=B_grad[::-1]\r\n",
        "\r\n",
        "        v_w = []\r\n",
        "        v_b = []\r\n",
        "        v_w.append(np.zeros(shape=np.shape(W[l])).tolist())\r\n",
        "        v_b.append(np.zeros(shape=np.shape(B[l])).tolist())\r\n",
        "        for l in range(L):\r\n",
        "          v_w[l] = (np.multiply(gamma,prev_vw[l])+np.multiply(eta,W_grad[l])).tolist()\r\n",
        "          v_b[l] = (np.multiply(gamma,prev_bw[l])+np.multiply(eta,B_grad[l])).tolist()\r\n",
        "          W[l]=(np.matrix(W[l])-np.matrix(v_w[l])).tolist()\r\n",
        "          B[l]=np.subtract(B[l],v_b[l]) \r\n",
        "          prev_vw[l] = v_w[l]\r\n",
        "          prev_bw[l] = b_w[l]\r\n",
        "\r\n",
        "      t=t+1\r\n",
        "      print('Epoch',t)\r\n",
        "    print (loss)\r\n",
        "    return W,B,loss"
      ],
      "execution_count": 174,
      "outputs": []
    },
    {
      "cell_type": "code",
      "metadata": {
        "id": "sIz8jD6G3_-g"
      },
      "source": [
        "W_m,B_m,loss_m = momentum_gradient_descent()"
      ],
      "execution_count": null,
      "outputs": []
    },
    {
      "cell_type": "code",
      "metadata": {
        "id": "ZJ35y-rp6Dgz"
      },
      "source": [
        ""
      ],
      "execution_count": null,
      "outputs": []
    },
    {
      "cell_type": "code",
      "metadata": {
        "id": "gRcBanm26Ddt"
      },
      "source": [
        "def nesterov_accelerated_gradient_descent():\r\n",
        "    t=0\r\n",
        "    max_iterations=5\r\n",
        "    W= initialize_weights(xlen,L-1,K,N)\r\n",
        "    B= initialize_bias(xlen,L-1,K,N)\r\n",
        "    loss=list()\r\n",
        "    while (t<max_iterations):\r\n",
        "      for i in range(train_samples):\r\n",
        "        wgrad=list()\r\n",
        "        bgrad=list()\r\n",
        "        prev_vw=list()\r\n",
        "        prev_bw=list()\r\n",
        "        for l in range(L):\r\n",
        "          wgrad.append(np.zeros(shape=np.shape(W[l])).tolist())\r\n",
        "          bgrad.append(np.zeros(shape=np.shape(B[l])).tolist())\r\n",
        "          prev_vw.append(np.zeros(shape=np.shape(W[l])).tolist())\r\n",
        "          prev_bw.append(np.zeros(shape=np.shape(B[l])).tolist())\r\n",
        "          H,A,y_hat=feed_forward_prop(train_X[i],W,B,L)\r\n",
        "          prob_array = np.zeros(10)\r\n",
        "          prob_array[train_Y[i]]=1\r\n",
        "          sum = 0.0\r\n",
        "          for temp in range(len(y_hat)):\r\n",
        "            sum += -1*prob_array[temp]*math.log(y_hat[temp])\r\n",
        "          loss.append(sum)\r\n",
        "          W_grad,B_grad=back_propogation(H,A,y_hat,train_Y[i])\r\n",
        "          W_grad=W_grad[::-1]\r\n",
        "          B_grad=B_grad[::-1]\r\n",
        "\r\n",
        "        v_w = []\r\n",
        "        v_b = []\r\n",
        "        v_w.append(np.zeros(shape=np.shape(W[l])).tolist())\r\n",
        "        v_b.append(np.zeros(shape=np.shape(B[l])).tolist())\r\n",
        "        for l in range(L):\r\n",
        "          v_w[l] = (np.multiply(gamma,prev_vw[l])+np.multiply(eta,W_grad[l])).tolist()\r\n",
        "          v_b[l] = (np.multiply(gamma,prev_bw[l])+np.multiply(eta,B_grad[l])).tolist()\r\n",
        "          W[l]=(np.matrix(W[l])-np.matrix(v_w[l])).tolist()\r\n",
        "          B[l]=np.subtract(B[l],v_b[l]) \r\n",
        "          prev_vw[l] = v_w[l]\r\n",
        "          prev_bw[l] = b_w[l]\r\n",
        "\r\n",
        "      t=t+1\r\n",
        "      print('Epoch',t)\r\n",
        "    print (loss)\r\n",
        "    return W,B,loss"
      ],
      "execution_count": null,
      "outputs": []
    },
    {
      "cell_type": "code",
      "metadata": {
        "id": "-gwkBvZr6Da9"
      },
      "source": [
        ""
      ],
      "execution_count": null,
      "outputs": []
    },
    {
      "cell_type": "code",
      "metadata": {
        "id": "u1z05y7L6DX2"
      },
      "source": [
        ""
      ],
      "execution_count": null,
      "outputs": []
    }
  ]
}