{
  "nbformat": 4,
  "nbformat_minor": 0,
  "metadata": {
    "colab": {
      "name": "Que2.ipynb",
      "provenance": [],
      "collapsed_sections": [],
      "include_colab_link": true
    },
    "kernelspec": {
      "name": "python3",
      "display_name": "Python 3"
    }
  },
  "cells": [
    {
      "cell_type": "markdown",
      "metadata": {
        "id": "view-in-github",
        "colab_type": "text"
      },
      "source": [
        "<a href=\"https://colab.research.google.com/github/cs20m016/cs6910-Assignment-1/blob/main/Que2.ipynb\" target=\"_parent\"><img src=\"https://colab.research.google.com/assets/colab-badge.svg\" alt=\"Open In Colab\"/></a>"
      ]
    },
    {
      "cell_type": "code",
      "metadata": {
        "id": "Hl7y_jrMRKdN"
      },
      "source": [
        "import numpy as np\r\n",
        "import matplotlib.pyplot as plt\r\n",
        "import pandas as pd\r\n",
        "import random"
      ],
      "execution_count": null,
      "outputs": []
    },
    {
      "cell_type": "code",
      "metadata": {
        "id": "6nNWmCVoTj6v"
      },
      "source": [
        "from keras.datasets import fashion_mnist"
      ],
      "execution_count": null,
      "outputs": []
    },
    {
      "cell_type": "code",
      "metadata": {
        "id": "Bi_Sb0I_Tj0z"
      },
      "source": [
        "(train_X,train_Y), (test_X,test_Y)= fashion_mnist.load_data()"
      ],
      "execution_count": null,
      "outputs": []
    },
    {
      "cell_type": "code",
      "metadata": {
        "colab": {
          "base_uri": "https://localhost:8080/"
        },
        "id": "nPCY-F81Tjx5",
        "outputId": "14e48dac-45f1-4480-fa66-131010f69c23"
      },
      "source": [
        "train_X.shape, train_Y.shape"
      ],
      "execution_count": null,
      "outputs": [
        {
          "output_type": "execute_result",
          "data": {
            "text/plain": [
              "((60000, 28, 28), (60000,))"
            ]
          },
          "metadata": {
            "tags": []
          },
          "execution_count": 36
        }
      ]
    },
    {
      "cell_type": "code",
      "metadata": {
        "id": "Qud2gWTcTjpw"
      },
      "source": [
        "# Preparing the data for training"
      ],
      "execution_count": null,
      "outputs": []
    },
    {
      "cell_type": "code",
      "metadata": {
        "id": "WOvTxrV-Tjnd"
      },
      "source": [
        "train_X = train_X[:]/255\r\n",
        "test_Y = test_Y[:]/255"
      ],
      "execution_count": null,
      "outputs": []
    },
    {
      "cell_type": "code",
      "metadata": {
        "id": "o25YyGvVmoB_"
      },
      "source": [
        "train_X=[train_X[i].flatten() for i in range(len(train_X))]\r\n",
        "test_X=[test_X[i].flatten() for i in range(len(test_X))]"
      ],
      "execution_count": null,
      "outputs": []
    },
    {
      "cell_type": "code",
      "metadata": {
        "colab": {
          "base_uri": "https://localhost:8080/"
        },
        "id": "hULrbWpnnTWu",
        "outputId": "7bb885a6-6f82-4662-8ed9-89a20eaa5357"
      },
      "source": [
        "np.shape(train_X), np.shape(train_Y), np.shape(test_X), np.shape(test_Y)"
      ],
      "execution_count": null,
      "outputs": [
        {
          "output_type": "execute_result",
          "data": {
            "text/plain": [
              "((60000, 784), (60000,), (10000, 784), (10000,))"
            ]
          },
          "metadata": {
            "tags": []
          },
          "execution_count": 40
        }
      ]
    },
    {
      "cell_type": "code",
      "metadata": {
        "colab": {
          "base_uri": "https://localhost:8080/"
        },
        "id": "C0WmmRM4z4zL",
        "outputId": "9dc01861-166e-49e2-bb9b-643739c2078f"
      },
      "source": [
        "train_X[0].shape"
      ],
      "execution_count": null,
      "outputs": [
        {
          "output_type": "execute_result",
          "data": {
            "text/plain": [
              "(784,)"
            ]
          },
          "metadata": {
            "tags": []
          },
          "execution_count": 58
        }
      ]
    },
    {
      "cell_type": "code",
      "metadata": {
        "id": "sED-2jH13oR4"
      },
      "source": [
        "#n = number of inputs\r\n",
        "N = 3\r\n",
        "#inputs = N\r\n",
        "#L = number of layers\r\n",
        "L = 3\r\n",
        "#hidden layers = L-1"
      ],
      "execution_count": null,
      "outputs": []
    },
    {
      "cell_type": "code",
      "metadata": {
        "id": "d-EGaguGRBSi"
      },
      "source": [
        "# class FFNN:\r\n",
        "#   def forward_prop(self,x):\r\n",
        "#     for k in range(0,783):\r\n",
        "#       self.h[k] = x[k]\r\n",
        "#     for i in range (1,L-1):\r\n",
        "#       self.W = np.random.randn()\r\n",
        "#       for j in range(0,783):\r\n",
        "#         self.a[j] = self.b + self.h[j]*self.W \r\n",
        "#         self.h[j] = self.sigmoid(self.a[j])\r\n",
        "#     self.W = np.random.randn()\r\n",
        "#     for j in range(0,9):\r\n",
        "#       self.a[j] = self.b + self.W*self.h[j]\r\n",
        "#       self.h[j] = self.sigmoid(self.a[j])\r\n",
        "#     return self.h\r\n",
        "      \r\n",
        "#   def predict(self,X):\r\n",
        "#     Y_pred = []\r\n",
        "#     for x in X: #x -> complete row\r\n",
        "#       y_pred = self.forward_prop(x)\r\n",
        "#       Y_pred.append(y_pred)\r\n",
        "#     return np.array(Y_pred)"
      ],
      "execution_count": null,
      "outputs": []
    },
    {
      "cell_type": "code",
      "metadata": {
        "id": "VojqwswC0spd"
      },
      "source": [
        "def sigmoid(self, x):\r\n",
        "    return 1.0/(1.0 + np.exp(-x))"
      ],
      "execution_count": null,
      "outputs": []
    },
    {
      "cell_type": "code",
      "metadata": {
        "id": "lFv1lhLwmEQ4"
      },
      "source": [
        "def initialize_weights(n_input, n_hidden_layer, n_output,neurons_hl):\r\n",
        "    W = list()\r\n",
        "    W.append([[random.random() for j in range(n_input)]for i in range(neurons_hl)])\r\n",
        "    for i in range(n_hidden_layer-1):\r\n",
        "        W.append([[random.random() for j in range(neurons_hl)]for i in range(neurons_hl)])\r\n",
        "    W.append([[random.random() for j in range(neurons_hl)]for i in range(n_output)])\r\n",
        "    return W\r\n",
        "W=initialize_weights(len(train_X[0]),L-1,10,N)"
      ],
      "execution_count": null,
      "outputs": []
    },
    {
      "cell_type": "code",
      "metadata": {
        "colab": {
          "base_uri": "https://localhost:8080/"
        },
        "id": "uOB95_1W09lz",
        "outputId": "52e3298f-835f-429b-b16c-962c1c71bb29"
      },
      "source": [
        "len(W)"
      ],
      "execution_count": null,
      "outputs": [
        {
          "output_type": "execute_result",
          "data": {
            "text/plain": [
              "3"
            ]
          },
          "metadata": {
            "tags": []
          },
          "execution_count": 65
        }
      ]
    },
    {
      "cell_type": "code",
      "metadata": {
        "id": "ndolgSz_mEE1"
      },
      "source": [
        "def initialize_bias(n_input, n_hidden_layer, n_output,neurons_hl):\r\n",
        "    B=list()\r\n",
        "    for i in range(n_hidden_layer):\r\n",
        "        B.append([random.random() for i in range(neurons_hl)])\r\n",
        "    B.append([random.random() for i in range(n_output)])\r\n",
        "    return B\r\n",
        "B= initialize_bias(len(train_X[0]),L-1,10,N)"
      ],
      "execution_count": null,
      "outputs": []
    },
    {
      "cell_type": "code",
      "metadata": {
        "colab": {
          "base_uri": "https://localhost:8080/"
        },
        "id": "1-au9_KfmEBi",
        "outputId": "a1196bad-0908-44a4-c9db-4d1e1e285c29"
      },
      "source": [
        "B"
      ],
      "execution_count": null,
      "outputs": [
        {
          "output_type": "execute_result",
          "data": {
            "text/plain": [
              "[[0.6284997068081365, 0.01880681584035382, 0.533683145050209],\n",
              " [0.8021261653131291, 0.11128087231366446, 0.7424768986546513],\n",
              " [0.5927178635677047,\n",
              "  0.7937592299797389,\n",
              "  0.5363484879002032,\n",
              "  0.19679399883601378,\n",
              "  0.28799921446791643,\n",
              "  0.15041521976249106,\n",
              "  0.9336767871909504,\n",
              "  0.31925314766462143,\n",
              "  0.04756870467304031,\n",
              "  0.952377413584796]]"
            ]
          },
          "metadata": {
            "tags": []
          },
          "execution_count": 63
        }
      ]
    },
    {
      "cell_type": "code",
      "metadata": {
        "id": "_PFao1Z80n5f"
      },
      "source": [
        ""
      ],
      "execution_count": null,
      "outputs": []
    },
    {
      "cell_type": "code",
      "metadata": {
        "id": "1HqE1Jhy0nv5"
      },
      "source": [
        ""
      ],
      "execution_count": null,
      "outputs": []
    }
  ]
}