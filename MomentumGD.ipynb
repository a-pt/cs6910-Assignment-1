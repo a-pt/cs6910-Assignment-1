{
  "nbformat": 4,
  "nbformat_minor": 0,
  "metadata": {
    "colab": {
      "name": "MomentumGD.ipynb",
      "provenance": [],
      "collapsed_sections": [],
      "include_colab_link": true
    },
    "kernelspec": {
      "name": "python3",
      "display_name": "Python 3"
    }
  },
  "cells": [
    {
      "cell_type": "markdown",
      "metadata": {
        "id": "view-in-github",
        "colab_type": "text"
      },
      "source": [
        "<a href=\"https://colab.research.google.com/github/cs20m016/cs6910-Assignment-1/blob/main/MomentumGD.ipynb\" target=\"_parent\"><img src=\"https://colab.research.google.com/assets/colab-badge.svg\" alt=\"Open In Colab\"/></a>"
      ]
    },
    {
      "cell_type": "code",
      "metadata": {
        "id": "NA0oneKxU49Y"
      },
      "source": [
        "import numpy as np\r\n",
        "from matplotlib import pyplot as plt\r\n",
        "from matplotlib import gridspec as gridspec\r\n",
        "from random import randint\r\n",
        "from random import random\r\n",
        "from random import seed\r\n",
        "import math\r\n",
        "from sklearn.utils import shuffle"
      ],
      "execution_count": 2,
      "outputs": []
    },
    {
      "cell_type": "code",
      "metadata": {
        "id": "3MPhVYVEU-f5"
      },
      "source": [
        "from keras.datasets import fashion_mnist"
      ],
      "execution_count": 3,
      "outputs": []
    },
    {
      "cell_type": "code",
      "metadata": {
        "id": "BcIRq7GBWIi_",
        "outputId": "15266b08-0bf5-431b-f260-e7ef01e82007",
        "colab": {
          "base_uri": "https://localhost:8080/"
        }
      },
      "source": [
        "train_data,test_data=fashion_mnist.load_data()"
      ],
      "execution_count": 4,
      "outputs": [
        {
          "output_type": "stream",
          "text": [
            "Downloading data from https://storage.googleapis.com/tensorflow/tf-keras-datasets/train-labels-idx1-ubyte.gz\n",
            "32768/29515 [=================================] - 0s 0us/step\n",
            "Downloading data from https://storage.googleapis.com/tensorflow/tf-keras-datasets/train-images-idx3-ubyte.gz\n",
            "26427392/26421880 [==============================] - 1s 0us/step\n",
            "Downloading data from https://storage.googleapis.com/tensorflow/tf-keras-datasets/t10k-labels-idx1-ubyte.gz\n",
            "8192/5148 [===============================================] - 0s 0us/step\n",
            "Downloading data from https://storage.googleapis.com/tensorflow/tf-keras-datasets/t10k-images-idx3-ubyte.gz\n",
            "4423680/4422102 [==============================] - 0s 0us/step\n"
          ],
          "name": "stdout"
        }
      ]
    },
    {
      "cell_type": "code",
      "metadata": {
        "id": "AcYB-2z4WwfS"
      },
      "source": [
        "train_data_mean = np.mean(train_data[0])\r\n",
        "train_data_stdev = np.std(train_data[0])\r\n",
        "train_data = ((train_data[0] - train_data_mean) / train_data_stdev, train_data[1])\r\n",
        "test_data = ((test_data[0] - train_data_mean) / train_data_stdev, test_data[1])\r\n",
        "train_X, trainY = train_data\r\n",
        "test_X, testY = test_data"
      ],
      "execution_count": 5,
      "outputs": []
    },
    {
      "cell_type": "code",
      "metadata": {
        "id": "r19auXy-Wyt4"
      },
      "source": [
        "train_X, trainY = shuffle(train_X, trainY)\r\n",
        "test_X, testY = shuffle(test_X, testY)"
      ],
      "execution_count": 6,
      "outputs": []
    },
    {
      "cell_type": "code",
      "metadata": {
        "colab": {
          "base_uri": "https://localhost:8080/"
        },
        "id": "VVX4IMFAW02J",
        "outputId": "62c03f08-0e3c-41a7-a058-c7e79027aab7"
      },
      "source": [
        "print('Train: X=%s, y=%s' %(train_X.shape,trainY.shape))\r\n",
        "print('Test: X=%s, y=%s' %(test_X.shape,testY.shape))"
      ],
      "execution_count": 7,
      "outputs": [
        {
          "output_type": "stream",
          "text": [
            "Train: X=(60000, 28, 28), y=(60000,)\n",
            "Test: X=(10000, 28, 28), y=(10000,)\n"
          ],
          "name": "stdout"
        }
      ]
    },
    {
      "cell_type": "code",
      "metadata": {
        "id": "3KCEDTNiW8KV"
      },
      "source": [
        "trainX=[train_X[i].flatten() for i in range(len(train_X))]"
      ],
      "execution_count": 8,
      "outputs": []
    },
    {
      "cell_type": "code",
      "metadata": {
        "id": "tH7xWPpZXEJI"
      },
      "source": [
        "testX=[test_X[i].flatten() for i in range(len(test_X))]"
      ],
      "execution_count": 9,
      "outputs": []
    },
    {
      "cell_type": "code",
      "metadata": {
        "colab": {
          "base_uri": "https://localhost:8080/"
        },
        "id": "jH-DJ6yeXGdp",
        "outputId": "f4c370cf-a441-4f27-d04c-90d5e481d93d"
      },
      "source": [
        "train_samples=len(trainX)\r\n",
        "test_samples=len(testX)\r\n",
        "xlen=len(trainX[0])\r\n",
        "print(xlen)"
      ],
      "execution_count": 10,
      "outputs": [
        {
          "output_type": "stream",
          "text": [
            "784\n"
          ],
          "name": "stdout"
        }
      ]
    },
    {
      "cell_type": "code",
      "metadata": {
        "id": "fFANMMBzXJZs"
      },
      "source": [
        "def initialize_weights(n_input, n_hidden_layer, n_output,neurons_hl):\r\n",
        "    W = list()\r\n",
        "    W.append([[np.random.normal() for j in range(n_input)]for i in range(neurons_hl)])\r\n",
        "    for i in range(n_hidden_layer-1):\r\n",
        "        W.append([[np.random.normal() for j in range(neurons_hl)]for i in range(neurons_hl)])\r\n",
        "    W.append([[np.random.normal() for j in range(neurons_hl)]for i in range(n_output)])\r\n",
        "    return W\r\n",
        "\r\n",
        "def initialize_bias(n_input, n_hidden_layer, n_output,neurons_hl):\r\n",
        "    B=list()\r\n",
        "    for i in range(n_hidden_layer):\r\n",
        "        B.append([np.random.normal() for i in range(neurons_hl)])\r\n",
        "    B.append([np.random.normal() for i in range(n_output)])\r\n",
        "    return B"
      ],
      "execution_count": 11,
      "outputs": []
    },
    {
      "cell_type": "code",
      "metadata": {
        "id": "XaXdl0VFXObg"
      },
      "source": [
        "def sigmoid(b):\r\n",
        "  a=np.array(b,dtype=np.float128)\r\n",
        "  h=list()\r\n",
        "  for el in a:\r\n",
        "    h.append(1/(1+np.exp(-el)))\r\n",
        "  return h"
      ],
      "execution_count": 12,
      "outputs": []
    },
    {
      "cell_type": "code",
      "metadata": {
        "id": "Foqd2S-9XSbm"
      },
      "source": [
        "def softmax(b):\r\n",
        "  a=np.array(b,dtype=np.float128)\r\n",
        "  z = a - max(a)\r\n",
        "  h=list()\r\n",
        "  sum=0\r\n",
        "  for el in z:\r\n",
        "    sum+=np.exp(el)\r\n",
        "  for el in z:\r\n",
        "    h.append(np.exp(el)/sum)\r\n",
        "  return h"
      ],
      "execution_count": 13,
      "outputs": []
    },
    {
      "cell_type": "code",
      "metadata": {
        "id": "dHnMi9OxXUj4"
      },
      "source": [
        "def feed_forward(input,W,B,L):\r\n",
        "    H=list()\r\n",
        "    A=list()\r\n",
        "    H.append(input)\r\n",
        "    A.append([0])\r\n",
        "    for i in range(1,L):\r\n",
        "        a=B[i-1]+np.matmul(W[i-1],H[i-1])\r\n",
        "        A.append(a)\r\n",
        "        H.append(sigmoid(a))\r\n",
        "    a=B[L-1]+np.matmul(W[L-1],H[L-1])\r\n",
        "    A.append(a)\r\n",
        "    hL=softmax(a)\r\n",
        "    H.append(hL)\r\n",
        "    return H,A,hL"
      ],
      "execution_count": 14,
      "outputs": []
    },
    {
      "cell_type": "code",
      "metadata": {
        "id": "wyaLjnNfXa2n"
      },
      "source": [
        "def cmp(e):\r\n",
        "  g=1/(1+np.exp(-e))\r\n",
        "  return g*(1-g)\r\n",
        "\r\n",
        "def diff_sigmoid(a):\r\n",
        "    res=list()\r\n",
        "    for el in a:\r\n",
        "      res.append(cmp(el))\r\n",
        "    return res"
      ],
      "execution_count": 15,
      "outputs": []
    },
    {
      "cell_type": "code",
      "metadata": {
        "id": "dRwBMbl8Xfk3"
      },
      "source": [
        "def back_propogation(H,A,y_hat,label,W,L,K):\r\n",
        "    W_grad=list()\r\n",
        "    B_grad=list()\r\n",
        "    one_hot_y=np.zeros(K)\r\n",
        "    one_hot_y[label]+=1\r\n",
        "    ak_grad = y_hat-one_hot_y\r\n",
        "    for k in range(L,0,-1):\r\n",
        "        w_grad=np.matmul(np.matrix(ak_grad).T,np.matrix(H[k-1]))\r\n",
        "        W_grad.append(w_grad)\r\n",
        "        B_grad.append(ak_grad)\r\n",
        "        if k != 1:\r\n",
        "            h_grad=np.matmul(np.transpose(W[k-1]),ak_grad)\r\n",
        "            ak_grad=np.multiply(h_grad,diff_sigmoid(A[k-1]))\r\n",
        "    return W_grad,B_grad"
      ],
      "execution_count": 16,
      "outputs": []
    },
    {
      "cell_type": "code",
      "metadata": {
        "id": "tIa86NwMXh-I"
      },
      "source": [
        "def momentum():\r\n",
        "    t,e= 0,0\r\n",
        "    eta= 0.001\r\n",
        "    W= initialize_weights(xlen,L-1,K,N)\r\n",
        "    B= initialize_bias(xlen,L-1,K,N)\r\n",
        "    points= 0\r\n",
        "    error= 0.0\r\n",
        "    gamma= 0.9\r\n",
        "    loss=list()\r\n",
        "    wgrad=list()\r\n",
        "    bgrad=list()\r\n",
        "    for l in range(L):\r\n",
        "        wgrad.append(np.zeros(shape=np.shape(W[l])).tolist())\r\n",
        "        bgrad.append(np.zeros(shape=np.shape(B[l])).tolist())\r\n",
        "    uw=list()\r\n",
        "    ub=list()\r\n",
        "    for l in range(L):\r\n",
        "        uw.append(np.zeros(shape=np.shape(W[l])).tolist())\r\n",
        "        ub.append(np.zeros(shape=np.shape(B[l])).tolist())\r\n",
        "    while (e<epoch):\r\n",
        "        for i in range(train_samples):\r\n",
        "            H,A,y_hat=feed_forward(trainX[i],W,B,L)\r\n",
        "            ei=y_hat[trainY[i]]\r\n",
        "            if ei!=0:\r\n",
        "                error += -math.log(ei+1e-7)\r\n",
        "            W_grad,B_grad=back_propogation(H,A,y_hat,trainY[i],W,L,K)\r\n",
        "            W_grad=W_grad[::-1]\r\n",
        "            B_grad=B_grad[::-1]\r\n",
        "            for l in range(L):\r\n",
        "                wgrad[l]=(np.matrix(wgrad[l])+np.matrix(W_grad[l])).tolist()\r\n",
        "                bgrad[l]=(bgrad[l]+np.multiply(1,B_grad[l])).tolist()\r\n",
        "            points+=1\r\n",
        "            if(points%batch_size==0):\r\n",
        "                points=0\r\n",
        "                t += 1\r\n",
        "                loss.append(error/batch_size)\r\n",
        "                error=0.0\r\n",
        "                for l in range(L):\r\n",
        "                    uw[l]=(np.multiply(gamma,uw[l])+np.multiply(eta,wgrad[l])).tolist()\r\n",
        "                    W[l]=np.subtract(W[l],uw[l]).tolist()\r\n",
        "                    ub[l]=(np.multiply(gamma,ub[l])+np.multiply(eta,bgrad[l])).tolist()\r\n",
        "                    B[l]=np.subtract(B[l],ub[l]).tolist()\r\n",
        "                wgrad=list()\r\n",
        "                bgrad=list()\r\n",
        "                for l in range(L):\r\n",
        "                    wgrad.append(np.zeros(shape=np.shape(W[l])).tolist())\r\n",
        "                    bgrad.append(np.zeros(shape=np.shape(B[l])).tolist())            \r\n",
        "        e=e+1\r\n",
        "        print('Epoch',e)\r\n",
        "    return W,B,loss"
      ],
      "execution_count": 17,
      "outputs": []
    },
    {
      "cell_type": "code",
      "metadata": {
        "id": "4zaYekCyD-Rj"
      },
      "source": [
        "N= 16\r\n",
        "L= 3\r\n",
        "K= 10\r\n",
        "epoch= 5\r\n",
        "batch_size= 128"
      ],
      "execution_count": 18,
      "outputs": []
    },
    {
      "cell_type": "code",
      "metadata": {
        "colab": {
          "base_uri": "https://localhost:8080/"
        },
        "id": "E2nJD4E4XlYf",
        "outputId": "67ac24a6-efac-48d9-edc0-9d27ff41a044"
      },
      "source": [
        "W_r,B_r,loss=momentum()"
      ],
      "execution_count": 19,
      "outputs": [
        {
          "output_type": "stream",
          "text": [
            "Epoch 1\n",
            "Epoch 2\n",
            "Epoch 3\n",
            "Epoch 4\n",
            "Epoch 5\n"
          ],
          "name": "stdout"
        }
      ]
    },
    {
      "cell_type": "code",
      "metadata": {
        "colab": {
          "base_uri": "https://localhost:8080/",
          "height": 299
        },
        "id": "cYOsRxAYXnho",
        "outputId": "b4609a51-facd-4396-8b02-893d0119e30a"
      },
      "source": [
        "plt.plot(np.arange(1,len(loss)+1),loss)\r\n",
        "plt.title('Train Loss- Momentum Gradient')"
      ],
      "execution_count": 23,
      "outputs": [
        {
          "output_type": "execute_result",
          "data": {
            "text/plain": [
              "Text(0.5, 1.0, 'Train Loss- Momentum Gradient')"
            ]
          },
          "metadata": {
            "tags": []
          },
          "execution_count": 23
        },
        {
          "output_type": "display_data",
          "data": {
            "image/png": "[encoded data removed]",
            "text/plain": [
              "<Figure size 432x288 with 1 Axes>"
            ]
          },
          "metadata": {
            "tags": [],
            "needs_background": "light"
          }
        }
      ]
    },
    {
      "cell_type": "code",
      "metadata": {
        "id": "Fjge7X9KXqRW"
      },
      "source": [
        "#Prediction\r\n",
        "valid=0\r\n",
        "predict=[]\r\n",
        "for i in range(test_samples):\r\n",
        "    H,A,y_hat = feed_forward(testX[i],W_r,B_r,L=3)\r\n",
        "    class_predict = y_hat.index(max(y_hat))\r\n",
        "    predict.append(class_predict)\r\n",
        "    if(class_predict==testY[i]):\r\n",
        "      valid+=1"
      ],
      "execution_count": 24,
      "outputs": []
    },
    {
      "cell_type": "code",
      "metadata": {
        "colab": {
          "base_uri": "https://localhost:8080/"
        },
        "id": "xwjgBQMx9rTZ",
        "outputId": "22fe19c9-e491-4d01-cdba-9f7c218f0616"
      },
      "source": [
        "valid"
      ],
      "execution_count": 25,
      "outputs": [
        {
          "output_type": "execute_result",
          "data": {
            "text/plain": [
              "8035"
            ]
          },
          "metadata": {
            "tags": []
          },
          "execution_count": 25
        }
      ]
    }
  ]
}