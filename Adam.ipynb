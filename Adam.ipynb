{
  "nbformat": 4,
  "nbformat_minor": 0,
  "metadata": {
    "colab": {
      "name": "Adam1.ipynb",
      "provenance": [],
      "include_colab_link": true
    },
    "kernelspec": {
      "name": "python3",
      "display_name": "Python 3"
    }
  },
  "cells": [
    {
      "cell_type": "markdown",
      "metadata": {
        "id": "view-in-github",
        "colab_type": "text"
      },
      "source": [
        "<a href=\"https://colab.research.google.com/github/cs20m016/cs6910-Assignment-1/blob/main/Adam.ipynb\" target=\"_parent\"><img src=\"https://colab.research.google.com/assets/colab-badge.svg\" alt=\"Open In Colab\"/></a>"
      ]
    },
    {
      "cell_type": "code",
      "metadata": {
        "id": "mpdpalgU85BD"
      },
      "source": [
        "import numpy as np\r\n",
        "from matplotlib import pyplot as plt\r\n",
        "from matplotlib import gridspec as gridspec\r\n",
        "from random import randint\r\n",
        "from random import random\r\n",
        "from random import seed\r\n",
        "import math\r\n",
        "from sklearn.utils import shuffle"
      ],
      "execution_count": 2,
      "outputs": []
    },
    {
      "cell_type": "code",
      "metadata": {
        "id": "HSj62iC1ASwP"
      },
      "source": [
        "from keras.datasets import fashion_mnist"
      ],
      "execution_count": 3,
      "outputs": []
    },
    {
      "cell_type": "code",
      "metadata": {
        "colab": {
          "base_uri": "https://localhost:8080/"
        },
        "id": "XPn_rZoqAXT7",
        "outputId": "2a8a7a6a-e1f9-4903-dd29-a6004b637190"
      },
      "source": [
        "train_data,test_data=fashion_mnist.load_data()"
      ],
      "execution_count": 4,
      "outputs": [
        {
          "output_type": "stream",
          "text": [
            "Downloading data from https://storage.googleapis.com/tensorflow/tf-keras-datasets/train-labels-idx1-ubyte.gz\n",
            "32768/29515 [=================================] - 0s 0us/step\n",
            "Downloading data from https://storage.googleapis.com/tensorflow/tf-keras-datasets/train-images-idx3-ubyte.gz\n",
            "26427392/26421880 [==============================] - 0s 0us/step\n",
            "Downloading data from https://storage.googleapis.com/tensorflow/tf-keras-datasets/t10k-labels-idx1-ubyte.gz\n",
            "8192/5148 [===============================================] - 0s 0us/step\n",
            "Downloading data from https://storage.googleapis.com/tensorflow/tf-keras-datasets/t10k-images-idx3-ubyte.gz\n",
            "4423680/4422102 [==============================] - 0s 0us/step\n"
          ],
          "name": "stdout"
        }
      ]
    },
    {
      "cell_type": "code",
      "metadata": {
        "id": "FnzmYxw0AcXE"
      },
      "source": [
        "train_data_mean = np.mean(train_data[0])\r\n",
        "train_data_stdev = np.std(train_data[0])\r\n",
        "train_data = ((train_data[0] - train_data_mean) / train_data_stdev, train_data[1])\r\n",
        "test_data = ((test_data[0] - train_data_mean) / train_data_stdev, test_data[1])\r\n",
        "train_X, trainY = train_data\r\n",
        "test_X, testY = test_data"
      ],
      "execution_count": 5,
      "outputs": []
    },
    {
      "cell_type": "code",
      "metadata": {
        "id": "RfifjUjdAewY"
      },
      "source": [
        "train_X, trainY = shuffle(train_X, trainY)\r\n",
        "test_X, testY = shuffle(test_X, testY)"
      ],
      "execution_count": 6,
      "outputs": []
    },
    {
      "cell_type": "code",
      "metadata": {
        "colab": {
          "base_uri": "https://localhost:8080/"
        },
        "id": "pweBb39dAg8Z",
        "outputId": "9676d9ba-9eeb-441b-b117-aa33578419c2"
      },
      "source": [
        "print('Train: X=%s, y=%s' %(train_X.shape,trainY.shape))\r\n",
        "print('Test: X=%s, y=%s' %(test_X.shape,testY.shape))"
      ],
      "execution_count": 7,
      "outputs": [
        {
          "output_type": "stream",
          "text": [
            "Train: X=(60000, 28, 28), y=(60000,)\n",
            "Test: X=(10000, 28, 28), y=(10000,)\n"
          ],
          "name": "stdout"
        }
      ]
    },
    {
      "cell_type": "code",
      "metadata": {
        "id": "D0p9GhNkAjN3"
      },
      "source": [
        "class_label=['T-shirt/top', 'Trouser', 'Pullover', 'Dress', 'Coat', 'Sandal', 'Shirt', 'Sneaker', 'Bag', 'Ankle boot']"
      ],
      "execution_count": 8,
      "outputs": []
    },
    {
      "cell_type": "code",
      "metadata": {
        "id": "nbXVwCjnAlWU"
      },
      "source": [
        "sample=[]\r\n",
        "for label in range(10):\r\n",
        "    for i in range(len(testY)):\r\n",
        "        if label==testY[i]:\r\n",
        "            sample.append(test_X[i])\r\n",
        "            break"
      ],
      "execution_count": 9,
      "outputs": []
    },
    {
      "cell_type": "code",
      "metadata": {
        "colab": {
          "base_uri": "https://localhost:8080/",
          "height": 118
        },
        "id": "mPc8STMTAp4_",
        "outputId": "90bf654a-65c4-44ff-bb2e-ab784004f4b3"
      },
      "source": [
        "fig=plt.figure(figsize=(15,15))\r\n",
        "rows=1\r\n",
        "columns=10\r\n",
        "for i in range(1, columns*rows +1):\r\n",
        "    tg=sample[i-1]\r\n",
        "    ax=fig.add_subplot(rows, columns, i)\r\n",
        "    plt.axis('off')\r\n",
        "    plt.imshow(tg,cmap=plt.cm.binary)\r\n",
        "    ax.title.set_text(class_label[i-1])\r\n",
        "plt.show()"
      ],
      "execution_count": 10,
      "outputs": [
        {
          "output_type": "display_data",
          "data": {
            "image/png": "[encoded data removed]",
            "text/plain": [
              "<Figure size 1080x1080 with 10 Axes>"
            ]
          },
          "metadata": {
            "tags": [],
            "needs_background": "light"
          }
        }
      ]
    },
    {
      "cell_type": "code",
      "metadata": {
        "colab": {
          "base_uri": "https://localhost:8080/"
        },
        "id": "juQeHp3SAsbY",
        "outputId": "8d2253c9-444b-4732-dddf-68a336742bdd"
      },
      "source": [
        "trainX=[train_X[i].flatten() for i in range(len(train_X))]\r\n",
        "print(np.shape(trainX))\r\n",
        "print(np.shape(trainY))"
      ],
      "execution_count": 11,
      "outputs": [
        {
          "output_type": "stream",
          "text": [
            "(60000, 784)\n",
            "(60000,)\n"
          ],
          "name": "stdout"
        }
      ]
    },
    {
      "cell_type": "code",
      "metadata": {
        "colab": {
          "base_uri": "https://localhost:8080/"
        },
        "id": "csMgFD_3AvI9",
        "outputId": "0237f067-20f3-4524-f7c7-231f5ac41e7b"
      },
      "source": [
        "testX=[test_X[i].flatten() for i in range(len(test_X))]\r\n",
        "print(np.shape(testX))\r\n",
        "print(np.shape(testY))"
      ],
      "execution_count": 12,
      "outputs": [
        {
          "output_type": "stream",
          "text": [
            "(10000, 784)\n",
            "(10000,)\n"
          ],
          "name": "stdout"
        }
      ]
    },
    {
      "cell_type": "code",
      "metadata": {
        "colab": {
          "base_uri": "https://localhost:8080/"
        },
        "id": "c1skcXHlAxdT",
        "outputId": "b1594a62-e112-4fed-8c26-e5245a6ae8d8"
      },
      "source": [
        "train_samples=len(trainX)\r\n",
        "test_samples=len(testX)\r\n",
        "xlen=len(trainX[0])\r\n",
        "print(xlen)"
      ],
      "execution_count": 13,
      "outputs": [
        {
          "output_type": "stream",
          "text": [
            "784\n"
          ],
          "name": "stdout"
        }
      ]
    },
    {
      "cell_type": "code",
      "metadata": {
        "id": "3jH5TuNEA1hw"
      },
      "source": [
        "def initialize_weights(n_input, n_hidden_layer, n_output,neurons_hl):\r\n",
        "    W = list()\r\n",
        "    W.append([[np.random.normal() for j in range(n_input)]for i in range(neurons_hl)])\r\n",
        "    for i in range(n_hidden_layer-1):\r\n",
        "        W.append([[np.random.normal() for j in range(neurons_hl)]for i in range(neurons_hl)])\r\n",
        "    W.append([[np.random.normal() for j in range(neurons_hl)]for i in range(n_output)])\r\n",
        "    return W"
      ],
      "execution_count": 15,
      "outputs": []
    },
    {
      "cell_type": "code",
      "metadata": {
        "id": "W6_c8oCdA6Gx"
      },
      "source": [
        "def initialize_bias(n_input, n_hidden_layer, n_output,neurons_hl):\r\n",
        "    B=list()\r\n",
        "    for i in range(n_hidden_layer):\r\n",
        "        B.append([np.random.normal() for i in range(neurons_hl)])\r\n",
        "    B.append([np.random.normal() for i in range(n_output)])\r\n",
        "    return B"
      ],
      "execution_count": 17,
      "outputs": []
    },
    {
      "cell_type": "code",
      "metadata": {
        "id": "0KQdIvvaA-YN"
      },
      "source": [
        "def sigmoid(b):\r\n",
        "  a=np.array(b,dtype=np.float128)\r\n",
        "  h=list()\r\n",
        "  for el in a:\r\n",
        "    h.append(1/(1+np.exp(-el)))\r\n",
        "  return h"
      ],
      "execution_count": 18,
      "outputs": []
    },
    {
      "cell_type": "code",
      "metadata": {
        "id": "EqDzuIjOBAWF"
      },
      "source": [
        "def softmax(b):\r\n",
        "  a=np.array(b,dtype=np.float128)\r\n",
        "  z = a - max(a)\r\n",
        "  h=list()\r\n",
        "  sum=0\r\n",
        "  for el in z:\r\n",
        "    sum+=np.exp(el)\r\n",
        "  for el in z:\r\n",
        "    h.append(np.exp(el)/sum)\r\n",
        "  return h"
      ],
      "execution_count": 19,
      "outputs": []
    },
    {
      "cell_type": "code",
      "metadata": {
        "id": "uO1x04juBChq"
      },
      "source": [
        "def feed_forward(input,W,B,L):\r\n",
        "    H=list()\r\n",
        "    A=list()\r\n",
        "    H.append(input)\r\n",
        "    A.append([0])\r\n",
        "    h=input\r\n",
        "    for i in range(1,L):\r\n",
        "        a=B[i-1]+np.matmul(W[i-1],H[i-1])\r\n",
        "       # print(a)\r\n",
        "        A.append(a)\r\n",
        "        h=sigmoid(a)\r\n",
        "       # print(h)\r\n",
        "        H.append(h)\r\n",
        "    a=B[L-1]+np.matmul(W[L-1],H[L-1])\r\n",
        "    A.append(a)\r\n",
        "   # print(a)\r\n",
        "    hL=softmax(a)\r\n",
        "   # print(hL)\r\n",
        "    H.append(hL)\r\n",
        "    return H,A,hL"
      ],
      "execution_count": 20,
      "outputs": []
    },
    {
      "cell_type": "code",
      "metadata": {
        "id": "T6tGjButLPe8"
      },
      "source": [
        "def cmp(e):\r\n",
        "  g=1/(1+np.exp(-e))\r\n",
        "  return g*(1-g)"
      ],
      "execution_count": 21,
      "outputs": []
    },
    {
      "cell_type": "code",
      "metadata": {
        "id": "tQOAGPdFLSqd"
      },
      "source": [
        "def diff_sigmoid(a):\r\n",
        "    res=list()\r\n",
        "    for el in a:\r\n",
        "      res.append(cmp(el))\r\n",
        "    return res"
      ],
      "execution_count": 22,
      "outputs": []
    },
    {
      "cell_type": "code",
      "metadata": {
        "id": "-f_HxQWHLWSz"
      },
      "source": [
        "def back_propogation(H,A,y_hat,label,W):\r\n",
        "    W_grad=list()\r\n",
        "    B_grad=list()\r\n",
        "    one_hot_y=np.zeros(K)\r\n",
        "    one_hot_y[label]+=1\r\n",
        "    ak_grad = y_hat-one_hot_y\r\n",
        "    for k in range(L,0,-1):\r\n",
        "        w_grad=np.matmul(np.matrix(ak_grad).T,np.matrix(H[k-1]))\r\n",
        "        W_grad.append(w_grad)\r\n",
        "        B_grad.append(ak_grad)\r\n",
        "        if k != 1:\r\n",
        "            h_grad=np.matmul(np.transpose(W[k-1]),ak_grad)\r\n",
        "            ak_grad=np.multiply(h_grad,diff_sigmoid(A[k-1]))\r\n",
        "    return W_grad,B_grad"
      ],
      "execution_count": 23,
      "outputs": []
    },
    {
      "cell_type": "code",
      "metadata": {
        "id": "BILrXgeGLbpA"
      },
      "source": [
        "eta=0.0001"
      ],
      "execution_count": 24,
      "outputs": []
    },
    {
      "cell_type": "code",
      "metadata": {
        "id": "fhegrOjOLdv4"
      },
      "source": [
        "def adam():\r\n",
        "    t,e=0,0\r\n",
        "    W= initialize_weights(xlen,L-1,K,N)\r\n",
        "    B= initialize_bias(xlen,L-1,K,N)\r\n",
        "    loss=list()\r\n",
        "    points=0\r\n",
        "    error=0.0\r\n",
        "    epsilon=1e-10\r\n",
        "    beta1=0.9\r\n",
        "    beta2=0.999\r\n",
        "    wgrad=list()\r\n",
        "    bgrad=list()\r\n",
        "    for l in range(L):\r\n",
        "        wgrad.append(np.zeros(shape=np.shape(W[l])).tolist())\r\n",
        "        bgrad.append(np.zeros(shape=np.shape(B[l])).tolist())\r\n",
        "    v_w=list()\r\n",
        "    v_b=list()\r\n",
        "    for l in range(L):\r\n",
        "        v_w.append(np.zeros(shape=np.shape(W[l])).tolist())\r\n",
        "        v_b.append(np.zeros(shape=np.shape(B[l])).tolist())\r\n",
        "    m_w=list()\r\n",
        "    m_b=list()\r\n",
        "    for l in range(L):\r\n",
        "        m_w.append(np.zeros(shape=np.shape(W[l])).tolist())\r\n",
        "        m_b.append(np.zeros(shape=np.shape(B[l])).tolist())\r\n",
        "    while (e<epoch):\r\n",
        "        for i in range(train_samples):\r\n",
        "            H,A,y_hat=feed_forward(trainX[i],W,B,L)\r\n",
        "            error+=(-math.log(y_hat[trainY[i]]))\r\n",
        "            W_grad,B_grad=back_propogation(H,A,y_hat,trainY[i],W)\r\n",
        "            W_grad=W_grad[::-1]\r\n",
        "            B_grad=B_grad[::-1]\r\n",
        "            for l in range(L):\r\n",
        "                wgrad[l]=(np.matrix(wgrad[l])+np.matrix(W_grad[l])).tolist()\r\n",
        "                bgrad[l]=(bgrad[l]+np.multiply(1,B_grad[l])).tolist()\r\n",
        "            points+=1\r\n",
        "            if(points%batch_size==0):\r\n",
        "                t+=1\r\n",
        "                points=0\r\n",
        "                loss.append(error/batch_size)\r\n",
        "                error=0.0\r\n",
        "                for l in range(L):\r\n",
        "                    m_w[l]=(np.multiply(beta1,m_w[l])+np.multiply((1-beta1),wgrad[l])).tolist()\r\n",
        "                    mwe=(np.divide(m_w[l],(1-(beta1**t)))).tolist()\r\n",
        "                    v_w[l]=(np.multiply(beta2,v_w[l])+np.multiply((1-beta2),np.square(wgrad[l]))).tolist()\r\n",
        "                    vwe=(np.divide(v_w[l],(1-(beta2**t)))).tolist()\r\n",
        "                    tmp=vwe.copy()\r\n",
        "                    new_t=np.add(epsilon,tmp).tolist()\r\n",
        "                    rl=np.reciprocal([[float(j) for j in i] for i in np.sqrt(new_t)]).tolist()\r\n",
        "                    W[l]=(W[l]-np.multiply(mwe,np.multiply(eta,rl))).tolist()\r\n",
        "                    m_b[l]=(np.multiply(beta1,m_b[l])+np.multiply((1-beta1),bgrad[l])).tolist()\r\n",
        "                    mbe=(np.divide(m_b[l],(1-(beta1**t)))).tolist()\r\n",
        "                    v_b[l]=(np.multiply(beta2,v_b[l])+np.multiply((1-beta2),np.square(bgrad[l]))).tolist()\r\n",
        "                    vbe=(np.divide(v_b[l],(1-(beta2**t)))).tolist()\r\n",
        "                    tmp1=vbe.copy()\r\n",
        "                    new_t1=np.add(epsilon,tmp1).tolist()\r\n",
        "                    rl1=np.reciprocal([float(i) for i in np.sqrt(new_t1)]).tolist()\r\n",
        "                    B[l]=np.subtract(B[l],np.multiply(mbe,np.multiply(eta,rl1))).tolist()              \r\n",
        "                wgrad=list()\r\n",
        "                bgrad=list()\r\n",
        "                for l in range(L):\r\n",
        "                    wgrad.append(np.zeros(shape=np.shape(W[l])).tolist())\r\n",
        "                    bgrad.append(np.zeros(shape=np.shape(B[l])).tolist()) \r\n",
        "        e=e+1\r\n",
        "        print('Epoch',e)\r\n",
        "    return W,B,loss"
      ],
      "execution_count": 25,
      "outputs": []
    },
    {
      "cell_type": "code",
      "metadata": {
        "id": "W10isvL0Azjo"
      },
      "source": [
        "L=3   #No of Layers\r\n",
        "N=32  #size of each hidden layer\r\n",
        "K=10  #No of classes\r\n",
        "epoch=5 \r\n",
        "batch_size=128 "
      ],
      "execution_count": 33,
      "outputs": []
    },
    {
      "cell_type": "code",
      "metadata": {
        "colab": {
          "base_uri": "https://localhost:8080/"
        },
        "id": "jaCMbv41MmqG",
        "outputId": "32a65f44-94d1-4ab9-f0e5-5140eb4a741d"
      },
      "source": [
        "W_r,B_r,loss=adam()"
      ],
      "execution_count": 27,
      "outputs": [
        {
          "output_type": "stream",
          "text": [
            "Epoch 1\n",
            "Epoch 2\n",
            "Epoch 3\n",
            "Epoch 4\n",
            "Epoch 5\n"
          ],
          "name": "stdout"
        }
      ]
    },
    {
      "cell_type": "code",
      "metadata": {
        "colab": {
          "base_uri": "https://localhost:8080/",
          "height": 299
        },
        "id": "rsvhE5H6LhBW",
        "outputId": "74b6ec1f-4c82-4080-ef5e-621f3066ed92"
      },
      "source": [
        "plt.plot(np.arange(1,len(loss)+1),loss)\r\n",
        "plt.title('Train Loss- Adam')"
      ],
      "execution_count": 31,
      "outputs": [
        {
          "output_type": "execute_result",
          "data": {
            "text/plain": [
              "Text(0.5, 1.0, 'Train Loss- Adam')"
            ]
          },
          "metadata": {
            "tags": []
          },
          "execution_count": 31
        },
        {
          "output_type": "display_data",
          "data": {
            "image/png": "[encoded data removed]",
            "text/plain": [
              "<Figure size 432x288 with 1 Axes>"
            ]
          },
          "metadata": {
            "tags": [],
            "needs_background": "light"
          }
        }
      ]
    },
    {
      "cell_type": "code",
      "metadata": {
        "id": "TdBh_Z5oLmMS"
      },
      "source": [
        "#Prediction\r\n",
        "valid=0\r\n",
        "predict=[]\r\n",
        "for i in range(test_samples):\r\n",
        "    H,A,y_hat = feed_forward(testX[i],W_r,B_r,L)\r\n",
        "    class_predict = y_hat.index(max(y_hat))\r\n",
        "    predict.append(class_predict)\r\n",
        "    if(class_predict==testY[i]):\r\n",
        "      valid+=1"
      ],
      "execution_count": 32,
      "outputs": []
    },
    {
      "cell_type": "code",
      "metadata": {
        "colab": {
          "base_uri": "https://localhost:8080/"
        },
        "id": "NynUbNI3ZsYF",
        "outputId": "7771e4b7-d020-42ac-c9c9-a2112aad458f"
      },
      "source": [
        "valid"
      ],
      "execution_count": 34,
      "outputs": [
        {
          "output_type": "execute_result",
          "data": {
            "text/plain": [
              "5521"
            ]
          },
          "metadata": {
            "tags": []
          },
          "execution_count": 34
        }
      ]
    }
  ]
}