{
  "nbformat": 4,
  "nbformat_minor": 0,
  "metadata": {
    "colab": {
      "name": "Que2.ipynb",
      "provenance": [],
      "collapsed_sections": [],
      "include_colab_link": true
    },
    "kernelspec": {
      "name": "python3",
      "display_name": "Python 3"
    }
  },
  "cells": [
    {
      "cell_type": "markdown",
      "metadata": {
        "id": "view-in-github",
        "colab_type": "text"
      },
      "source": [
        "<a href=\"https://colab.research.google.com/github/cs20m016/cs6910-Assignment-1/blob/main/Que2.ipynb\" target=\"_parent\"><img src=\"https://colab.research.google.com/assets/colab-badge.svg\" alt=\"Open In Colab\"/></a>"
      ]
    },
    {
      "cell_type": "code",
      "metadata": {
        "id": "Hl7y_jrMRKdN"
      },
      "source": [
        "import numpy as np\r\n",
        "import matplotlib.pyplot as plt\r\n",
        "import pandas as pd\r\n",
        "import random"
      ],
      "execution_count": 1,
      "outputs": []
    },
    {
      "cell_type": "code",
      "metadata": {
        "id": "6nNWmCVoTj6v"
      },
      "source": [
        "from keras.datasets import fashion_mnist"
      ],
      "execution_count": 2,
      "outputs": []
    },
    {
      "cell_type": "code",
      "metadata": {
        "id": "Bi_Sb0I_Tj0z",
        "colab": {
          "base_uri": "https://localhost:8080/"
        },
        "outputId": "ebd12336-5cd4-4753-d227-8e894ee4d1fd"
      },
      "source": [
        "(train_X,train_Y), (test_X,test_Y)= fashion_mnist.load_data()"
      ],
      "execution_count": 3,
      "outputs": [
        {
          "output_type": "stream",
          "text": [
            "Downloading data from https://storage.googleapis.com/tensorflow/tf-keras-datasets/train-labels-idx1-ubyte.gz\n",
            "32768/29515 [=================================] - 0s 0us/step\n",
            "Downloading data from https://storage.googleapis.com/tensorflow/tf-keras-datasets/train-images-idx3-ubyte.gz\n",
            "26427392/26421880 [==============================] - 0s 0us/step\n",
            "Downloading data from https://storage.googleapis.com/tensorflow/tf-keras-datasets/t10k-labels-idx1-ubyte.gz\n",
            "8192/5148 [===============================================] - 0s 0us/step\n",
            "Downloading data from https://storage.googleapis.com/tensorflow/tf-keras-datasets/t10k-images-idx3-ubyte.gz\n",
            "4423680/4422102 [==============================] - 0s 0us/step\n"
          ],
          "name": "stdout"
        }
      ]
    },
    {
      "cell_type": "code",
      "metadata": {
        "colab": {
          "base_uri": "https://localhost:8080/"
        },
        "id": "nPCY-F81Tjx5",
        "outputId": "2ccaf747-fbcb-4659-8e9e-e8f4ecc48038"
      },
      "source": [
        "train_X.shape, train_Y.shape"
      ],
      "execution_count": 4,
      "outputs": [
        {
          "output_type": "execute_result",
          "data": {
            "text/plain": [
              "((60000, 28, 28), (60000,))"
            ]
          },
          "metadata": {
            "tags": []
          },
          "execution_count": 4
        }
      ]
    },
    {
      "cell_type": "code",
      "metadata": {
        "id": "WOvTxrV-Tjnd"
      },
      "source": [
        "train_X = train_X[:]/255\r\n",
        "test_Y = test_Y[:]/255"
      ],
      "execution_count": 5,
      "outputs": []
    },
    {
      "cell_type": "code",
      "metadata": {
        "id": "o25YyGvVmoB_"
      },
      "source": [
        "train_X=[train_X[i].flatten() for i in range(len(train_X))]\r\n",
        "test_X=[test_X[i].flatten() for i in range(len(test_X))]"
      ],
      "execution_count": 6,
      "outputs": []
    },
    {
      "cell_type": "code",
      "metadata": {
        "colab": {
          "base_uri": "https://localhost:8080/"
        },
        "id": "hULrbWpnnTWu",
        "outputId": "0a2035e5-7352-42f3-d02d-c13e8affa978"
      },
      "source": [
        "np.shape(train_X), np.shape(train_Y), np.shape(test_X), np.shape(test_Y)"
      ],
      "execution_count": 7,
      "outputs": [
        {
          "output_type": "execute_result",
          "data": {
            "text/plain": [
              "((60000, 784), (60000,), (10000, 784), (10000,))"
            ]
          },
          "metadata": {
            "tags": []
          },
          "execution_count": 7
        }
      ]
    },
    {
      "cell_type": "code",
      "metadata": {
        "id": "sED-2jH13oR4"
      },
      "source": [
        "#N: number of inputs\r\n",
        "#N = input()\r\n",
        "N = 5\r\n",
        "#L: number of layers\r\n",
        "#L = input()\r\n",
        "L = 2\r\n",
        "#H = number of hidden layers\r\n",
        "Hid = L-1"
      ],
      "execution_count": 17,
      "outputs": []
    },
    {
      "cell_type": "code",
      "metadata": {
        "id": "VojqwswC0spd"
      },
      "source": [
        "def sigmoid(a):\r\n",
        "  h = []\r\n",
        "  for a1 in a:\r\n",
        "    h.append(1.0/(1.0 + np.exp(-a1)))\r\n",
        "  return h"
      ],
      "execution_count": 18,
      "outputs": []
    },
    {
      "cell_type": "code",
      "metadata": {
        "id": "vz8yFN7KachD"
      },
      "source": [
        "def softmax(a):\r\n",
        "  y = []\r\n",
        "  sum = 0\r\n",
        "  for a1 in a:\r\n",
        "    sum+= np.exp(a1)\r\n",
        "  for a1 in a:\r\n",
        "    y.append(np.exp(a1)/sum)\r\n",
        "  return y"
      ],
      "execution_count": 19,
      "outputs": []
    },
    {
      "cell_type": "code",
      "metadata": {
        "id": "lFv1lhLwmEQ4"
      },
      "source": [
        "def initialize_weights(n_input, n_hidden_layer, n_output,neurons_hl):\r\n",
        "    W = list()\r\n",
        "    W.append([[random.random() for j in range(n_input)]for i in range(neurons_hl)])\r\n",
        "    for i in range(n_hidden_layer-1):\r\n",
        "        W.append([[random.random() for j in range(neurons_hl)]for i in range(neurons_hl)])\r\n",
        "    W.append([[random.random() for j in range(neurons_hl)]for i in range(n_output)])\r\n",
        "    return W\r\n",
        "W=initialize_weights(len(train_X[0]),Hid,10,N)"
      ],
      "execution_count": 20,
      "outputs": []
    },
    {
      "cell_type": "code",
      "metadata": {
        "id": "ndolgSz_mEE1"
      },
      "source": [
        "def initialize_bias(n_input, n_hidden_layer, n_output,n_neurons):\r\n",
        "    b=list()\r\n",
        "    for i in range(n_hidden_layer):\r\n",
        "        b.append([random.random() for i in range(n_neurons)])\r\n",
        "    b.append([random.random() for i in range(n_output)])\r\n",
        "    return b\r\n",
        "b = initialize_bias(len(train_X[0]),L-1,10,N)"
      ],
      "execution_count": 21,
      "outputs": []
    },
    {
      "cell_type": "code",
      "metadata": {
        "id": "Lz1yvps-VRiB"
      },
      "source": [
        "def feed_forward_prop(input,W,b,L):\r\n",
        "  H=[]\r\n",
        "  A=[]\r\n",
        "  h=input\r\n",
        "  H.append(h)\r\n",
        "  for i in range(1,L):\r\n",
        "      a=b[i-1]+np.matmul(W[i-1],h)\r\n",
        "      A.append(a)\r\n",
        "      h=softmax(a)\r\n",
        "      H.append(h)\r\n",
        "  aL=b[L-1]+np.matmul(W[L-1],h)\r\n",
        "  A.append(aL)\r\n",
        "  hL=softmax(aL)\r\n",
        "  H.append(hL)\r\n",
        "  y_hat = hL\r\n",
        "  return H,A,y_hat"
      ],
      "execution_count": 22,
      "outputs": []
    },
    {
      "cell_type": "code",
      "metadata": {
        "id": "8s6gvlIiVReo"
      },
      "source": [
        "Y_pred = list()\r\n",
        "for x in train_X:\r\n",
        "  H,A,y_hat = feed_forward_prop(x,W,b,L)\r\n",
        "  Y_pred.append(y_hat)"
      ],
      "execution_count": 23,
      "outputs": []
    },
    {
      "cell_type": "code",
      "metadata": {
        "colab": {
          "base_uri": "https://localhost:8080/"
        },
        "id": "AznDo-x7CvYm",
        "outputId": "5c90afed-8cb8-401c-b2e3-eb1cbca3cc3c"
      },
      "source": [
        "Y_pred[0], Y_pred[2], Y_pred[6], Y_pred[10], Y_pred[40] "
      ],
      "execution_count": 24,
      "outputs": [
        {
          "output_type": "execute_result",
          "data": {
            "text/plain": [
              "([0.0912893740859915,\n",
              "  0.07370943808093135,\n",
              "  0.0595903735662883,\n",
              "  0.05901861571162223,\n",
              "  0.1535146614687963,\n",
              "  0.1871951510375568,\n",
              "  0.15265365750791648,\n",
              "  0.06552201308236652,\n",
              "  0.07895626010404552,\n",
              "  0.07855045535448509],\n",
              " [0.07483280192743733,\n",
              "  0.11415461603555863,\n",
              "  0.0628673248080711,\n",
              "  0.06869197761883677,\n",
              "  0.12385930257090166,\n",
              "  0.15814923558422642,\n",
              "  0.12804340863762229,\n",
              "  0.08986034548471686,\n",
              "  0.09474887967644623,\n",
              "  0.08479210765618284],\n",
              " [0.07556963693045778,\n",
              "  0.12422558152191783,\n",
              "  0.06158888911023541,\n",
              "  0.06841009588036233,\n",
              "  0.11486950066321808,\n",
              "  0.16020018132247146,\n",
              "  0.12611791445431864,\n",
              "  0.0917138448585737,\n",
              "  0.0939514265820447,\n",
              "  0.08335292867639998],\n",
              " [0.07250556446696957,\n",
              "  0.09142059407674391,\n",
              "  0.06573972460050874,\n",
              "  0.06597178928170173,\n",
              "  0.14695518913726413,\n",
              "  0.1553634823993631,\n",
              "  0.13533435374775452,\n",
              "  0.08107286303045973,\n",
              "  0.0978517165348555,\n",
              "  0.08778472272437914],\n",
              " [0.07268463076150168,\n",
              "  0.09620631981388657,\n",
              "  0.06531922606240503,\n",
              "  0.06649711120036059,\n",
              "  0.14169444483013025,\n",
              "  0.1556541269572753,\n",
              "  0.1337713600513854,\n",
              "  0.08294073226751919,\n",
              "  0.09783305324907492,\n",
              "  0.08739899480646114])"
            ]
          },
          "metadata": {
            "tags": []
          },
          "execution_count": 24
        }
      ]
    },
    {
      "cell_type": "code",
      "metadata": {
        "id": "OzoecUaWC8XW"
      },
      "source": [
        "([0.09908416181149046,\r\n",
        "  0.08166794436789868,\r\n",
        "  0.1023464723309272,\r\n",
        "  0.05636692188255534,\r\n",
        "  0.0846347902477419,\r\n",
        "  0.1081422920525146,\r\n",
        "  0.14117706979198474,\r\n",
        "  0.09514294466601182,\r\n",
        "  0.13587915173910883,\r\n",
        "  0.09555825110976643],\r\n",
        " [0.10149591193847354,\r\n",
        "  0.0835495085914028,\r\n",
        "  0.10668399433184333,\r\n",
        "  0.05588064350112188,\r\n",
        "  0.08776579982807904,\r\n",
        "  0.10777350524147893,\r\n",
        "  0.1379726195050736,\r\n",
        "  0.09414062039692242,\r\n",
        "  0.13191549210285428,\r\n",
        "  0.09282190456275022],\r\n",
        " [0.0999066837098212,\r\n",
        "  0.08228481583603986,\r\n",
        "  0.10380403494493452,\r\n",
        "  0.056201546148865855,\r\n",
        "  0.08568516381757192,\r\n",
        "  0.10803045143792228,\r\n",
        "  0.14011763991925677,\r\n",
        "  0.09481999190640347,\r\n",
        "  0.13452171822199432,\r\n",
        "  0.09462795405718977],\r\n",
        " [0.1003896786601556,\r\n",
        "  0.08266143674080544,\r\n",
        "  0.10467100863986209,\r\n",
        "  0.05610460766315599,\r\n",
        "  0.08631122526152187,\r\n",
        "  0.10795755508089439,\r\n",
        "  0.13947646501785746,\r\n",
        "  0.09462005165564244,\r\n",
        "  0.13372796242381998,\r\n",
        "  0.09408000885628477],\r\n",
        " [0.10364704130141367,\r\n",
        "  0.08552065699885206,\r\n",
        "  0.11075609393170435,\r\n",
        "  0.055453153096675395,\r\n",
        "  0.09073619387195263,\r\n",
        "  0.10731364473125449,\r\n",
        "  0.13475331113421307,\r\n",
        "  0.09305493592428167,\r\n",
        "  0.12842516063641712,\r\n",
        "  0.0903398083732356])"
      ],
      "execution_count": null,
      "outputs": []
    }
  ]
}