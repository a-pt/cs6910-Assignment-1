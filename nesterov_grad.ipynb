{
  "nbformat": 4,
  "nbformat_minor": 0,
  "metadata": {
    "colab": {
      "name": "nesterov_grad.ipynb",
      "provenance": [],
      "authorship_tag": "ABX9TyO+QE/EG8h7lCCpGD41FWfk",
      "include_colab_link": true
    },
    "kernelspec": {
      "name": "python3",
      "display_name": "Python 3"
    }
  },
  "cells": [
    {
      "cell_type": "markdown",
      "metadata": {
        "id": "view-in-github",
        "colab_type": "text"
      },
      "source": [
        "<a href=\"https://colab.research.google.com/github/cs20m016/cs6910-Assignment-1/blob/main/nesterov_grad.ipynb\" target=\"_parent\"><img src=\"https://colab.research.google.com/assets/colab-badge.svg\" alt=\"Open In Colab\"/></a>"
      ]
    },
    {
      "cell_type": "code",
      "metadata": {
        "id": "gZBPqGsiYZVy"
      },
      "source": [
        "import numpy as np\r\n",
        "import matplotlib.pyplot as plt\r\n",
        "import pandas as pd\r\n",
        "import random\r\n",
        "import math"
      ],
      "execution_count": 25,
      "outputs": []
    },
    {
      "cell_type": "code",
      "metadata": {
        "id": "tdAfXVVgYik7"
      },
      "source": [
        "from keras.datasets import fashion_mnist"
      ],
      "execution_count": 26,
      "outputs": []
    },
    {
      "cell_type": "code",
      "metadata": {
        "id": "-eIG47GRYihk"
      },
      "source": [
        "(train_X,train_Y), (test_X,test_Y)= fashion_mnist.load_data()"
      ],
      "execution_count": 27,
      "outputs": []
    },
    {
      "cell_type": "code",
      "metadata": {
        "colab": {
          "base_uri": "https://localhost:8080/"
        },
        "id": "1Yl9_0eXYie2",
        "outputId": "9272acf8-8c7f-4696-ec9d-2d4bf3a3dc9e"
      },
      "source": [
        "train_X.shape, train_Y.shape"
      ],
      "execution_count": 28,
      "outputs": [
        {
          "output_type": "execute_result",
          "data": {
            "text/plain": [
              "((60000, 28, 28), (60000,))"
            ]
          },
          "metadata": {
            "tags": []
          },
          "execution_count": 28
        }
      ]
    },
    {
      "cell_type": "code",
      "metadata": {
        "id": "MV3qpiIYYib-"
      },
      "source": [
        "train_X = train_X[:]/255\r\n",
        "test_Y = test_Y[:]/255"
      ],
      "execution_count": 29,
      "outputs": []
    },
    {
      "cell_type": "code",
      "metadata": {
        "id": "vzxL3g_5YiZ3"
      },
      "source": [
        "train_X=[train_X[i].flatten() for i in range(len(train_X))]\r\n",
        "test_X=[test_X[i].flatten() for i in range(len(test_X))]"
      ],
      "execution_count": 30,
      "outputs": []
    },
    {
      "cell_type": "code",
      "metadata": {
        "colab": {
          "base_uri": "https://localhost:8080/"
        },
        "id": "HRsxkSaKYiXN",
        "outputId": "0d5e7289-0987-4acd-a5f7-07105e33dd54"
      },
      "source": [
        "np.shape(train_X), np.shape(train_Y), np.shape(test_X), np.shape(test_Y)"
      ],
      "execution_count": 31,
      "outputs": [
        {
          "output_type": "execute_result",
          "data": {
            "text/plain": [
              "((60000, 784), (60000,), (10000, 784), (10000,))"
            ]
          },
          "metadata": {
            "tags": []
          },
          "execution_count": 31
        }
      ]
    },
    {
      "cell_type": "code",
      "metadata": {
        "colab": {
          "base_uri": "https://localhost:8080/"
        },
        "id": "jVPhDjg-YiUf",
        "outputId": "e1092244-a2ab-4daf-d1fe-3cb7aab5ffce"
      },
      "source": [
        "train_samples=len(train_X)\r\n",
        "test_samples=len(test_X)\r\n",
        "xlen=len(train_X[0])\r\n",
        "print(xlen)"
      ],
      "execution_count": 32,
      "outputs": [
        {
          "output_type": "stream",
          "text": [
            "784\n"
          ],
          "name": "stdout"
        }
      ]
    },
    {
      "cell_type": "code",
      "metadata": {
        "id": "QuOjNjDJYiSI"
      },
      "source": [
        "#N: number of inputs\r\n",
        "#N = input()\r\n",
        "N = 5\r\n",
        "#L: number of layers\r\n",
        "#L = input()\r\n",
        "L = 3\r\n",
        "#H = number of hidden layers\r\n",
        "Hid = L-1\r\n",
        "#K = number of classes\r\n",
        "K = 10"
      ],
      "execution_count": 33,
      "outputs": []
    },
    {
      "cell_type": "code",
      "metadata": {
        "id": "kr0W2ONmYxVM"
      },
      "source": [
        "def sigmoid(a):\r\n",
        "  h = []\r\n",
        "  for a1 in a:\r\n",
        "    h.append(1.0/(1.0 + np.exp(-a1)))\r\n",
        "  return h"
      ],
      "execution_count": 34,
      "outputs": []
    },
    {
      "cell_type": "code",
      "metadata": {
        "id": "byp_2jfMYxR3"
      },
      "source": [
        "def softmax(a):\r\n",
        "  y = []\r\n",
        "  sum = 0\r\n",
        "  for a1 in a:\r\n",
        "    sum+= np.exp(a1)\r\n",
        "  for a1 in a:\r\n",
        "    y.append(np.exp(a1)/sum)\r\n",
        "  return y"
      ],
      "execution_count": 35,
      "outputs": []
    },
    {
      "cell_type": "code",
      "metadata": {
        "id": "h0kFVcEdYxPN"
      },
      "source": [
        "def initialize_weights(n_input, n_hidden_layer, n_output,neurons_hl):\r\n",
        "    W = list()\r\n",
        "    W.append([[random.random() for j in range(n_input)]for i in range(neurons_hl)])\r\n",
        "    for i in range(n_hidden_layer-1):\r\n",
        "        W.append([[random.random() for j in range(neurons_hl)]for i in range(neurons_hl)])\r\n",
        "    W.append([[random.random() for j in range(neurons_hl)]for i in range(n_output)])\r\n",
        "    return W\r\n",
        "W=initialize_weights(len(train_X[0]),Hid,10,N)"
      ],
      "execution_count": 36,
      "outputs": []
    },
    {
      "cell_type": "code",
      "metadata": {
        "id": "XCLxCq0wYxNB"
      },
      "source": [
        "def initialize_bias(n_input, n_hidden_layer, n_output,n_neurons):\r\n",
        "    b=list()\r\n",
        "    for i in range(n_hidden_layer):\r\n",
        "        b.append([random.random() for i in range(n_neurons)])\r\n",
        "    b.append([random.random() for i in range(n_output)])\r\n",
        "    return b\r\n",
        "b = initialize_bias(len(train_X[0]),L-1,10,N)"
      ],
      "execution_count": 37,
      "outputs": []
    },
    {
      "cell_type": "code",
      "metadata": {
        "id": "H_qubTSRYxKn"
      },
      "source": [
        "def feed_forward_prop(input,W,b,L):\r\n",
        "  H=[]\r\n",
        "  A=[]\r\n",
        "  h=input\r\n",
        "  H.append(h)\r\n",
        "  A.append([0])\r\n",
        "  for i in range(1,L):\r\n",
        "      a=b[i-1]+np.matmul(W[i-1],h)\r\n",
        "      A.append(a)\r\n",
        "      h=sigmoid(a)\r\n",
        "      H.append(h)\r\n",
        "  aL=b[L-1]+np.matmul(W[L-1],h)\r\n",
        "  A.append(aL)\r\n",
        "  hL=softmax(aL)\r\n",
        "  H.append(hL)\r\n",
        "  y_hat = hL\r\n",
        "  return H,A,y_hat"
      ],
      "execution_count": 38,
      "outputs": []
    },
    {
      "cell_type": "code",
      "metadata": {
        "id": "fPcgssDTYxIh"
      },
      "source": [
        "def cmp(e):\r\n",
        "  g=1.0/(1.0 + np.exp(-e))\r\n",
        "  return g*(1-g)"
      ],
      "execution_count": 39,
      "outputs": []
    },
    {
      "cell_type": "code",
      "metadata": {
        "id": "THFJumZvY5U_"
      },
      "source": [
        "def diff_sigmoid(a):\r\n",
        "    res=[]\r\n",
        "    for el in a:\r\n",
        "      res.append(cmp(el))\r\n",
        "    return res"
      ],
      "execution_count": 40,
      "outputs": []
    },
    {
      "cell_type": "code",
      "metadata": {
        "id": "TWWc_1eJY5Rn"
      },
      "source": [
        "def back_propogation(H,A,y_hat,label):\r\n",
        "    W_grad=list()\r\n",
        "    B_grad=list()\r\n",
        "    one_hot_y=np.zeros(K)\r\n",
        "    one_hot_y[label]+=1\r\n",
        "    ak_grad = y_hat-one_hot_y\r\n",
        "    for k in range(L,0,-1):\r\n",
        "        w_grad=np.matmul(np.matrix(ak_grad).T,np.matrix(H[k-1]))\r\n",
        "        W_grad.append(w_grad)\r\n",
        "        B_grad.append(ak_grad)\r\n",
        "        if k != 1:\r\n",
        "            h_grad=np.matmul(np.transpose(W[k-1]),ak_grad)\r\n",
        "            ak_grad=np.multiply(h_grad,diff_sigmoid(A[k-1]))\r\n",
        "    return W_grad,B_grad\r\n",
        "    W_grad,B_grad=back_propogation(H,A,y_hat,train_Y[0])\r\n",
        "    W_grad=W_grad[::-1]\r\n",
        "    B_grad=B_grad[::-1]"
      ],
      "execution_count": 41,
      "outputs": []
    },
    {
      "cell_type": "code",
      "metadata": {
        "id": "ye6h0n2DY5PU"
      },
      "source": [
        "eta=0.001\r\n",
        "gamma = 0.9"
      ],
      "execution_count": 42,
      "outputs": []
    },
    {
      "cell_type": "code",
      "metadata": {
        "id": "4JNfUV0mY5Ls"
      },
      "source": [
        "def nesterov_accelerated_gradient_descent():\r\n",
        "    t=0\r\n",
        "    max_iterations=5\r\n",
        "    W= initialize_weights(xlen,L-1,K,N)\r\n",
        "    B= initialize_bias(xlen,L-1,K,N)\r\n",
        "    loss=list()\r\n",
        "    while (t<max_iterations):\r\n",
        "      for i in range(train_samples):\r\n",
        "        wgrad=list()\r\n",
        "        bgrad=list()\r\n",
        "        prev_vw=list()\r\n",
        "        prev_bw=list()\r\n",
        "        for l in range(L):\r\n",
        "          wgrad.append(np.zeros(shape=np.shape(W[l])).tolist())\r\n",
        "          bgrad.append(np.zeros(shape=np.shape(B[l])).tolist())\r\n",
        "          prev_vw.append(np.zeros(shape=np.shape(W[l])).tolist())\r\n",
        "          prev_bw.append(np.zeros(shape=np.shape(B[l])).tolist())\r\n",
        "          H,A,y_hat=feed_forward_prop(train_X[i],W,B,L)\r\n",
        "          prob_array = np.zeros(10)\r\n",
        "          prob_array[train_Y[i]]=1\r\n",
        "          sum = 0.0\r\n",
        "          for temp in range(len(y_hat)):\r\n",
        "            sum += -1*prob_array[temp]*math.log(y_hat[temp])\r\n",
        "          loss.append(sum)\r\n",
        "          W_grad,B_grad=back_propogation(H,A,y_hat,train_Y[i])\r\n",
        "          W_grad=W_grad[::-1]\r\n",
        "          B_grad=B_grad[::-1]\r\n",
        "\r\n",
        "        v_w = []\r\n",
        "        v_b = []\r\n",
        "        v_w.append(np.zeros(shape=np.shape(W[l])).tolist())\r\n",
        "        v_b.append(np.zeros(shape=np.shape(B[l])).tolist())\r\n",
        "        for l in range(L):\r\n",
        "          v_w.append(np.multiply(gamma,prev_vw[l])+np.multiply(eta,W_grad[l]).tolist())\r\n",
        "          v_b.append(np.multiply(gamma,prev_bw[l])+np.multiply(eta,B_grad[l]).tolist())\r\n",
        "          W[l]=(np.matrix(W[l])-np.matrix(v_w[l])).tolist()\r\n",
        "          B[l]=np.subtract(B[l],v_b[l]) \r\n",
        "          prev_vw[l] = v_w[l]\r\n",
        "          prev_bw[l] = v_b[l]\r\n",
        "\r\n",
        "      t=t+1\r\n",
        "      print('Epoch',t)\r\n",
        "    print (loss)\r\n",
        "    return W,B,loss"
      ],
      "execution_count": 47,
      "outputs": []
    },
    {
      "cell_type": "code",
      "metadata": {
        "colab": {
          "base_uri": "https://localhost:8080/",
          "height": 287
        },
        "id": "03UAK7fIY5J6",
        "outputId": "759b0a12-a843-4d1c-f871-a66e820bdaac"
      },
      "source": [
        "W_m,B_m,loss_m = nesterov_accelerated_gradient_descent()"
      ],
      "execution_count": 48,
      "outputs": [
        {
          "output_type": "error",
          "ename": "ValueError",
          "evalue": "ignored",
          "traceback": [
            "\u001b[0;31m---------------------------------------------------------------------------\u001b[0m",
            "\u001b[0;31mValueError\u001b[0m                                Traceback (most recent call last)",
            "\u001b[0;32m<ipython-input-48-05f07d0f50f9>\u001b[0m in \u001b[0;36m<module>\u001b[0;34m()\u001b[0m\n\u001b[0;32m----> 1\u001b[0;31m \u001b[0mW_m\u001b[0m\u001b[0;34m,\u001b[0m\u001b[0mB_m\u001b[0m\u001b[0;34m,\u001b[0m\u001b[0mloss_m\u001b[0m \u001b[0;34m=\u001b[0m \u001b[0mnesterov_accelerated_gradient_descent\u001b[0m\u001b[0;34m(\u001b[0m\u001b[0;34m)\u001b[0m\u001b[0;34m\u001b[0m\u001b[0;34m\u001b[0m\u001b[0m\n\u001b[0m",
            "\u001b[0;32m<ipython-input-47-76a03795f5bc>\u001b[0m in \u001b[0;36mnesterov_accelerated_gradient_descent\u001b[0;34m()\u001b[0m\n\u001b[1;32m     34\u001b[0m           \u001b[0mv_w\u001b[0m\u001b[0;34m.\u001b[0m\u001b[0mappend\u001b[0m\u001b[0;34m(\u001b[0m\u001b[0mnp\u001b[0m\u001b[0;34m.\u001b[0m\u001b[0mmultiply\u001b[0m\u001b[0;34m(\u001b[0m\u001b[0mgamma\u001b[0m\u001b[0;34m,\u001b[0m\u001b[0mprev_vw\u001b[0m\u001b[0;34m[\u001b[0m\u001b[0ml\u001b[0m\u001b[0;34m]\u001b[0m\u001b[0;34m)\u001b[0m\u001b[0;34m+\u001b[0m\u001b[0mnp\u001b[0m\u001b[0;34m.\u001b[0m\u001b[0mmultiply\u001b[0m\u001b[0;34m(\u001b[0m\u001b[0meta\u001b[0m\u001b[0;34m,\u001b[0m\u001b[0mW_grad\u001b[0m\u001b[0;34m[\u001b[0m\u001b[0ml\u001b[0m\u001b[0;34m]\u001b[0m\u001b[0;34m)\u001b[0m\u001b[0;34m.\u001b[0m\u001b[0mtolist\u001b[0m\u001b[0;34m(\u001b[0m\u001b[0;34m)\u001b[0m\u001b[0;34m)\u001b[0m\u001b[0;34m\u001b[0m\u001b[0;34m\u001b[0m\u001b[0m\n\u001b[1;32m     35\u001b[0m           \u001b[0mv_b\u001b[0m\u001b[0;34m.\u001b[0m\u001b[0mappend\u001b[0m\u001b[0;34m(\u001b[0m\u001b[0mnp\u001b[0m\u001b[0;34m.\u001b[0m\u001b[0mmultiply\u001b[0m\u001b[0;34m(\u001b[0m\u001b[0mgamma\u001b[0m\u001b[0;34m,\u001b[0m\u001b[0mprev_bw\u001b[0m\u001b[0;34m[\u001b[0m\u001b[0ml\u001b[0m\u001b[0;34m]\u001b[0m\u001b[0;34m)\u001b[0m\u001b[0;34m+\u001b[0m\u001b[0mnp\u001b[0m\u001b[0;34m.\u001b[0m\u001b[0mmultiply\u001b[0m\u001b[0;34m(\u001b[0m\u001b[0meta\u001b[0m\u001b[0;34m,\u001b[0m\u001b[0mB_grad\u001b[0m\u001b[0;34m[\u001b[0m\u001b[0ml\u001b[0m\u001b[0;34m]\u001b[0m\u001b[0;34m)\u001b[0m\u001b[0;34m.\u001b[0m\u001b[0mtolist\u001b[0m\u001b[0;34m(\u001b[0m\u001b[0;34m)\u001b[0m\u001b[0;34m)\u001b[0m\u001b[0;34m\u001b[0m\u001b[0;34m\u001b[0m\u001b[0m\n\u001b[0;32m---> 36\u001b[0;31m           \u001b[0mW\u001b[0m\u001b[0;34m[\u001b[0m\u001b[0ml\u001b[0m\u001b[0;34m]\u001b[0m\u001b[0;34m=\u001b[0m\u001b[0;34m(\u001b[0m\u001b[0mnp\u001b[0m\u001b[0;34m.\u001b[0m\u001b[0mmatrix\u001b[0m\u001b[0;34m(\u001b[0m\u001b[0mW\u001b[0m\u001b[0;34m[\u001b[0m\u001b[0ml\u001b[0m\u001b[0;34m]\u001b[0m\u001b[0;34m)\u001b[0m\u001b[0;34m-\u001b[0m\u001b[0mnp\u001b[0m\u001b[0;34m.\u001b[0m\u001b[0mmatrix\u001b[0m\u001b[0;34m(\u001b[0m\u001b[0mv_w\u001b[0m\u001b[0;34m[\u001b[0m\u001b[0ml\u001b[0m\u001b[0;34m]\u001b[0m\u001b[0;34m)\u001b[0m\u001b[0;34m)\u001b[0m\u001b[0;34m.\u001b[0m\u001b[0mtolist\u001b[0m\u001b[0;34m(\u001b[0m\u001b[0;34m)\u001b[0m\u001b[0;34m\u001b[0m\u001b[0;34m\u001b[0m\u001b[0m\n\u001b[0m\u001b[1;32m     37\u001b[0m           \u001b[0mB\u001b[0m\u001b[0;34m[\u001b[0m\u001b[0ml\u001b[0m\u001b[0;34m]\u001b[0m\u001b[0;34m=\u001b[0m\u001b[0mnp\u001b[0m\u001b[0;34m.\u001b[0m\u001b[0msubtract\u001b[0m\u001b[0;34m(\u001b[0m\u001b[0mB\u001b[0m\u001b[0;34m[\u001b[0m\u001b[0ml\u001b[0m\u001b[0;34m]\u001b[0m\u001b[0;34m,\u001b[0m\u001b[0mv_b\u001b[0m\u001b[0;34m[\u001b[0m\u001b[0ml\u001b[0m\u001b[0;34m]\u001b[0m\u001b[0;34m)\u001b[0m\u001b[0;34m\u001b[0m\u001b[0;34m\u001b[0m\u001b[0m\n\u001b[1;32m     38\u001b[0m           \u001b[0mprev_vw\u001b[0m\u001b[0;34m[\u001b[0m\u001b[0ml\u001b[0m\u001b[0;34m]\u001b[0m \u001b[0;34m=\u001b[0m \u001b[0mv_w\u001b[0m\u001b[0;34m[\u001b[0m\u001b[0ml\u001b[0m\u001b[0;34m]\u001b[0m\u001b[0;34m\u001b[0m\u001b[0;34m\u001b[0m\u001b[0m\n",
            "\u001b[0;31mValueError\u001b[0m: operands could not be broadcast together with shapes (5,784) (10,5) "
          ]
        }
      ]
    },
    {
      "cell_type": "code",
      "metadata": {
        "id": "lQPoZQ68Y5Hq"
      },
      "source": [
        ""
      ],
      "execution_count": null,
      "outputs": []
    }
  ]
}